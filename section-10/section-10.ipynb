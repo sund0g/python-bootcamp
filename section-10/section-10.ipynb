{
 "cells": [
  {
   "cell_type": "code",
   "execution_count": 1,
   "metadata": {},
   "outputs": [],
   "source": [
    "# Lesson 80"
   ]
  },
  {
   "cell_type": "code",
   "execution_count": 2,
   "metadata": {},
   "outputs": [],
   "source": [
    "# Creating an error condition to demonstrate error handling"
   ]
  },
  {
   "cell_type": "code",
   "execution_count": 17,
   "metadata": {},
   "outputs": [],
   "source": [
    "def add(n1, n2):\n",
    "    print(n1 + n2)"
   ]
  },
  {
   "cell_type": "code",
   "execution_count": 18,
   "metadata": {},
   "outputs": [],
   "source": [
    "number1 = 10"
   ]
  },
  {
   "cell_type": "code",
   "execution_count": 19,
   "metadata": {},
   "outputs": [
    {
     "name": "stdout",
     "output_type": "stream",
     "text": [
      "enter a number: 20\n"
     ]
    }
   ],
   "source": [
    "number2 = input(\"enter a number: \")"
   ]
  },
  {
   "cell_type": "code",
   "execution_count": 20,
   "metadata": {},
   "outputs": [
    {
     "ename": "TypeError",
     "evalue": "unsupported operand type(s) for +: 'int' and 'str'",
     "output_type": "error",
     "traceback": [
      "\u001b[0;31m---------------------------------------------------------------------------\u001b[0m",
      "\u001b[0;31mTypeError\u001b[0m                                 Traceback (most recent call last)",
      "\u001b[0;32m<ipython-input-20-ad6929989779>\u001b[0m in \u001b[0;36m<module>\u001b[0;34m\u001b[0m\n\u001b[0;32m----> 1\u001b[0;31m \u001b[0madd\u001b[0m\u001b[0;34m(\u001b[0m\u001b[0mnumber1\u001b[0m\u001b[0;34m,\u001b[0m \u001b[0mnumber2\u001b[0m\u001b[0;34m)\u001b[0m\u001b[0;34m\u001b[0m\u001b[0;34m\u001b[0m\u001b[0m\n\u001b[0m",
      "\u001b[0;32m<ipython-input-17-26160d662457>\u001b[0m in \u001b[0;36madd\u001b[0;34m(n1, n2)\u001b[0m\n\u001b[1;32m      1\u001b[0m \u001b[0;32mdef\u001b[0m \u001b[0madd\u001b[0m\u001b[0;34m(\u001b[0m\u001b[0mn1\u001b[0m\u001b[0;34m,\u001b[0m \u001b[0mn2\u001b[0m\u001b[0;34m)\u001b[0m\u001b[0;34m:\u001b[0m\u001b[0;34m\u001b[0m\u001b[0;34m\u001b[0m\u001b[0m\n\u001b[0;32m----> 2\u001b[0;31m     \u001b[0mprint\u001b[0m\u001b[0;34m(\u001b[0m\u001b[0mn1\u001b[0m \u001b[0;34m+\u001b[0m \u001b[0mn2\u001b[0m\u001b[0;34m)\u001b[0m\u001b[0;34m\u001b[0m\u001b[0;34m\u001b[0m\u001b[0m\n\u001b[0m",
      "\u001b[0;31mTypeError\u001b[0m: unsupported operand type(s) for +: 'int' and 'str'"
     ]
    }
   ],
   "source": [
    "add(number1, number2)"
   ]
  },
  {
   "cell_type": "code",
   "execution_count": 21,
   "metadata": {},
   "outputs": [
    {
     "name": "stdout",
     "output_type": "stream",
     "text": [
      "you are trying to add an integer and a string, (input always returns a string type)!\n"
     ]
    }
   ],
   "source": [
    "# Solving this with an exception handler\n",
    "\n",
    "try:\n",
    "   add(number1, number2)\n",
    "except:\n",
    "    print(\"you are trying to add an integer and a string, (input always returns a string type)!\")"
   ]
  },
  {
   "cell_type": "code",
   "execution_count": 23,
   "metadata": {},
   "outputs": [
    {
     "name": "stdout",
     "output_type": "stream",
     "text": [
      "30\n"
     ]
    }
   ],
   "source": [
    "# To fix the error, cast the string type of number2 as an integer\n",
    "\n",
    "add(number1, int(number2))"
   ]
  },
  {
   "cell_type": "code",
   "execution_count": 24,
   "metadata": {},
   "outputs": [
    {
     "name": "stdout",
     "output_type": "stream",
     "text": [
      "This always executes\n"
     ]
    }
   ],
   "source": [
    "# Demonstrating a try/except/finally handler working with files.\n",
    "\n",
    "try:\n",
    "    my_file = open(\"testfile\", 'w')\n",
    "    \n",
    "    my_file.write(\"Write a test line of text\")\n",
    "\n",
    "# BEST PRACTICE:    \n",
    "# Call out the specific exception we want to check for.\n",
    "except OSError:\n",
    "    print(\"Unable to write to file: OSError\")\n",
    "    \n",
    "finally:\n",
    "    print(\"This always executes\")"
   ]
  },
  {
   "cell_type": "code",
   "execution_count": 25,
   "metadata": {},
   "outputs": [
    {
     "name": "stdout",
     "output_type": "stream",
     "text": [
      "Unable to write to file: OSError\n",
      "This always executes\n"
     ]
    }
   ],
   "source": [
    "# Create an error by trying write to the file when it opened as READ.\n",
    "\n",
    "try:\n",
    "    my_file = open(\"testfile\", 'r')\n",
    "    \n",
    "    my_file.write(\"Write a test line of text\")\n",
    "\n",
    "# BEST PRACTICE:    \n",
    "# Call out the specific exception we want to check for.\n",
    "except OSError:\n",
    "    print(\"Unable to write to file: OSError\")\n",
    "    \n",
    "finally:\n",
    "    print(\"This always executes\")"
   ]
  },
  {
   "cell_type": "code",
   "execution_count": 35,
   "metadata": {},
   "outputs": [],
   "source": [
    "# Another example of a try/catch/finally\n",
    "\n",
    "def ask_for_int():\n",
    "    try:\n",
    "        result = int(input(\"Please input a number:\"))\n",
    "    except:\n",
    "        print(\"Not a number\")\n",
    "    finally:\n",
    "        print(\"end of try/catch/finally\")"
   ]
  },
  {
   "cell_type": "code",
   "execution_count": 36,
   "metadata": {},
   "outputs": [
    {
     "name": "stdout",
     "output_type": "stream",
     "text": [
      "Please input a number:20\n",
      "end of try/catch/finally\n"
     ]
    }
   ],
   "source": [
    "ask_for_int()"
   ]
  },
  {
   "cell_type": "code",
   "execution_count": 37,
   "metadata": {},
   "outputs": [
    {
     "name": "stdout",
     "output_type": "stream",
     "text": [
      "Please input a number:word\n",
      "Not a number\n",
      "end of try/catch/finally\n"
     ]
    }
   ],
   "source": [
    "ask_for_int()"
   ]
  },
  {
   "cell_type": "code",
   "execution_count": 47,
   "metadata": {},
   "outputs": [],
   "source": [
    "# Putting the above code in a while loop to demonstrate error checking on exceptions\n",
    "    \n",
    "def ask_for_int():\n",
    "    \n",
    "    isTrue = True\n",
    "    \n",
    "    while isTrue:   # Be careful when using this logic as it can easily generate infinite loops.\n",
    "        \n",
    "        try:\n",
    "            result = int(input(\"Please input a number:\"))\n",
    "        except:\n",
    "            print(\"Not a number\")\n",
    "            \n",
    "            # Continue the while loop until a number is provided\n",
    "            continue\n",
    "        else:\n",
    "            \n",
    "            isTrue = False\n",
    "            \n",
    "            # Break out of the while loop after a number is entered.\n",
    "            break\n",
    "            \n",
    "        finally:\n",
    "            if isTrue:\n",
    "                print(\"I'm going to ask you again\")\n",
    "            else:\n",
    "                print(\"Thank you!\")"
   ]
  },
  {
   "cell_type": "code",
   "execution_count": 48,
   "metadata": {},
   "outputs": [
    {
     "name": "stdout",
     "output_type": "stream",
     "text": [
      "Please input a number:word\n",
      "Not a number\n",
      "I'm going to ask you again\n",
      "Please input a number:qwe\n",
      "Not a number\n",
      "I'm going to ask you again\n",
      "Please input a number:20\n",
      "Thank you!\n"
     ]
    }
   ],
   "source": [
    "ask_for_int()"
   ]
  },
  {
   "cell_type": "code",
   "execution_count": 49,
   "metadata": {},
   "outputs": [],
   "source": [
    "# Lesson 81 - Homework"
   ]
  },
  {
   "cell_type": "code",
   "execution_count": 50,
   "metadata": {},
   "outputs": [
    {
     "ename": "TypeError",
     "evalue": "unsupported operand type(s) for ** or pow(): 'str' and 'int'",
     "output_type": "error",
     "traceback": [
      "\u001b[0;31m---------------------------------------------------------------------------\u001b[0m",
      "\u001b[0;31mTypeError\u001b[0m                                 Traceback (most recent call last)",
      "\u001b[0;32m<ipython-input-50-218491e63970>\u001b[0m in \u001b[0;36m<module>\u001b[0;34m\u001b[0m\n\u001b[1;32m      5\u001b[0m \u001b[0;34m\u001b[0m\u001b[0m\n\u001b[1;32m      6\u001b[0m \u001b[0;32mfor\u001b[0m \u001b[0mi\u001b[0m \u001b[0;32min\u001b[0m \u001b[0;34m[\u001b[0m\u001b[0;34m'a'\u001b[0m\u001b[0;34m,\u001b[0m\u001b[0;34m'b'\u001b[0m\u001b[0;34m,\u001b[0m\u001b[0;34m'c'\u001b[0m\u001b[0;34m]\u001b[0m\u001b[0;34m:\u001b[0m\u001b[0;34m\u001b[0m\u001b[0;34m\u001b[0m\u001b[0m\n\u001b[0;32m----> 7\u001b[0;31m     \u001b[0mprint\u001b[0m\u001b[0;34m(\u001b[0m\u001b[0mi\u001b[0m\u001b[0;34m**\u001b[0m\u001b[0;36m2\u001b[0m\u001b[0;34m)\u001b[0m\u001b[0;34m\u001b[0m\u001b[0;34m\u001b[0m\u001b[0m\n\u001b[0m",
      "\u001b[0;31mTypeError\u001b[0m: unsupported operand type(s) for ** or pow(): 'str' and 'int'"
     ]
    }
   ],
   "source": [
    "# Problem 1\n",
    "#\n",
    "# Handle the exception thrown by the code below by using try and except blocks.\n",
    "#\n",
    "\n",
    "for i in ['a','b','c']:\n",
    "    print(i**2)"
   ]
  },
  {
   "cell_type": "code",
   "execution_count": 51,
   "metadata": {},
   "outputs": [
    {
     "name": "stdout",
     "output_type": "stream",
     "text": [
      "You cannot multiply non-numbers!\n"
     ]
    }
   ],
   "source": [
    "# Solution\n",
    "\n",
    "try:\n",
    "    for i in ['a','b','c']:\n",
    "        print(i**2)\n",
    "\n",
    "except TypeError:\n",
    "    print(\"You cannot multiply non-numbers!\")"
   ]
  },
  {
   "cell_type": "code",
   "execution_count": 52,
   "metadata": {},
   "outputs": [
    {
     "ename": "ZeroDivisionError",
     "evalue": "division by zero",
     "output_type": "error",
     "traceback": [
      "\u001b[0;31m---------------------------------------------------------------------------\u001b[0m",
      "\u001b[0;31mZeroDivisionError\u001b[0m                         Traceback (most recent call last)",
      "\u001b[0;32m<ipython-input-52-7a9b165ae6e5>\u001b[0m in \u001b[0;36m<module>\u001b[0;34m\u001b[0m\n\u001b[1;32m      7\u001b[0m \u001b[0my\u001b[0m \u001b[0;34m=\u001b[0m \u001b[0;36m0\u001b[0m\u001b[0;34m\u001b[0m\u001b[0;34m\u001b[0m\u001b[0m\n\u001b[1;32m      8\u001b[0m \u001b[0;34m\u001b[0m\u001b[0m\n\u001b[0;32m----> 9\u001b[0;31m \u001b[0mz\u001b[0m \u001b[0;34m=\u001b[0m \u001b[0mx\u001b[0m\u001b[0;34m/\u001b[0m\u001b[0my\u001b[0m\u001b[0;34m\u001b[0m\u001b[0;34m\u001b[0m\u001b[0m\n\u001b[0m",
      "\u001b[0;31mZeroDivisionError\u001b[0m: division by zero"
     ]
    }
   ],
   "source": [
    "# Problem 2\n",
    "#\n",
    "# Handle the exception thrown by the code below by using try and except blocks. \n",
    "# Then use a finally block to print 'All Done.'\n",
    "\n",
    "x = 5\n",
    "y = 0\n",
    "\n",
    "z = x/y"
   ]
  },
  {
   "cell_type": "code",
   "execution_count": 53,
   "metadata": {},
   "outputs": [
    {
     "name": "stdout",
     "output_type": "stream",
     "text": [
      "You cannot divide numbers by zero!\n",
      "All Done.\n"
     ]
    }
   ],
   "source": [
    "# Solution\n",
    "\n",
    "try:\n",
    "    x = 5\n",
    "    y = 0\n",
    "\n",
    "    z = x/y\n",
    "\n",
    "except ZeroDivisionError:\n",
    "    print(\"You cannot divide numbers by zero!\")\n",
    "    \n",
    "finally:\n",
    "    print(\"All Done.\")"
   ]
  },
  {
   "cell_type": "code",
   "execution_count": 59,
   "metadata": {},
   "outputs": [],
   "source": [
    "# Problem 3\n",
    "#\n",
    "# Write a function that asks for an integer and prints the square of it. \n",
    "# Use a while loop with a try, except, else block to account for incorrect inputs.\n",
    "\n",
    "def ask():\n",
    "    \n",
    "    isTrue = True\n",
    "    integer = 0\n",
    "    integerSquared = 0\n",
    "    \n",
    "    while isTrue:\n",
    "        \n",
    "        try:\n",
    "            integer = int(input(\"Please enter a number to square:\"))\n",
    "            \n",
    "            integerSquared = integer**2\n",
    "            \n",
    "        except ValueError:\n",
    "            \n",
    "            print(\"Please enter a number!\")\n",
    "            \n",
    "            continue\n",
    "        \n",
    "        except TypeError:\n",
    "            \n",
    "            print(\"Not a number!\")\n",
    "            \n",
    "            continue\n",
    "            \n",
    "        else:\n",
    "            \n",
    "            print(f\"Thank you! {integer} squared is {integerSquared}\")\n",
    "            \n",
    "            isTrue = False"
   ]
  },
  {
   "cell_type": "code",
   "execution_count": 60,
   "metadata": {},
   "outputs": [
    {
     "name": "stdout",
     "output_type": "stream",
     "text": [
      "Please enter a number to square:\n",
      "Please enter a number!\n",
      "Please enter a number to square:word\n",
      "Please enter a number!\n",
      "Please enter a number to square:2\n",
      "Thank you! 2 squared is 4\n"
     ]
    }
   ],
   "source": [
    "ask()"
   ]
  },
  {
   "cell_type": "code",
   "execution_count": null,
   "metadata": {},
   "outputs": [],
   "source": []
  }
 ],
 "metadata": {
  "kernelspec": {
   "display_name": "Python 3",
   "language": "python",
   "name": "python3"
  },
  "language_info": {
   "codemirror_mode": {
    "name": "ipython",
    "version": 3
   },
   "file_extension": ".py",
   "mimetype": "text/x-python",
   "name": "python",
   "nbconvert_exporter": "python",
   "pygments_lexer": "ipython3",
   "version": "3.9.13"
  }
 },
 "nbformat": 4,
 "nbformat_minor": 4
}
