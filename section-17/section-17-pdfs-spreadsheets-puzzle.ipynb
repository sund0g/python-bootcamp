{
 "cells": [
  {
   "cell_type": "markdown",
   "metadata": {},
   "source": [
    "#### Lessons 132 & 133"
   ]
  },
  {
   "cell_type": "markdown",
   "metadata": {},
   "source": [
    "\n",
    "Work with two files and solve the following tasks:\n",
    "\n",
    "**Task One** Extract the Google Drive link from the .csv file.\n",
    "\n",
    "**Task Two** Download the PDF from the Google Drive link and find the phone number that is in the document. Note: There are different ways of formatting a phone number!\n",
    "\n",
    "(If the google drive is not accessible, the file is downloaded in this section directory.)"
   ]
  },
  {
   "cell_type": "code",
   "execution_count": 1,
   "metadata": {},
   "outputs": [],
   "source": [
    "import csv"
   ]
  },
  {
   "cell_type": "markdown",
   "metadata": {},
   "source": [
    "**Task One: Extract the Google Drive link from the .csv file.**\n",
    "\n",
    "The link is along the diagonal, which means the values are at the index position that matches the row's number order, e.g. the 1st letter is the 1st item in the 1st row, the 2nd letter is the 2nd item in the 2nd row, the 3rd item is the 3rd letter in the 3rd row and so on. **Enumerate** to track the row number and simply index off the data_lines."
   ]
  },
  {
   "cell_type": "code",
   "execution_count": 2,
   "metadata": {},
   "outputs": [],
   "source": [
    "with open('find_the_link.csv',encoding=\"utf-8\") as data:\n",
    "    \n",
    "    # Create the csv reader object\n",
    "    csv_data = csv.reader(data)\n",
    "    \n",
    "    # Get the data from the reader\n",
    "    data_lines = list(csv_data)\n",
    "    \n",
    "    # Enumerate to get the link.\n",
    "    # NOTE: Using a simple string here. Could use a linked list, but that might take more memory.\n",
    "    \n",
    "    link_str = ''\n",
    "    for row_num,data in enumerate(data_lines):\n",
    "        link_str += data[row_num]"
   ]
  },
  {
   "cell_type": "code",
   "execution_count": 4,
   "metadata": {},
   "outputs": [
    {
     "data": {
      "text/plain": [
       "'https://drive.google.com/open?id=1G6SEgg018UB4_4xsAJJ5TdzrhmXipr4Q'"
      ]
     },
     "execution_count": 4,
     "metadata": {},
     "output_type": "execute_result"
    }
   ],
   "source": [
    "# Check if we got the link\n",
    "\n",
    "link_str"
   ]
  },
  {
   "cell_type": "markdown",
   "metadata": {},
   "source": [
    "**Task Two: Download the PDF from the Google Drive link and find the phone number that is in the document.**"
   ]
  },
  {
   "cell_type": "code",
   "execution_count": 5,
   "metadata": {},
   "outputs": [],
   "source": [
    "import PyPDF2"
   ]
  },
  {
   "cell_type": "code",
   "execution_count": 6,
   "metadata": {},
   "outputs": [],
   "source": [
    "f = open('Find_the_Phone_Number.pdf','rb')"
   ]
  },
  {
   "cell_type": "code",
   "execution_count": 7,
   "metadata": {},
   "outputs": [],
   "source": [
    "pdf = PyPDF2.PdfFileReader(f)"
   ]
  },
  {
   "cell_type": "code",
   "execution_count": 8,
   "metadata": {},
   "outputs": [
    {
     "data": {
      "text/plain": [
       "17"
      ]
     },
     "execution_count": 8,
     "metadata": {},
     "output_type": "execute_result"
    }
   ],
   "source": [
    "# See if we got the document by checking how many pages are in it\n",
    "\n",
    "pdf.numPages"
   ]
  },
  {
   "cell_type": "markdown",
   "metadata": {},
   "source": [
    "**Find the phone number**"
   ]
  },
  {
   "cell_type": "code",
   "execution_count": 11,
   "metadata": {},
   "outputs": [
    {
     "name": "stdout",
     "output_type": "stream",
     "text": [
      "<re.Match object; span=(650, 653), match='000'>\n",
      "<re.Match object; span=(18278, 18281), match='000'>\n",
      "<re.Match object; span=(35905, 35908), match='000'>\n",
      "<re.Match object; span=(42937, 42940), match='505'>\n",
      "<re.Match object; span=(42941, 42944), match='503'>\n",
      "<re.Match object; span=(42945, 42948), match='445'>\n"
     ]
    }
   ],
   "source": [
    "# Don't know the actual phone number pattern so have to explore to find it.\n",
    "\n",
    "import re\n",
    "\n",
    "pattern = r'\\d{3}'\n",
    "\n",
    "all_text = ''\n",
    "\n",
    "for n in range(pdf.numPages):\n",
    "    \n",
    "    page = pdf.getPage(n)\n",
    "    page_text = page.extractText()\n",
    "    \n",
    "    all_text = all_text+' '+page_text\n",
    "    \n",
    "for match in re.finditer(pattern,all_text):\n",
    "    print(match)"
   ]
  },
  {
   "cell_type": "code",
   "execution_count": 12,
   "metadata": {},
   "outputs": [
    {
     "data": {
      "text/plain": [
       "'505.503.4455. S'"
      ]
     },
     "execution_count": 12,
     "metadata": {},
     "output_type": "execute_result"
    }
   ],
   "source": [
    "# Take one of the indexes and print out the expanded text to get the pattern\n",
    "\n",
    "all_text[42937:42937+15]"
   ]
  },
  {
   "cell_type": "code",
   "execution_count": 13,
   "metadata": {},
   "outputs": [],
   "source": [
    "# Set up the phone number regex\n",
    "\n",
    "pattern = r'\\d{3}.\\d{3}.\\d{4}'"
   ]
  },
  {
   "cell_type": "code",
   "execution_count": 14,
   "metadata": {},
   "outputs": [
    {
     "name": "stdout",
     "output_type": "stream",
     "text": [
      "505.503.4455\n"
     ]
    }
   ],
   "source": [
    "# Search the pdf for the phone number\n",
    "\n",
    "for n in range(pdf.numPages):\n",
    "    \n",
    "    page  = pdf.getPage(n)\n",
    "    page_text = page.extractText()\n",
    "    match = re.search(pattern,page_text)\n",
    "    \n",
    "    if match:\n",
    "        print(match.group())"
   ]
  },
  {
   "cell_type": "code",
   "execution_count": 15,
   "metadata": {},
   "outputs": [],
   "source": [
    "f.close()"
   ]
  },
  {
   "cell_type": "code",
   "execution_count": null,
   "metadata": {},
   "outputs": [],
   "source": []
  }
 ],
 "metadata": {
  "kernelspec": {
   "display_name": "Python 3",
   "language": "python",
   "name": "python3"
  },
  "language_info": {
   "codemirror_mode": {
    "name": "ipython",
    "version": 3
   },
   "file_extension": ".py",
   "mimetype": "text/x-python",
   "name": "python",
   "nbconvert_exporter": "python",
   "pygments_lexer": "ipython3",
   "version": "3.9.13"
  }
 },
 "nbformat": 4,
 "nbformat_minor": 4
}
