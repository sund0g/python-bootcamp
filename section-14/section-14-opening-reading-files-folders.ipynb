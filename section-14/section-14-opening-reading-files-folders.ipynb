{
 "cells": [
  {
   "cell_type": "code",
   "execution_count": null,
   "metadata": {
    "collapsed": true
   },
   "outputs": [],
   "source": [
    "# Lesson 105"
   ]
  },
  {
   "cell_type": "code",
   "execution_count": 3,
   "metadata": {},
   "outputs": [],
   "source": [
    "# Jupyter notebooks perform command line commands."
   ]
  },
  {
   "cell_type": "code",
   "execution_count": 2,
   "metadata": {},
   "outputs": [
    {
     "data": {
      "text/plain": [
       "'/Users/scottes/dev/sund0g/python-bootcamp/section-14'"
      ]
     },
     "execution_count": 2,
     "metadata": {},
     "output_type": "execute_result"
    }
   ],
   "source": [
    "# This only works on Linux-based systems.\n",
    "# The os module works across operating systems.\n",
    "\n",
    "pwd"
   ]
  },
  {
   "cell_type": "code",
   "execution_count": 5,
   "metadata": {},
   "outputs": [],
   "source": [
    "# Create and open a practice file for writing.\n",
    "#\n",
    "# Note: I am using the 'with' statement to do this.\n",
    "\n",
    "with open('practice.txt', 'w+') as file:\n",
    "    file.write(\"This is a test string\")"
   ]
  },
  {
   "cell_type": "code",
   "execution_count": 6,
   "metadata": {},
   "outputs": [],
   "source": [
    "# Using the os module\n",
    "\n",
    "import os"
   ]
  },
  {
   "cell_type": "code",
   "execution_count": 8,
   "metadata": {},
   "outputs": [
    {
     "data": {
      "text/plain": [
       "'/Users/scottes/dev/sund0g/python-bootcamp/section-14'"
      ]
     },
     "execution_count": 8,
     "metadata": {},
     "output_type": "execute_result"
    }
   ],
   "source": [
    "# Equivalent of pwd\n",
    "\n",
    "os.getcwd()"
   ]
  },
  {
   "cell_type": "code",
   "execution_count": 9,
   "metadata": {},
   "outputs": [
    {
     "data": {
      "text/plain": [
       "['practice.txt',\n",
       " 'section-14-opening-reading-files-folders.ipynb',\n",
       " 'section-14-collections-module.ipynb',\n",
       " '.ipynb_checkpoints',\n",
       " 'nohup.out']"
      ]
     },
     "execution_count": 9,
     "metadata": {},
     "output_type": "execute_result"
    }
   ],
   "source": [
    "# Equivalent of ls (Linux) or dir (Windows)\n",
    "\n",
    "os.listdir()"
   ]
  },
  {
   "cell_type": "code",
   "execution_count": 11,
   "metadata": {},
   "outputs": [
    {
     "data": {
      "text/plain": [
       "['LICENSE',\n",
       " 'section-11',\n",
       " 'section-10',\n",
       " 'section-9',\n",
       " 'section-7',\n",
       " 'section-6',\n",
       " 'section-8',\n",
       " 'README.md',\n",
       " '.gitignore',\n",
       " 'section-12',\n",
       " '.git',\n",
       " 'section-13',\n",
       " 'section-14',\n",
       " 'section-3',\n",
       " 'section-4',\n",
       " 'nohup.out',\n",
       " 'section-5',\n",
       " 'section-2']"
      ]
     },
     "execution_count": 11,
     "metadata": {},
     "output_type": "execute_result"
    }
   ],
   "source": [
    "# listdir() can take directories as parameters,\n",
    "\n",
    "os.listdir(\"..\")"
   ]
  },
  {
   "cell_type": "code",
   "execution_count": 12,
   "metadata": {},
   "outputs": [],
   "source": [
    "# Moving files around the file system can be done with the shutil package\n",
    "\n",
    "import shutil"
   ]
  },
  {
   "cell_type": "code",
   "execution_count": 35,
   "metadata": {},
   "outputs": [
    {
     "data": {
      "text/plain": [
       "['moved-file.txt',\n",
       " 'practice.txt',\n",
       " 'section-14-opening-reading-files-folders.ipynb',\n",
       " 'section-14-collections-module.ipynb',\n",
       " '.ipynb_checkpoints',\n",
       " 'nohup.out']"
      ]
     },
     "execution_count": 35,
     "metadata": {},
     "output_type": "execute_result"
    }
   ],
   "source": [
    "# Move the file moved-file.txt to the user Home directory\n",
    "\n",
    "# create the file (will be deleted afterwards)\n",
    "with open('moved-file.txt', 'w+') as file:\n",
    "    file.write(\"This is a file that will be moved around the filesystem\")\n",
    "\n",
    "# Note the file in the output\n",
    "os.listdir(\".\")"
   ]
  },
  {
   "cell_type": "code",
   "execution_count": 36,
   "metadata": {},
   "outputs": [
    {
     "data": {
      "text/plain": [
       "'/Users/scottes/moved-file.txt'"
      ]
     },
     "execution_count": 36,
     "metadata": {},
     "output_type": "execute_result"
    }
   ],
   "source": [
    "# Move the file to the user's homedir.\n",
    "#\n",
    "# Note the use of os.path.expanduser('~') to get the user's homedir\n",
    "\n",
    "shutil.move(\"./moved-file.txt\", os.path.expanduser('~'))"
   ]
  },
  {
   "cell_type": "code",
   "execution_count": 37,
   "metadata": {},
   "outputs": [
    {
     "data": {
      "text/plain": [
       "['.docker-OLD',\n",
       " '.SpaceVim.d',\n",
       " '.config',\n",
       " 'Music',\n",
       " '.SpaceVim',\n",
       " 'moved-file.txt',\n",
       " '.docker',\n",
       " '.zcompdump-Scott’s MacBook Pro (2)-5.7.1',\n",
       " '.vim',\n",
       " '.DS_Store',\n",
       " '.zcompdump-Scott’s MacBook Pro (2)-5.8',\n",
       " 'VirtualBox VMs',\n",
       " '.yarnrc',\n",
       " '.CFUserTextEncoding',\n",
       " '.zcompdump-Scott’s MacBook Pro (2)-5.9',\n",
       " '.tooling',\n",
       " '.zshrc',\n",
       " '.local',\n",
       " 'Pictures',\n",
       " '.pylint.d',\n",
       " '.atom',\n",
       " '.zsh_history',\n",
       " '.ipython',\n",
       " 'Desktop',\n",
       " 'Library',\n",
       " '.lesshst',\n",
       " '.minikube',\n",
       " '.node_repl_history',\n",
       " '.android',\n",
       " '.cups',\n",
       " '.DDPreview',\n",
       " 'Public',\n",
       " '.zcompdump-Scott’s MacBook Pro (2)-5.5.1',\n",
       " '.dropbox',\n",
       " '.ansible',\n",
       " '.ssh',\n",
       " 'Movies',\n",
       " 'Applications',\n",
       " 'Dropbox',\n",
       " '.zcompdump-Scott’s MacBook Pro (2)-5.3',\n",
       " '.Trash',\n",
       " 'dev',\n",
       " '.zoomus',\n",
       " '.jupyter',\n",
       " '.npm',\n",
       " '.terraform.d',\n",
       " 'Documents',\n",
       " '.vscode',\n",
       " '.Xauthority',\n",
       " '.oh-my-zsh',\n",
       " 'Downloads',\n",
       " '.python_history',\n",
       " '.cache',\n",
       " '.aws',\n",
       " '.gitconfig',\n",
       " '.bash_history',\n",
       " '.viminfo',\n",
       " '.zsh_sessions',\n",
       " '.sshOLD']"
      ]
     },
     "execution_count": 37,
     "metadata": {},
     "output_type": "execute_result"
    }
   ],
   "source": [
    "# Note the file moved-file.txt is now in the user's homedir.\n",
    "\n",
    "os.listdir(os.path.expanduser('~'))"
   ]
  },
  {
   "cell_type": "code",
   "execution_count": 38,
   "metadata": {},
   "outputs": [
    {
     "data": {
      "text/plain": [
       "['practice.txt',\n",
       " 'section-14-opening-reading-files-folders.ipynb',\n",
       " 'section-14-collections-module.ipynb',\n",
       " '.ipynb_checkpoints',\n",
       " 'nohup.out']"
      ]
     },
     "execution_count": 38,
     "metadata": {},
     "output_type": "execute_result"
    }
   ],
   "source": [
    "# Notes the file moved-file.txt is no longer in the current working directory.\n",
    "\n",
    "os.listdir(\".\")"
   ]
  },
  {
   "cell_type": "code",
   "execution_count": 40,
   "metadata": {},
   "outputs": [
    {
     "data": {
      "text/plain": [
       "'/Users/scottes/dev/sund0g/python-bootcamp/section-14/moved-file.txt'"
      ]
     },
     "execution_count": 40,
     "metadata": {},
     "output_type": "execute_result"
    }
   ],
   "source": [
    "# Move the file back to the current working directory\n",
    "\n",
    "shutil.move(os.path.expanduser('~') + \"/moved-file.txt\", os.getcwd())"
   ]
  },
  {
   "cell_type": "code",
   "execution_count": 42,
   "metadata": {},
   "outputs": [],
   "source": [
    "# There a several methods to remove a file. All os these will PERMANENTLY delete the file. It is recommended\n",
    "# to move deleted files to the trash/recycle bin and then delete them from there as desired.\n",
    "#\n",
    "# This is done via the send2trash package.\n",
    "#\n",
    "# No showing how to programmatically empty the trash/recyclve bin here.\n",
    "\n",
    "import send2trash\n",
    "\n",
    "send2trash.send2trash(\"./moved-file.txt\")"
   ]
  },
  {
   "cell_type": "code",
   "execution_count": null,
   "metadata": {},
   "outputs": [],
   "source": []
  },
  {
   "cell_type": "code",
   "execution_count": 46,
   "metadata": {},
   "outputs": [],
   "source": [
    "# Demonstrating the os.walk method"
   ]
  },
  {
   "cell_type": "code",
   "execution_count": 54,
   "metadata": {},
   "outputs": [],
   "source": [
    "# Make a directory structure for use as an example\n",
    "\n",
    "os.mkdir(\"./example-top-level\")\n",
    "os.mkdir(\"./example-top-level/mid-example-one\")\n",
    "\n",
    "os.mkdir(\"./example-top-level/mid-example-one/bottom-level-one\")\n",
    "os.mkdir(\"./example-top-level/mid-example-one/bottom-level-two\")\n",
    "\n",
    "# Create a file in some of the directories\n",
    "with open('./example-top-level/mid-example.txt', 'w+') as file:\n",
    "    file.write(\"This is a test file\")\n",
    "    \n",
    "with open('./example-top-level/mid-example-one/mid-level-doc.txt', 'w+') as file:\n",
    "    file.write(\"This is a test file\")\n",
    "    \n",
    "with open('./example-top-level/mid-example-one/bottom-level-one/one-text.txt', 'w+') as file:\n",
    "    file.write(\"This is a test file\")"
   ]
  },
  {
   "cell_type": "code",
   "execution_count": 59,
   "metadata": {},
   "outputs": [
    {
     "name": "stdout",
     "output_type": "stream",
     "text": [
      "Currently looking at folder: ./example-top-level\n",
      "\n",
      "\n",
      "THE SUBFOLDERS ARE: \n",
      "\t Subfolder: mid-example-one\n",
      "\n",
      "\n",
      "THE FILES ARE: \n",
      "\t File: mid-example.txt\n",
      "\n",
      "\n",
      "Currently looking at folder: ./example-top-level/mid-example-one\n",
      "\n",
      "\n",
      "THE SUBFOLDERS ARE: \n",
      "\t Subfolder: bottom-level-two\n",
      "\t Subfolder: bottom-level-one\n",
      "\n",
      "\n",
      "THE FILES ARE: \n",
      "\t File: mid-level-doc.txt\n",
      "\n",
      "\n",
      "Currently looking at folder: ./example-top-level/mid-example-one/bottom-level-two\n",
      "\n",
      "\n",
      "THE SUBFOLDERS ARE: \n",
      "\n",
      "\n",
      "THE FILES ARE: \n",
      "\n",
      "\n",
      "Currently looking at folder: ./example-top-level/mid-example-one/bottom-level-one\n",
      "\n",
      "\n",
      "THE SUBFOLDERS ARE: \n",
      "\n",
      "\n",
      "THE FILES ARE: \n",
      "\t File: one-text.txt\n",
      "\n",
      "\n"
     ]
    }
   ],
   "source": [
    "# Example of 3-tuple unpacking.\n",
    "#\n",
    "# This can be very usefule with batch scale file/directory processing tasks.\n",
    "\n",
    "for folder , sub_folders , files in os.walk(\"./example-top-level\"):\n",
    "    \n",
    "    print(\"Currently looking at folder: \"+ folder)\n",
    "    print('\\n')\n",
    "    print(\"THE SUBFOLDERS ARE: \")\n",
    "    for sub_fold in sub_folders:\n",
    "        print(\"\\t Subfolder: \"+sub_fold )\n",
    "    \n",
    "    print('\\n')\n",
    "    \n",
    "    print(\"THE FILES ARE: \")\n",
    "    for f in files:\n",
    "        print(\"\\t File: \"+f)\n",
    "    print('\\n')"
   ]
  },
  {
   "cell_type": "code",
   "execution_count": 60,
   "metadata": {},
   "outputs": [],
   "source": [
    "# Clean everything up\n",
    "\n",
    "shutil.rmtree(\"./example-top-level\")"
   ]
  },
  {
   "cell_type": "code",
   "execution_count": null,
   "metadata": {},
   "outputs": [],
   "source": []
  }
 ],
 "metadata": {
  "kernelspec": {
   "display_name": "Python 3",
   "language": "python",
   "name": "python3"
  },
  "language_info": {
   "codemirror_mode": {
    "name": "ipython",
    "version": 3
   },
   "file_extension": ".py",
   "mimetype": "text/x-python",
   "name": "python",
   "nbconvert_exporter": "python",
   "pygments_lexer": "ipython3",
   "version": "3.9.13"
  }
 },
 "nbformat": 4,
 "nbformat_minor": 4
}
