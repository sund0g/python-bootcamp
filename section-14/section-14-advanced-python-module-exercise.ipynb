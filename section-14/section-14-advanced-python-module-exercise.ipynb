{
 "cells": [
  {
   "cell_type": "code",
   "execution_count": 1,
   "metadata": {},
   "outputs": [],
   "source": [
    "# Lessons 114 and 115"
   ]
  },
  {
   "cell_type": "code",
   "execution_count": 4,
   "metadata": {},
   "outputs": [],
   "source": [
    "# Download the file, \"unzip_me_for_instructions.zip\" from the instructor's website:\n",
    "# https://github.com/Pierian-Data/Complete-Python-3-Bootcamp/blob/master/12-Advanced%20Python%20Modules/08-Advanced-Python-Module-Exercise\n",
    "#"
   ]
  },
  {
   "cell_type": "code",
   "execution_count": 8,
   "metadata": {},
   "outputs": [],
   "source": [
    "# After downloading the file unzip it to the current working directory\n",
    "\n",
    "import shutil\n",
    "import os"
   ]
  },
  {
   "cell_type": "code",
   "execution_count": 9,
   "metadata": {},
   "outputs": [],
   "source": [
    "shutil.unpack_archive(\"./unzip_me_for_instructions.zip\", \"./section_exercise\", \"zip\")"
   ]
  },
  {
   "cell_type": "code",
   "execution_count": 15,
   "metadata": {},
   "outputs": [
    {
     "name": "stdout",
     "output_type": "stream",
     "text": [
      "Good work on unzipping the file!\n",
      "You should now see 5 folders, each with a lot of random .txt files.\n",
      "Within one of these text files is a telephone number formated ###-###-#### \n",
      "Use the Python os module and regular expressions to iterate through each file, open it, and search for a telephone number.\n",
      "Good luck!\n"
     ]
    }
   ],
   "source": [
    "# Open and read the text file \"Instructions.txt\". (You have to figure out how to do this)\n",
    "\n",
    "path_to_instructions = f\"{os.getcwd()}/section_exercise/extracted_content\"\n",
    "\n",
    "with open(f\"{path_to_instructions}/Instructions.txt\", \"r\") as my_file:\n",
    "    print(my_file.read())"
   ]
  },
  {
   "cell_type": "code",
   "execution_count": 16,
   "metadata": {},
   "outputs": [],
   "source": [
    "import re"
   ]
  },
  {
   "cell_type": "code",
   "execution_count": 17,
   "metadata": {},
   "outputs": [],
   "source": [
    "# Create the regex for the phone number pattern\n",
    "\n",
    "phone_number_regex = r'\\d{3}-\\d{3}-\\d{4}'"
   ]
  },
  {
   "cell_type": "code",
   "execution_count": 19,
   "metadata": {},
   "outputs": [
    {
     "data": {
      "text/plain": [
       "['123-456-7890']"
      ]
     },
     "execution_count": 19,
     "metadata": {},
     "output_type": "execute_result"
    }
   ],
   "source": [
    "# Test the pattern\n",
    "\n",
    "my_string = \"my phone number is: 123-456-7890\"\n",
    "\n",
    "re.findall(phone_number_regex, my_string)"
   ]
  },
  {
   "cell_type": "code",
   "execution_count": 20,
   "metadata": {},
   "outputs": [],
   "source": [
    "# Create a function that searches a file for the pattern\n",
    "\n",
    "def my_search(file, phone_number_regex = r'\\d{3}-\\d{3}-\\d{4}'):\n",
    "    \n",
    "    with open(file, \"r\") as f:\n",
    "        text = f.read()\n",
    "    \n",
    "    if re.search(phone_number_regex, text):\n",
    "        return re.search(phone_number_regex, text)\n",
    "    else:\n",
    "        return ''"
   ]
  },
  {
   "cell_type": "code",
   "execution_count": 29,
   "metadata": {},
   "outputs": [],
   "source": [
    "# Traverse the file directories and search each file for a phone number\n",
    "#\n",
    "# Save the phone number in the results list\n",
    "\n",
    "results = []\n",
    "\n",
    "for folder, sub_folders, files in os.walk(f\"{os.getcwd()}/section_exercise/extracted_content\"):\n",
    "    \n",
    "    for f in files:\n",
    "        \n",
    "        full_path = f\"{folder}/{f}\"\n",
    "\n",
    "        results.append(my_search(full_path))"
   ]
  },
  {
   "cell_type": "code",
   "execution_count": 30,
   "metadata": {},
   "outputs": [
    {
     "name": "stdout",
     "output_type": "stream",
     "text": [
      "719-266-2837\n"
     ]
    }
   ],
   "source": [
    "# Print out the phone number\n",
    "\n",
    "for r in results:\n",
    "    if r != '':\n",
    "        print(r.group())"
   ]
  },
  {
   "cell_type": "code",
   "execution_count": null,
   "metadata": {},
   "outputs": [],
   "source": [
    "# There's more effecient ways to do this. In the future, I may come back and add my opinionated design here. "
   ]
  }
 ],
 "metadata": {
  "kernelspec": {
   "display_name": "Python 3",
   "language": "python",
   "name": "python3"
  },
  "language_info": {
   "codemirror_mode": {
    "name": "ipython",
    "version": 3
   },
   "file_extension": ".py",
   "mimetype": "text/x-python",
   "name": "python",
   "nbconvert_exporter": "python",
   "pygments_lexer": "ipython3",
   "version": "3.9.13"
  }
 },
 "nbformat": 4,
 "nbformat_minor": 4
}
