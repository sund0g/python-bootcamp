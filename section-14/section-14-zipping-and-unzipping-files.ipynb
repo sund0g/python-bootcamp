{
 "cells": [
  {
   "cell_type": "code",
   "execution_count": 1,
   "metadata": {},
   "outputs": [],
   "source": [
    "# Lesson 113"
   ]
  },
  {
   "cell_type": "code",
   "execution_count": 11,
   "metadata": {},
   "outputs": [],
   "source": [
    "# Create a couple of files to be used in this lesson.\n",
    "#\n",
    "# Note: I am using the 'with' statement and a range loop to do this.\n",
    "\n",
    "for i in range(1,3):   # Remember range default starts at 0. Creating 2 files here.\n",
    "\n",
    "    with open(f\"file{str(i)}.txt\", 'w+') as file:\n",
    "        file.write(f\"File {str(i)}\")"
   ]
  },
  {
   "cell_type": "code",
   "execution_count": 15,
   "metadata": {},
   "outputs": [],
   "source": [
    "# Using explicit imports rather than just importing the whole package\n",
    "\n",
    "from zipfile import ZipFile"
   ]
  },
  {
   "cell_type": "code",
   "execution_count": 37,
   "metadata": {},
   "outputs": [],
   "source": [
    "# Create an empty zip file\n",
    "#\n",
    "# This opens the file\n",
    "\n",
    "compressed_file1 = zipfile.ZipFile(\"compressed_file1.zip\", \"w\")"
   ]
  },
  {
   "cell_type": "code",
   "execution_count": 38,
   "metadata": {},
   "outputs": [],
   "source": [
    "# Add files to the zip file\n",
    "\n",
    "compressed_file1.write(\"file1.txt\", compress_type=zipfile.ZIP_DEFLATED)"
   ]
  },
  {
   "cell_type": "code",
   "execution_count": 39,
   "metadata": {},
   "outputs": [],
   "source": [
    "compressed_file1.write(\"file2.txt\", compress_type=zipfile.ZIP_DEFLATED)"
   ]
  },
  {
   "cell_type": "code",
   "execution_count": 40,
   "metadata": {},
   "outputs": [],
   "source": [
    "# Don't forget to close the file\n",
    "\n",
    "compressed_file1.close()"
   ]
  },
  {
   "cell_type": "code",
   "execution_count": 41,
   "metadata": {},
   "outputs": [],
   "source": [
    "# Extract file(s) from the zipfile\n",
    "#\n",
    "# NOTE: This action only requires opening the file for read.\n",
    "\n",
    "zip_object = zipfile.ZipFile(\"compressed_file1.zip\", \"r\")"
   ]
  },
  {
   "cell_type": "code",
   "execution_count": 42,
   "metadata": {},
   "outputs": [],
   "source": [
    "# Extract all the files into the \"extracted_files\" subdirectory\n",
    "\n",
    "zip_object.extractall(\"extracted_files\")"
   ]
  },
  {
   "cell_type": "code",
   "execution_count": 44,
   "metadata": {},
   "outputs": [],
   "source": [
    "# An easier method to zip an entire directory is to use the Shell Utilities package\n",
    "\n",
    "import shutil\n",
    "import os"
   ]
  },
  {
   "cell_type": "code",
   "execution_count": 48,
   "metadata": {},
   "outputs": [],
   "source": [
    "# Get the directory to compress\n",
    "\n",
    "dir_to_zip = f\"{os.getcwd()}/extracted_files\""
   ]
  },
  {
   "cell_type": "code",
   "execution_count": 49,
   "metadata": {},
   "outputs": [
    {
     "data": {
      "text/plain": [
       "'/Users/scottes/dev/sund0g/python-bootcamp/section-14/compressed_dir.zip'"
      ]
     },
     "execution_count": 49,
     "metadata": {},
     "output_type": "execute_result"
    }
   ],
   "source": [
    "# Compress all files in the directory\n",
    "\n",
    "shutil.make_archive(\"./compressed_dir\", \"zip\", dir_to_zip)"
   ]
  },
  {
   "cell_type": "code",
   "execution_count": 50,
   "metadata": {},
   "outputs": [],
   "source": [
    "# Extract the files using shutil\n",
    "\n",
    "shutil.unpack_archive(\"./compressed_dir.zip\", \"./final_unzip\", \"zip\")"
   ]
  },
  {
   "cell_type": "code",
   "execution_count": null,
   "metadata": {},
   "outputs": [],
   "source": []
  }
 ],
 "metadata": {
  "kernelspec": {
   "display_name": "Python 3",
   "language": "python",
   "name": "python3"
  },
  "language_info": {
   "codemirror_mode": {
    "name": "ipython",
    "version": 3
   },
   "file_extension": ".py",
   "mimetype": "text/x-python",
   "name": "python",
   "nbconvert_exporter": "python",
   "pygments_lexer": "ipython3",
   "version": "3.9.13"
  }
 },
 "nbformat": 4,
 "nbformat_minor": 4
}
