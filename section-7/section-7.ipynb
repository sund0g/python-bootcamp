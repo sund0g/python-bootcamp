{
 "cells": [
  {
   "cell_type": "code",
   "execution_count": 1,
   "metadata": {},
   "outputs": [],
   "source": [
    "# Lesson 60"
   ]
  },
  {
   "cell_type": "code",
   "execution_count": 2,
   "metadata": {},
   "outputs": [],
   "source": [
    "# Display the \"tic-tac-toe\" board\n",
    "\n",
    "def display(row1, row2, row3):\n",
    "    \n",
    "    print(row1)\n",
    "    print(row2)\n",
    "    print(row3)"
   ]
  },
  {
   "cell_type": "code",
   "execution_count": 3,
   "metadata": {},
   "outputs": [
    {
     "name": "stdout",
     "output_type": "stream",
     "text": [
      "[1, 2, 3]\n",
      "[1, 2, 3]\n",
      "[1, 2, 3]\n"
     ]
    }
   ],
   "source": [
    "exampleRow = [1, 2, 3]\n",
    "\n",
    "display(exampleRow, exampleRow, exampleRow)"
   ]
  },
  {
   "cell_type": "code",
   "execution_count": 4,
   "metadata": {},
   "outputs": [],
   "source": [
    "# A very rudimentary method to display the board\n",
    "\n",
    "row1 = [' ', ' ', ' ']\n",
    "row2 = [' ', ' ', ' ']\n",
    "row3 = [' ', ' ', ' ']"
   ]
  },
  {
   "cell_type": "code",
   "execution_count": 5,
   "metadata": {},
   "outputs": [
    {
     "name": "stdout",
     "output_type": "stream",
     "text": [
      "[' ', ' ', ' ']\n",
      "[' ', ' ', ' ']\n",
      "[' ', ' ', ' ']\n"
     ]
    }
   ],
   "source": [
    "display(row1, row2, row3)"
   ]
  },
  {
   "cell_type": "code",
   "execution_count": 6,
   "metadata": {},
   "outputs": [
    {
     "name": "stdout",
     "output_type": "stream",
     "text": [
      "[' ', ' ', ' ']\n",
      "[' ', 'X', ' ']\n",
      "[' ', ' ', ' ']\n"
     ]
    }
   ],
   "source": [
    "row2[1] = 'X'\n",
    "\n",
    "display(row1, row2, row3)"
   ]
  },
  {
   "cell_type": "code",
   "execution_count": 7,
   "metadata": {},
   "outputs": [],
   "source": [
    "# Lesson 61"
   ]
  },
  {
   "cell_type": "code",
   "execution_count": 8,
   "metadata": {},
   "outputs": [
    {
     "name": "stdout",
     "output_type": "stream",
     "text": [
      "Please enter a value: two\n"
     ]
    }
   ],
   "source": [
    "# Showing some examples of the input() function and how to cast the return values\n",
    "\n",
    "result = input(\"Please enter a value: \")"
   ]
  },
  {
   "cell_type": "code",
   "execution_count": 9,
   "metadata": {},
   "outputs": [
    {
     "data": {
      "text/plain": [
       "str"
      ]
     },
     "execution_count": 9,
     "metadata": {},
     "output_type": "execute_result"
    }
   ],
   "source": [
    "type(result)"
   ]
  },
  {
   "cell_type": "code",
   "execution_count": 10,
   "metadata": {},
   "outputs": [
    {
     "ename": "ValueError",
     "evalue": "invalid literal for int() with base 10: 'two'",
     "output_type": "error",
     "traceback": [
      "\u001b[0;31m---------------------------------------------------------------------------\u001b[0m",
      "\u001b[0;31mValueError\u001b[0m                                Traceback (most recent call last)",
      "\u001b[0;32m<ipython-input-10-910b067a68e1>\u001b[0m in \u001b[0;36m<module>\u001b[0;34m\u001b[0m\n\u001b[0;32m----> 1\u001b[0;31m \u001b[0mcastResult\u001b[0m \u001b[0;34m=\u001b[0m \u001b[0mint\u001b[0m\u001b[0;34m(\u001b[0m\u001b[0mresult\u001b[0m\u001b[0;34m)\u001b[0m\u001b[0;34m\u001b[0m\u001b[0;34m\u001b[0m\u001b[0m\n\u001b[0m\u001b[1;32m      2\u001b[0m \u001b[0;34m\u001b[0m\u001b[0m\n\u001b[1;32m      3\u001b[0m \u001b[0mtype\u001b[0m\u001b[0;34m(\u001b[0m\u001b[0mcastResult\u001b[0m\u001b[0;34m)\u001b[0m\u001b[0;34m\u001b[0m\u001b[0;34m\u001b[0m\u001b[0m\n",
      "\u001b[0;31mValueError\u001b[0m: invalid literal for int() with base 10: 'two'"
     ]
    }
   ],
   "source": [
    "castResult = int(result)\n",
    "\n",
    "type(castResult)"
   ]
  },
  {
   "cell_type": "code",
   "execution_count": null,
   "metadata": {},
   "outputs": [],
   "source": [
    "castResult = float(result)\n",
    "\n",
    "type(castResult)"
   ]
  },
  {
   "cell_type": "code",
   "execution_count": null,
   "metadata": {},
   "outputs": [],
   "source": [
    "# Lesson 62"
   ]
  },
  {
   "cell_type": "code",
   "execution_count": null,
   "metadata": {},
   "outputs": [],
   "source": [
    "# Create a function that accepts user input and validates it.\n",
    "#\n",
    "# Validation rules are\n",
    "#     - validate the input is an integer\n",
    "#     - validate the input is between 0-10\n",
    "\n",
    "def getUserInput():\n",
    "    \n",
    "    # Initialize userInput as a non-digit. This sets up the while loop correctly.\n",
    "    # we only want to exit the while loop if isdigit() and isInRange are True.\n",
    "    userInput = 'Not a digit'\n",
    "    isInRange = False\n",
    "    \n",
    "    # Validate the use input is a digit using the string method isdigit()\n",
    "    \n",
    "    while userInput.isdigit() == False or isInRange == False:\n",
    "        userInput = input(\"Please enter a number between 1 and 10: \")\n",
    "        \n",
    "        # Digit check\n",
    "        if userInput.isdigit() == False:\n",
    "            print(\"Not a digit\")\n",
    "        \n",
    "        # Range check\n",
    "        if userInput.isdigit() == True:\n",
    "            \n",
    "            # Remember, have to add 1 to the end of range because it is not inclusive.\n",
    "            if int(userInput) in range(0,10+1):\n",
    "                isInRange = True\n",
    "            else:\n",
    "                print(f\"{int(userInput)} not in the range\")\n",
    "                isInRange = False\n",
    "    \n",
    "    return userInput"
   ]
  },
  {
   "cell_type": "code",
   "execution_count": null,
   "metadata": {
    "scrolled": true
   },
   "outputs": [],
   "source": [
    "getUserInput()"
   ]
  },
  {
   "cell_type": "code",
   "execution_count": null,
   "metadata": {},
   "outputs": [],
   "source": [
    "# Lesson 63"
   ]
  },
  {
   "cell_type": "code",
   "execution_count": null,
   "metadata": {},
   "outputs": [],
   "source": [
    "# Create a simple game version,\n",
    "#\n",
    "# The logic flow looks like,\n",
    "#   1. Display the game\n",
    "#   2. Get user input for POSITION/INDEX whose valuse will be replaced\n",
    "#   3. Get user input for VALUE and use it to replace the original value at the index\n",
    "#   4. Ask if the user wants to keep playing"
   ]
  },
  {
   "cell_type": "code",
   "execution_count": 3,
   "metadata": {},
   "outputs": [],
   "source": [
    "# Initialize the game list. Note this is a string list.\n",
    "myList = ['0', '1', '2']"
   ]
  },
  {
   "cell_type": "code",
   "execution_count": 4,
   "metadata": {},
   "outputs": [],
   "source": [
    "# Step 1: Display the game\n",
    "\n",
    "def displayGame(gameList):\n",
    "    print(f\"Here is the current list: {gameList}\")"
   ]
  },
  {
   "cell_type": "code",
   "execution_count": 5,
   "metadata": {},
   "outputs": [
    {
     "name": "stdout",
     "output_type": "stream",
     "text": [
      "Here is the current list: ['0', '1', '2']\n"
     ]
    }
   ],
   "source": [
    "displayGame(myList)"
   ]
  },
  {
   "cell_type": "code",
   "execution_count": 6,
   "metadata": {},
   "outputs": [],
   "source": [
    "# Step 2: Get user input for POSITION or the index whose value will be replaced.\n",
    "\n",
    "def getUserIndex():\n",
    "    \n",
    "    index = \"Invalid position\"\n",
    "    \n",
    "    while index not in ['0', '1', '2']:\n",
    "        \n",
    "        index = input(\"Pick a position 0-2: \")\n",
    "        \n",
    "        if index not in ['0', '1', '2']:\n",
    "            \n",
    "            print(\"Invalid position\")\n",
    "            \n",
    "    return int(index)"
   ]
  },
  {
   "cell_type": "code",
   "execution_count": 7,
   "metadata": {},
   "outputs": [
    {
     "name": "stdout",
     "output_type": "stream",
     "text": [
      "Pick a position 0-2: 2\n"
     ]
    },
    {
     "data": {
      "text/plain": [
       "2"
      ]
     },
     "execution_count": 7,
     "metadata": {},
     "output_type": "execute_result"
    }
   ],
   "source": [
    "getUserIndex()"
   ]
  },
  {
   "cell_type": "code",
   "execution_count": 8,
   "metadata": {},
   "outputs": [],
   "source": [
    "# Step 3: Get user input for the VALUE to be replaced\n",
    "\n",
    "def getUserValue(gameList, index):\n",
    "    \n",
    "    replacement = input(f\"Type a string of text at position {index}:\")\n",
    "    \n",
    "    # Replace the value\n",
    "    gameList[index] = replacement\n",
    "    \n",
    "    return gameList"
   ]
  },
  {
   "cell_type": "code",
   "execution_count": 9,
   "metadata": {},
   "outputs": [
    {
     "name": "stdout",
     "output_type": "stream",
     "text": [
      "Type a string of text at position 1:test\n"
     ]
    },
    {
     "data": {
      "text/plain": [
       "['0', 'test', '2']"
      ]
     },
     "execution_count": 9,
     "metadata": {},
     "output_type": "execute_result"
    }
   ],
   "source": [
    "getUserValue(myList, 1)"
   ]
  },
  {
   "cell_type": "code",
   "execution_count": 24,
   "metadata": {},
   "outputs": [],
   "source": [
    "# Step 4: Ask if the user wants to keep playing\n",
    "\n",
    "def keepPlaying():\n",
    "    \n",
    "    choice = \"Invalid choice\"\n",
    "    isContinue = False\n",
    "    \n",
    "    while choice.lower() not in ['y', 'n']:\n",
    "        \n",
    "        choice = input(\"Continue playing (Y/N)?\")\n",
    "        \n",
    "        if choice.lower() not in ['y', 'n']:\n",
    "            \n",
    "            print(\"Sorry, I don't understand\")\n",
    "            \n",
    "        if choice.lower() == 'y':\n",
    "            isContinue = True\n",
    "        else:\n",
    "            isContinue = False\n",
    "            \n",
    "    return isContinue"
   ]
  },
  {
   "cell_type": "code",
   "execution_count": 11,
   "metadata": {},
   "outputs": [
    {
     "name": "stdout",
     "output_type": "stream",
     "text": [
      "Continue playing (Y/N)?N\n"
     ]
    },
    {
     "data": {
      "text/plain": [
       "False"
      ]
     },
     "execution_count": 11,
     "metadata": {},
     "output_type": "execute_result"
    }
   ],
   "source": [
    "keepPlaying()"
   ]
  },
  {
   "cell_type": "code",
   "execution_count": 12,
   "metadata": {},
   "outputs": [
    {
     "name": "stdout",
     "output_type": "stream",
     "text": [
      "Here is the current list: [0, 1, 2]\n",
      "Pick a position 0-2: 1\n",
      "Type a string of text at position 1:test\n",
      "Here is the current list: [0, 'test', 2]\n",
      "Continue playing (Y/N)?n\n"
     ]
    }
   ],
   "source": [
    "# Putting it all together\n",
    "\n",
    "gameOn = True\n",
    "myList = [0, 1, 2]\n",
    "\n",
    "while gameOn:\n",
    "    \n",
    "    # Display the game\n",
    "    displayGame(myList)\n",
    "    \n",
    "    # Get user index input\n",
    "    myIndex = getUserIndex()\n",
    "    \n",
    "    # Get user value and replace original value with it at the index\n",
    "    myList = getUserValue(myList, myIndex)\n",
    "    \n",
    "    # Display the updated list\n",
    "    displayGame(myList)\n",
    "    \n",
    "    # Ask to keep playing\n",
    "    gameOn = keepPlaying()"
   ]
  },
  {
   "cell_type": "code",
   "execution_count": 14,
   "metadata": {},
   "outputs": [],
   "source": [
    "# Create the functions needed for the full tic-tac-toe game\n",
    "#\n",
    "# The functions will be similar to the simple game above."
   ]
  },
  {
   "cell_type": "code",
   "execution_count": 26,
   "metadata": {},
   "outputs": [],
   "source": [
    "# Step 1: Display the board\n",
    "\n",
    "from IPython.display import clear_output\n",
    "\n",
    "def displayGame(game):\n",
    "    \n",
    "    # Use this function only in a Jupyter notebook. If in a script, use something like,\n",
    "    # print(\"\\n\" * 100). this will simulate clearing the board between moves.\n",
    "    clear_output()\n",
    "    \n",
    "    print(game[7] + '|' + game[8] + '|' + game[9])\n",
    "    print(\"-----\")\n",
    "    print(game[4] + '|' + game[5] + '|' + game[6])\n",
    "    print(\"-----\")\n",
    "    print(game[1] + '|' + game[2] + '|' + game[3])\n",
    "    "
   ]
  },
  {
   "cell_type": "code",
   "execution_count": 2,
   "metadata": {},
   "outputs": [],
   "source": [
    "gameBoard = [' ']*10"
   ]
  },
  {
   "cell_type": "code",
   "execution_count": 3,
   "metadata": {},
   "outputs": [
    {
     "name": "stdout",
     "output_type": "stream",
     "text": [
      " | | \n",
      "-----\n",
      " | | \n",
      "-----\n",
      " | | \n"
     ]
    }
   ],
   "source": [
    "displayGame(gameBoard)"
   ]
  },
  {
   "cell_type": "code",
   "execution_count": 4,
   "metadata": {},
   "outputs": [],
   "source": [
    "# Step 2: Get Player info, (which player is X and which is O)\n",
    "\n",
    "def getPlayerInfo():\n",
    "    \n",
    "    mark = ''\n",
    "    \n",
    "    # Note the \"negative\" logic here. This makes the look work with the \"and\"\n",
    "    while mark != 'X' and mark != 'O':\n",
    "        mark = input(\"Player1, choose X or O: \").upper()\n",
    "        \n",
    "    player1 = mark\n",
    "    \n",
    "    # Assign player2 the opposite mark\n",
    "    if player1 == 'X':\n",
    "        player2 = 'O'\n",
    "    else:\n",
    "        player2 = 'X'\n",
    "        \n",
    "    # Return player info as a tuple. This helps keep the game logic organized.\n",
    "    return (player1, player2)"
   ]
  },
  {
   "cell_type": "code",
   "execution_count": 5,
   "metadata": {},
   "outputs": [
    {
     "name": "stdout",
     "output_type": "stream",
     "text": [
      "Player1, choose X or O: x\n"
     ]
    }
   ],
   "source": [
    "# Unpack the tuple\n",
    "\n",
    "player1Mark, player2Mark = getPlayerInfo()"
   ]
  },
  {
   "cell_type": "code",
   "execution_count": 6,
   "metadata": {},
   "outputs": [
    {
     "data": {
      "text/plain": [
       "'X'"
      ]
     },
     "execution_count": 6,
     "metadata": {},
     "output_type": "execute_result"
    }
   ],
   "source": [
    "player1Mark"
   ]
  },
  {
   "cell_type": "code",
   "execution_count": 7,
   "metadata": {},
   "outputs": [
    {
     "data": {
      "text/plain": [
       "'O'"
      ]
     },
     "execution_count": 7,
     "metadata": {},
     "output_type": "execute_result"
    }
   ],
   "source": [
    "player2Mark"
   ]
  },
  {
   "cell_type": "code",
   "execution_count": 8,
   "metadata": {},
   "outputs": [],
   "source": [
    "# Step 3: Place the player's mark on the board\n",
    "#\n",
    "# placeMark() take three inputs,\n",
    "#   1. the game board\n",
    "#   2. the player's mark\n",
    "#   3. the position the player selected\n",
    "\n",
    "def placeMark(gameBoard, mark, position):\n",
    "          \n",
    "    # This is an exmple of LEGB, passing in a variable and modifying its value\n",
    "    # for the duration of the entire program.\n",
    "    gameBoard[position] = mark\n",
    "        \n",
    "    return gameBoard"
   ]
  },
  {
   "cell_type": "code",
   "execution_count": 9,
   "metadata": {},
   "outputs": [
    {
     "data": {
      "text/plain": [
       "[' ', ' ', ' ', ' ', ' ', '$', ' ', ' ', ' ', ' ']"
      ]
     },
     "execution_count": 9,
     "metadata": {},
     "output_type": "execute_result"
    }
   ],
   "source": [
    "placeMark(gameBoard, '$', 5)"
   ]
  },
  {
   "cell_type": "code",
   "execution_count": 10,
   "metadata": {},
   "outputs": [
    {
     "name": "stdout",
     "output_type": "stream",
     "text": [
      " | | \n",
      "-----\n",
      " |$| \n",
      "-----\n",
      " | | \n"
     ]
    }
   ],
   "source": [
    "displayGame(gameBoard)"
   ]
  },
  {
   "cell_type": "code",
   "execution_count": 11,
   "metadata": {},
   "outputs": [],
   "source": [
    "# Step 4: Check if the selected position is available\n",
    "#\n",
    "# Check is the position the player selected is available.\n",
    "# This will be called by placeMark().\n",
    "\n",
    "def checkIfSpace(board, position):\n",
    "    \n",
    "    isSpace = False\n",
    "    \n",
    "    if board[position] == ' ':\n",
    "        isSpace = True\n",
    "    else:\n",
    "        isSpace = False\n",
    "        \n",
    "    return isSpace\n",
    "\n",
    "#    return board[position] == ' '"
   ]
  },
  {
   "cell_type": "code",
   "execution_count": 12,
   "metadata": {},
   "outputs": [
    {
     "data": {
      "text/plain": [
       "False"
      ]
     },
     "execution_count": 12,
     "metadata": {},
     "output_type": "execute_result"
    }
   ],
   "source": [
    "checkIfSpace(gameBoard, 5)"
   ]
  },
  {
   "cell_type": "code",
   "execution_count": 13,
   "metadata": {},
   "outputs": [],
   "source": [
    "# Step 5: Randomly choose which player goes first\n",
    "#\n",
    "\n",
    "from random import choice\n",
    "\n",
    "def chooseFirst():\n",
    "    \n",
    "    return choice([\"player1\", \"player2\"])\n",
    "    "
   ]
  },
  {
   "cell_type": "code",
   "execution_count": 14,
   "metadata": {},
   "outputs": [
    {
     "data": {
      "text/plain": [
       "'player1'"
      ]
     },
     "execution_count": 14,
     "metadata": {},
     "output_type": "execute_result"
    }
   ],
   "source": [
    "turn = chooseFirst()\n",
    "turn"
   ]
  },
  {
   "cell_type": "code",
   "execution_count": 15,
   "metadata": {},
   "outputs": [],
   "source": [
    "# Step 6: Check if the current mark is a win\n",
    "#\n",
    "# What is considered a win?\n",
    "#   - ACROSS: check if all rows have the same mark.\n",
    "#   - DOWN: check if all columns have the same mark.\n",
    "#   - Diagonal: check if the TWO diagonals have the same mark.\n",
    "#\n",
    "# Inputs: board\n",
    "#         mark\n",
    "\n",
    "def checkIfWin(board, mark):\n",
    "    \n",
    "    # Check for ROW win\n",
    "    return ((board[7] == board[8] == board[9] == mark) or # Row 3\n",
    "    (board[4] == board[5] == board[6] == mark) or # Row 2\n",
    "    (board[1] == board[2] == board[3] == mark) or # Row 1\n",
    "    \n",
    "    # Check for COLUMN win\n",
    "    (board[3] == board[6] == board[9] == mark) or # Column 3\n",
    "    (board[2] == board[5] == board[8] == mark) or # Column 2\n",
    "    (board[1] == board[4] == board[7] == mark) or # Column 1\n",
    "    \n",
    "    # Check for DIAGONAL win\n",
    "    (board[7] == board[5] == board[3] == mark) or # Diagonal top left -> bottom right\n",
    "    (board[9] == board[5] == board[1] == mark)) # Diagnoal top right -> bottom left"
   ]
  },
  {
   "cell_type": "code",
   "execution_count": 16,
   "metadata": {},
   "outputs": [
    {
     "name": "stdout",
     "output_type": "stream",
     "text": [
      "X| | \n",
      "-----\n",
      " |X| \n",
      "-----\n",
      " | |X\n"
     ]
    },
    {
     "data": {
      "text/plain": [
       "True"
      ]
     },
     "execution_count": 16,
     "metadata": {},
     "output_type": "execute_result"
    }
   ],
   "source": [
    "testGameBoard = [' ', ' ', ' ', 'X', ' ', 'X', ' ', 'X', ' ', ' ']\n",
    "displayGame(testGameBoard)\n",
    "checkIfWin(testGameBoard, 'X')"
   ]
  },
  {
   "cell_type": "code",
   "execution_count": 17,
   "metadata": {},
   "outputs": [],
   "source": [
    "# Step 7: Check if the board is full\n",
    "\n",
    "def checkIfBoardIsFull(board):\n",
    "    \n",
    "    isFull = True\n",
    "    \n",
    "    for position in range(1, len(board)):\n",
    "        if checkIfSpace(board, position) == True:\n",
    "            isFull = False\n",
    "            \n",
    "            # Break out when the first space is found\n",
    "            break\n",
    "    \n",
    "    return isFull    "
   ]
  },
  {
   "cell_type": "code",
   "execution_count": 18,
   "metadata": {},
   "outputs": [],
   "source": [
    "testGameBoard = ['#','X', 'O', 'O', 'O', 'O', 'O', 'X', 'O', ' ']\n",
    "full = checkIfBoardIsFull(testGameBoard)"
   ]
  },
  {
   "cell_type": "code",
   "execution_count": 19,
   "metadata": {},
   "outputs": [
    {
     "data": {
      "text/plain": [
       "False"
      ]
     },
     "execution_count": 19,
     "metadata": {},
     "output_type": "execute_result"
    }
   ],
   "source": [
    "full"
   ]
  },
  {
   "cell_type": "code",
   "execution_count": 20,
   "metadata": {},
   "outputs": [],
   "source": [
    "# Step 8: Get the player's next choice of where to put a mark\n",
    "#\n",
    "# getPlayerChoice() will call checkIfSpace() from Step 4 to determine if the player's choice\n",
    "# is available.\n",
    "\n",
    "def getPlayerChoice(board, player):\n",
    "    \n",
    "    position = 0\n",
    "    \n",
    "    while position not in range(1, len(board)) or not checkIfSpace(board, position):\n",
    "\n",
    "        position = int(input(f\"{player}, please select a space (1-9): \"))\n",
    "        \n",
    "    return position"
   ]
  },
  {
   "cell_type": "code",
   "execution_count": 21,
   "metadata": {},
   "outputs": [
    {
     "name": "stdout",
     "output_type": "stream",
     "text": [
      "player1, please select a space (1-9): 9\n"
     ]
    }
   ],
   "source": [
    "testGameBoard = ['#', ' ', ' ', 'O', ' ', 'O', 'O', 'X', 'O', ' ']\n",
    "\n",
    "position = getPlayerChoice(testGameBoard, \"player1\")"
   ]
  },
  {
   "cell_type": "code",
   "execution_count": 22,
   "metadata": {},
   "outputs": [
    {
     "data": {
      "text/plain": [
       "9"
      ]
     },
     "execution_count": 22,
     "metadata": {},
     "output_type": "execute_result"
    }
   ],
   "source": [
    "position"
   ]
  },
  {
   "cell_type": "code",
   "execution_count": 23,
   "metadata": {},
   "outputs": [],
   "source": [
    "# Step 9: Ask if players want to play again\n",
    "#\n",
    "# Shamelessly copying this from previous lesson.\n",
    "\n",
    "# Step 4: Ask if the user wants to keep playing\n",
    "\n",
    "def keepPlaying():\n",
    "    \n",
    "    choice = \"Invalid choice\"\n",
    "    isContinue = False\n",
    "    \n",
    "    while choice.lower() not in ['y', 'n']:\n",
    "        \n",
    "        choice = input(\"Continue playing (Y/N)?\")\n",
    "        \n",
    "        if choice.lower() not in ['y', 'n']:\n",
    "            \n",
    "            print(\"Sorry, I don't understand\")\n",
    "            \n",
    "        if choice.lower() == 'y':\n",
    "            isContinue = True\n",
    "        else:\n",
    "            isContinue = False\n",
    "            \n",
    "    return isContinue"
   ]
  },
  {
   "cell_type": "code",
   "execution_count": 24,
   "metadata": {},
   "outputs": [
    {
     "name": "stdout",
     "output_type": "stream",
     "text": [
      "Continue playing (Y/N)?n\n"
     ]
    },
    {
     "data": {
      "text/plain": [
       "False"
      ]
     },
     "execution_count": 24,
     "metadata": {},
     "output_type": "execute_result"
    }
   ],
   "source": [
    "keepPlaying()"
   ]
  },
  {
   "cell_type": "code",
   "execution_count": 28,
   "metadata": {},
   "outputs": [
    {
     "name": "stdout",
     "output_type": "stream",
     "text": [
      "O| |X\n",
      "-----\n",
      "X|O|O\n",
      "-----\n",
      " | |X\n",
      "player1, please select a space (1-9): \n"
     ]
    },
    {
     "ename": "ValueError",
     "evalue": "invalid literal for int() with base 10: ''",
     "output_type": "error",
     "traceback": [
      "\u001b[0;31m---------------------------------------------------------------------------\u001b[0m",
      "\u001b[0;31mValueError\u001b[0m                                Traceback (most recent call last)",
      "\u001b[0;32m<ipython-input-28-8f3a7b3833ab>\u001b[0m in \u001b[0;36m<module>\u001b[0;34m\u001b[0m\n\u001b[1;32m     36\u001b[0m \u001b[0;34m\u001b[0m\u001b[0m\n\u001b[1;32m     37\u001b[0m             \u001b[0;31m# Ask for player's space choice\u001b[0m\u001b[0;34m\u001b[0m\u001b[0;34m\u001b[0m\u001b[0m\n\u001b[0;32m---> 38\u001b[0;31m             \u001b[0mposition\u001b[0m \u001b[0;34m=\u001b[0m \u001b[0mgetPlayerChoice\u001b[0m\u001b[0;34m(\u001b[0m\u001b[0mgameBoard\u001b[0m\u001b[0;34m,\u001b[0m \u001b[0mplayerOrder\u001b[0m\u001b[0;34m)\u001b[0m\u001b[0;34m\u001b[0m\u001b[0;34m\u001b[0m\u001b[0m\n\u001b[0m\u001b[1;32m     39\u001b[0m \u001b[0;34m\u001b[0m\u001b[0m\n\u001b[1;32m     40\u001b[0m             \u001b[0;31m# Place player's mark on the board\u001b[0m\u001b[0;34m\u001b[0m\u001b[0;34m\u001b[0m\u001b[0m\n",
      "\u001b[0;32m<ipython-input-20-55a66ebba9cc>\u001b[0m in \u001b[0;36mgetPlayerChoice\u001b[0;34m(board, player)\u001b[0m\n\u001b[1;32m     10\u001b[0m     \u001b[0;32mwhile\u001b[0m \u001b[0mposition\u001b[0m \u001b[0;32mnot\u001b[0m \u001b[0;32min\u001b[0m \u001b[0mrange\u001b[0m\u001b[0;34m(\u001b[0m\u001b[0;36m1\u001b[0m\u001b[0;34m,\u001b[0m \u001b[0mlen\u001b[0m\u001b[0;34m(\u001b[0m\u001b[0mboard\u001b[0m\u001b[0;34m)\u001b[0m\u001b[0;34m)\u001b[0m \u001b[0;32mor\u001b[0m \u001b[0;32mnot\u001b[0m \u001b[0mcheckIfSpace\u001b[0m\u001b[0;34m(\u001b[0m\u001b[0mboard\u001b[0m\u001b[0;34m,\u001b[0m \u001b[0mposition\u001b[0m\u001b[0;34m)\u001b[0m\u001b[0;34m:\u001b[0m\u001b[0;34m\u001b[0m\u001b[0;34m\u001b[0m\u001b[0m\n\u001b[1;32m     11\u001b[0m \u001b[0;34m\u001b[0m\u001b[0m\n\u001b[0;32m---> 12\u001b[0;31m         \u001b[0mposition\u001b[0m \u001b[0;34m=\u001b[0m \u001b[0mint\u001b[0m\u001b[0;34m(\u001b[0m\u001b[0minput\u001b[0m\u001b[0;34m(\u001b[0m\u001b[0;34mf\"{player}, please select a space (1-9): \"\u001b[0m\u001b[0;34m)\u001b[0m\u001b[0;34m)\u001b[0m\u001b[0;34m\u001b[0m\u001b[0;34m\u001b[0m\u001b[0m\n\u001b[0m\u001b[1;32m     13\u001b[0m \u001b[0;34m\u001b[0m\u001b[0m\n\u001b[1;32m     14\u001b[0m     \u001b[0;32mreturn\u001b[0m \u001b[0mposition\u001b[0m\u001b[0;34m\u001b[0m\u001b[0;34m\u001b[0m\u001b[0m\n",
      "\u001b[0;31mValueError\u001b[0m: invalid literal for int() with base 10: ''"
     ]
    }
   ],
   "source": [
    "# Step 10: Put steps 1-9 together into a single script\n",
    "\n",
    "print(f\"Welcome to Tic-Tac-Toe!\")\n",
    "\n",
    "isPlaying = True\n",
    "\n",
    "while isPlaying:\n",
    "    \n",
    "    # Initialize board\n",
    "    gameBoard = [' ']*10\n",
    " \n",
    "    # Ask player1 to select mark and assign other mark to player2\n",
    "    player1Mark, player2Mark = getPlayerInfo()\n",
    "\n",
    "    # Select who goes first\n",
    "    playerOrder = chooseFirst()\n",
    "\n",
    "    print(f\"{playerOrder} will go first\")\n",
    "   \n",
    "    playGame = input(\"Ready to play (Y/N? \")\n",
    "    \n",
    "    if playGame.lower()[0] == 'y':\n",
    "        gameOn = True\n",
    "    else:\n",
    "        gameOn = False\n",
    "    \n",
    "    # play the game\n",
    "    \n",
    "    while gameOn:\n",
    "        \n",
    "        if playerOrder == \"player1\":\n",
    "            # Player1 move\n",
    "\n",
    "            # Display the board\n",
    "            displayGame(gameBoard)\n",
    "\n",
    "            # Ask for player's space choice\n",
    "            position = getPlayerChoice(gameBoard, playerOrder)\n",
    "            \n",
    "            # Place player's mark on the board\n",
    "            placeMark(gameBoard, player1Mark, position)\n",
    "\n",
    "            # Check if player won or if there is a tie\n",
    "            if checkIfWin(gameBoard, player1Mark) == True:\n",
    "                displayGame(gameBoard)\n",
    "                print(f\"Player1 wins!\")\n",
    "                \n",
    "                gameOn = False\n",
    "            else:\n",
    "                if checkIfBoardIsFull(gameBoard) == True:\n",
    "                    print(f\"TIE :-(\")\n",
    "\n",
    "                    gameOn = False\n",
    "\n",
    "                # If no win and no tie, proceed to player2's turn\n",
    "                else:\n",
    "                    playerOrder = \"player2\"\n",
    "        else:\n",
    "            # Display the board\n",
    "            displayGame(gameBoard)\n",
    "\n",
    "            # Ask for player's space choice\n",
    "            position = getPlayerChoice(gameBoard, playerOrder)\n",
    "\n",
    "            # Place player's mark on the board\n",
    "            placeMark(gameBoard, player2Mark, position)\n",
    "\n",
    "            # Check if player won or if there is a tie\n",
    "            if checkIfWin(gameBoard, player2Mark) == True:\n",
    "                displayGame(gameBoard)\n",
    "                print(f\"Player2 wins!\")\n",
    "                \n",
    "                gameOn = False\n",
    "\n",
    "            else:\n",
    "                if checkIfBoardIsFull(gameBoard) == True:\n",
    "                    print(f\"TIE :-(\")\n",
    "\n",
    "                    gameOn = False\n",
    "\n",
    "                # If no win and no tie, proceed to player1's turn\n",
    "                else:\n",
    "                    playerOrder = \"player1\"\n",
    "    \n",
    "    # Ask if players want to play again\n",
    "    isPlaying = keepPlaying()\n",
    "\n",
    "# Exit the game\n",
    "print(\"Thank you for playing!\")"
   ]
  },
  {
   "cell_type": "code",
   "execution_count": null,
   "metadata": {},
   "outputs": [],
   "source": []
  },
  {
   "cell_type": "code",
   "execution_count": null,
   "metadata": {},
   "outputs": [],
   "source": []
  }
 ],
 "metadata": {
  "kernelspec": {
   "display_name": "Python 3",
   "language": "python",
   "name": "python3"
  },
  "language_info": {
   "codemirror_mode": {
    "name": "ipython",
    "version": 3
   },
   "file_extension": ".py",
   "mimetype": "text/x-python",
   "name": "python",
   "nbconvert_exporter": "python",
   "pygments_lexer": "ipython3",
   "version": "3.9.13"
  }
 },
 "nbformat": 4,
 "nbformat_minor": 4
}
