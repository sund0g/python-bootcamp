{
 "cells": [
  {
   "cell_type": "code",
   "execution_count": 3,
   "metadata": {},
   "outputs": [],
   "source": [
    "# Lesson 69"
   ]
  },
  {
   "cell_type": "code",
   "execution_count": 4,
   "metadata": {},
   "outputs": [],
   "source": [
    "# An example of a simple class.\n",
    "\n",
    "class SampleClass():\n",
    "    pass"
   ]
  },
  {
   "cell_type": "code",
   "execution_count": 5,
   "metadata": {},
   "outputs": [],
   "source": [
    "my_sample = SampleClass()"
   ]
  },
  {
   "cell_type": "code",
   "execution_count": 6,
   "metadata": {},
   "outputs": [
    {
     "data": {
      "text/plain": [
       "__main__.SampleClass"
      ]
     },
     "execution_count": 6,
     "metadata": {},
     "output_type": "execute_result"
    }
   ],
   "source": [
    "type(my_sample)"
   ]
  },
  {
   "cell_type": "code",
   "execution_count": null,
   "metadata": {},
   "outputs": [],
   "source": [
    "# Lesson 70"
   ]
  },
  {
   "cell_type": "code",
   "execution_count": 42,
   "metadata": {},
   "outputs": [],
   "source": [
    "# Adding an user attribute and a class object attribute\n",
    "\n",
    "class Dog():\n",
    "    \n",
    "    # Class object attribute\n",
    "    # Will be the same for any instance of the class\n",
    "    genus = 'canis'\n",
    "    \n",
    "    def __init__(self, breed, name, spots):\n",
    "        \n",
    "        # Attributes\n",
    "        self.breed = breed\n",
    "        self.name = name\n",
    "        \n",
    "        # Expect this to be a boolean, i.e. does the dog have spots?\n",
    "        self.spots = spots"
   ]
  },
  {
   "cell_type": "code",
   "execution_count": 43,
   "metadata": {},
   "outputs": [],
   "source": [
    "my_dog = Dog(breed=\"Rottweiller\", name=\"Deuce\", spots=False)"
   ]
  },
  {
   "cell_type": "code",
   "execution_count": 44,
   "metadata": {},
   "outputs": [
    {
     "data": {
      "text/plain": [
       "__main__.Dog"
      ]
     },
     "execution_count": 44,
     "metadata": {},
     "output_type": "execute_result"
    }
   ],
   "source": [
    "type(my_dog)"
   ]
  },
  {
   "cell_type": "code",
   "execution_count": 45,
   "metadata": {},
   "outputs": [
    {
     "data": {
      "text/plain": [
       "'Rottweiller'"
      ]
     },
     "execution_count": 45,
     "metadata": {},
     "output_type": "execute_result"
    }
   ],
   "source": [
    "# What breed is my dog?\n",
    "\n",
    "my_dog.breed"
   ]
  },
  {
   "cell_type": "code",
   "execution_count": 46,
   "metadata": {},
   "outputs": [
    {
     "data": {
      "text/plain": [
       "'Deuce'"
      ]
     },
     "execution_count": 46,
     "metadata": {},
     "output_type": "execute_result"
    }
   ],
   "source": [
    "# What is his name?\n",
    "\n",
    "my_dog.name"
   ]
  },
  {
   "cell_type": "code",
   "execution_count": 47,
   "metadata": {},
   "outputs": [
    {
     "data": {
      "text/plain": [
       "False"
      ]
     },
     "execution_count": 47,
     "metadata": {},
     "output_type": "execute_result"
    }
   ],
   "source": [
    "# My Rottie has spots?\n",
    "\n",
    "my_dog.spots"
   ]
  },
  {
   "cell_type": "code",
   "execution_count": 48,
   "metadata": {},
   "outputs": [
    {
     "data": {
      "text/plain": [
       "'canis'"
      ]
     },
     "execution_count": 48,
     "metadata": {},
     "output_type": "execute_result"
    }
   ],
   "source": [
    "# What genus is my dog?\n",
    "\n",
    "my_dog.genus"
   ]
  },
  {
   "cell_type": "code",
   "execution_count": 63,
   "metadata": {},
   "outputs": [],
   "source": [
    "# Adding a class method\n",
    "\n",
    "class Dog():\n",
    "    \n",
    "    # Class object attribute\n",
    "    # Will be the same for any instance of the class\n",
    "    genus = 'canis'\n",
    "    \n",
    "    def __init__(self, breed, name):\n",
    "        \n",
    "        # Attributes\n",
    "        self.breed = breed\n",
    "        self.name = name    \n",
    "        \n",
    "    # Operations/actions AKA methods\n",
    "    \n",
    "    def bark(self):\n",
    "        print(f\"WOOF! My name is {self.name}\")\n",
    "        \n",
    "    # Example of a user parameter\n",
    "    \n",
    "    def say_number(self, number):\n",
    "        print(\"WOOF! The number is {}\".format(number))"
   ]
  },
  {
   "cell_type": "code",
   "execution_count": 64,
   "metadata": {},
   "outputs": [],
   "source": [
    "my_dog = Dog(\"Rottweiller\", \"Deuce\")"
   ]
  },
  {
   "cell_type": "code",
   "execution_count": 65,
   "metadata": {},
   "outputs": [
    {
     "name": "stdout",
     "output_type": "stream",
     "text": [
      "WOOF! My name is Deuce\n"
     ]
    }
   ],
   "source": [
    "my_dog.bark()"
   ]
  },
  {
   "cell_type": "code",
   "execution_count": 66,
   "metadata": {},
   "outputs": [
    {
     "name": "stdout",
     "output_type": "stream",
     "text": [
      "WOOF! The number is 42\n"
     ]
    }
   ],
   "source": [
    "my_dog.say_number(42)"
   ]
  },
  {
   "cell_type": "code",
   "execution_count": 109,
   "metadata": {},
   "outputs": [],
   "source": [
    "# Another example\n",
    "\n",
    "class Circle():\n",
    "    \n",
    "    # Class object attribute\n",
    "    pi = 3.14\n",
    "    \n",
    "    # Constructor class\n",
    "    def __init__(self, radius=1): # giving radius a default value\n",
    "        \n",
    "        self.radius = radius\n",
    "        \n",
    "        # Example of an attribute passed in as a parameter\n",
    "        self.area = self.pi * (radius **2)\n",
    "    \n",
    "    # Class method\n",
    "    \n",
    "    def get_circumference(self):\n",
    "        return 2 * self.pi * self.radius"
   ]
  },
  {
   "cell_type": "code",
   "execution_count": 110,
   "metadata": {},
   "outputs": [],
   "source": [
    "# radius default is 1, but can override when instatiating the class.\n",
    "\n",
    "my_circle = Circle(30)"
   ]
  },
  {
   "cell_type": "code",
   "execution_count": 111,
   "metadata": {},
   "outputs": [
    {
     "data": {
      "text/plain": [
       "3.14"
      ]
     },
     "execution_count": 111,
     "metadata": {},
     "output_type": "execute_result"
    }
   ],
   "source": [
    "my_circle.pi"
   ]
  },
  {
   "cell_type": "code",
   "execution_count": 112,
   "metadata": {},
   "outputs": [
    {
     "data": {
      "text/plain": [
       "188.4"
      ]
     },
     "execution_count": 112,
     "metadata": {},
     "output_type": "execute_result"
    }
   ],
   "source": [
    "my_circle.get_circumference()"
   ]
  },
  {
   "cell_type": "code",
   "execution_count": 113,
   "metadata": {},
   "outputs": [
    {
     "data": {
      "text/plain": [
       "2826.0"
      ]
     },
     "execution_count": 113,
     "metadata": {},
     "output_type": "execute_result"
    }
   ],
   "source": [
    "my_circle.area"
   ]
  },
  {
   "cell_type": "code",
   "execution_count": 114,
   "metadata": {},
   "outputs": [],
   "source": [
    "# Example showing how class object attributes can be more clearly defined\n",
    "\n",
    "class Circle():\n",
    "    \n",
    "    # Class object attribute\n",
    "    pi = 3.14\n",
    "    \n",
    "    # Constructor class\n",
    "    def __init__(self, radius=1): # giving radius a default value\n",
    "        \n",
    "        self.radius = radius\n",
    "    \n",
    "    # Class method\n",
    "    \n",
    "    def get_circumference(self):\n",
    "        return 2 * Circle.pi * self.radius"
   ]
  },
  {
   "cell_type": "code",
   "execution_count": 115,
   "metadata": {},
   "outputs": [
    {
     "data": {
      "text/plain": [
       "188.4"
      ]
     },
     "execution_count": 115,
     "metadata": {},
     "output_type": "execute_result"
    }
   ],
   "source": [
    "my_circle.get_circumference()"
   ]
  },
  {
   "cell_type": "code",
   "execution_count": null,
   "metadata": {},
   "outputs": [],
   "source": []
  }
 ],
 "metadata": {
  "kernelspec": {
   "display_name": "Python 3",
   "language": "python",
   "name": "python3"
  },
  "language_info": {
   "codemirror_mode": {
    "name": "ipython",
    "version": 3
   },
   "file_extension": ".py",
   "mimetype": "text/x-python",
   "name": "python",
   "nbconvert_exporter": "python",
   "pygments_lexer": "ipython3",
   "version": "3.9.13"
  }
 },
 "nbformat": 4,
 "nbformat_minor": 4
}
