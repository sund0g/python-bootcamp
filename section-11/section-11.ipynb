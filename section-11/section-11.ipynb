{
 "cells": [
  {
   "cell_type": "code",
   "execution_count": 1,
   "metadata": {},
   "outputs": [],
   "source": [
    "# Lesson 87"
   ]
  },
  {
   "cell_type": "code",
   "execution_count": 2,
   "metadata": {},
   "outputs": [],
   "source": [
    "'''\n",
    "Card class has three properties,\n",
    "  - Suit: Spade, Heart, Club, Diamond\n",
    "  - Rank: 2-Ace\n",
    "  - Value: Integer value that corresponds to the Rank.\n",
    "'''\n",
    "\n",
    "# Global tuples containing the Suits and Ranks\n",
    "\n",
    "suits = (\"Spades\", \"Hearts\", \"Clubs\", \"Diamonds\")\n",
    "\n",
    "ranks = (\"Two\", \"Three\", \"Four\", \"Five\", \"Six\", \"Seven\", \"Eight\", \"Nine\", \"Ten\",\n",
    "        \"Jack\", \"Queen\", \"King\", \"Ace\")\n",
    "\n",
    "# Global dictionary matching the string Rank with it's corresponding integer value\n",
    "values = {\"Two\":2, \"Three\":3, \"Four\":4, \"Five\":5, \"Six\":6, \"Seven\":7, \n",
    "      \"Eight\":8, \"Nine\":9, \"Ten\":10, \"Jack\":11, \"Queen\":12, \"King\":13, \"Ace\":14}\n",
    "\n",
    "class Card():\n",
    "    \n",
    "    # Constructor method\n",
    "    def __init__(self, suit, rank):\n",
    "        \n",
    "        self.suit = suit\n",
    "        self.rank = rank\n",
    "        \n",
    "        # Don't need to pass self.rank to values because the \n",
    "        # constructor method requires it to be passed in.\n",
    "        self.value = values[rank]\n",
    "        \n",
    "    # String method that can be used to print out the card\n",
    "    def __str__(self):\n",
    "        return f\"{self.rank} of {self.suit}\"    "
   ]
  },
  {
   "cell_type": "code",
   "execution_count": 3,
   "metadata": {},
   "outputs": [],
   "source": [
    "# Test\n",
    "#\n",
    "# NOTE: The strings must be passed in exactly like they are defined in the dictionary.\n",
    "\n",
    "two_hearts = Card(\"Hearts\", \"Two\")"
   ]
  },
  {
   "cell_type": "code",
   "execution_count": 4,
   "metadata": {},
   "outputs": [
    {
     "name": "stdout",
     "output_type": "stream",
     "text": [
      "Two of Hearts\n"
     ]
    }
   ],
   "source": [
    "print(two_hearts)"
   ]
  },
  {
   "cell_type": "code",
   "execution_count": 5,
   "metadata": {},
   "outputs": [
    {
     "data": {
      "text/plain": [
       "'Hearts'"
      ]
     },
     "execution_count": 5,
     "metadata": {},
     "output_type": "execute_result"
    }
   ],
   "source": [
    "two_hearts.suit"
   ]
  },
  {
   "cell_type": "code",
   "execution_count": 6,
   "metadata": {},
   "outputs": [
    {
     "data": {
      "text/plain": [
       "'Two'"
      ]
     },
     "execution_count": 6,
     "metadata": {},
     "output_type": "execute_result"
    }
   ],
   "source": [
    "two_hearts.rank"
   ]
  },
  {
   "cell_type": "code",
   "execution_count": 7,
   "metadata": {},
   "outputs": [
    {
     "data": {
      "text/plain": [
       "2"
      ]
     },
     "execution_count": 7,
     "metadata": {},
     "output_type": "execute_result"
    }
   ],
   "source": [
    "two_hearts.value"
   ]
  },
  {
   "cell_type": "code",
   "execution_count": 8,
   "metadata": {},
   "outputs": [],
   "source": [
    "# Test if the values work as expected\n",
    "\n",
    "three_hearts = Card(\"Hearts\", \"Three\")"
   ]
  },
  {
   "cell_type": "code",
   "execution_count": 9,
   "metadata": {},
   "outputs": [
    {
     "data": {
      "text/plain": [
       "True"
      ]
     },
     "execution_count": 9,
     "metadata": {},
     "output_type": "execute_result"
    }
   ],
   "source": [
    "two_hearts.value <= three_hearts.value"
   ]
  },
  {
   "cell_type": "code",
   "execution_count": 10,
   "metadata": {},
   "outputs": [
    {
     "data": {
      "text/plain": [
       "False"
      ]
     },
     "execution_count": 10,
     "metadata": {},
     "output_type": "execute_result"
    }
   ],
   "source": [
    "two_hearts.value >= three_hearts.value"
   ]
  },
  {
   "cell_type": "code",
   "execution_count": 11,
   "metadata": {},
   "outputs": [],
   "source": [
    "# Lesson 88"
   ]
  },
  {
   "cell_type": "code",
   "execution_count": 12,
   "metadata": {},
   "outputs": [],
   "source": [
    "'''\n",
    "Deck class does the following,\n",
    "\n",
    "   - Creates a deck (as a list)\n",
    "   - Shuffles a deck\n",
    "   - Deals from a deck\n",
    "'''\n",
    "\n",
    "# Import the random package for the shuffle() method\n",
    "from random import shuffle\n",
    "\n",
    "class Deck():\n",
    "    \n",
    "    # Constructor class\n",
    "    def __init__(self):\n",
    "        \n",
    "        # Create a deck when instantiating it.\n",
    "        self.all_cards = []\n",
    "        \n",
    "        for suit in suits:\n",
    "            for rank in ranks:\n",
    "                \n",
    "                created_card = Card(suit, rank)\n",
    "                \n",
    "                self.all_cards.append(created_card)\n",
    "                \n",
    "    # Shuffle deck method\n",
    "    def shuffle(self):\n",
    "        \n",
    "        # Not overriding random.shuffle\n",
    "        shuffle(self.all_cards)\n",
    "        \n",
    "    # Deal method\n",
    "    def deal(self):\n",
    "        \n",
    "        # Deal the top card and remove it from the deck.\n",
    "        return self.all_cards.pop(0)"
   ]
  },
  {
   "cell_type": "code",
   "execution_count": 13,
   "metadata": {},
   "outputs": [],
   "source": [
    "new_deck = Deck()"
   ]
  },
  {
   "cell_type": "code",
   "execution_count": 14,
   "metadata": {},
   "outputs": [],
   "source": [
    "first_card = new_deck.all_cards[0]"
   ]
  },
  {
   "cell_type": "code",
   "execution_count": 15,
   "metadata": {},
   "outputs": [
    {
     "name": "stdout",
     "output_type": "stream",
     "text": [
      "Two of Spades\n"
     ]
    }
   ],
   "source": [
    "print(first_card)"
   ]
  },
  {
   "cell_type": "code",
   "execution_count": 16,
   "metadata": {},
   "outputs": [],
   "source": [
    "my_card = new_deck.deal()"
   ]
  },
  {
   "cell_type": "code",
   "execution_count": 17,
   "metadata": {},
   "outputs": [
    {
     "name": "stdout",
     "output_type": "stream",
     "text": [
      "Two of Spades\n"
     ]
    }
   ],
   "source": [
    "print(my_card)"
   ]
  },
  {
   "cell_type": "code",
   "execution_count": 18,
   "metadata": {},
   "outputs": [
    {
     "data": {
      "text/plain": [
       "51"
      ]
     },
     "execution_count": 18,
     "metadata": {},
     "output_type": "execute_result"
    }
   ],
   "source": [
    "# Test to ensure the card was removed from the deck.\n",
    "\n",
    "len(new_deck.all_cards)"
   ]
  },
  {
   "cell_type": "code",
   "execution_count": 19,
   "metadata": {},
   "outputs": [],
   "source": [
    "# Remember '-1' will always go the the last item in the list.\n",
    "\n",
    "last_card = new_deck.all_cards[-1]"
   ]
  },
  {
   "cell_type": "code",
   "execution_count": 20,
   "metadata": {},
   "outputs": [
    {
     "name": "stdout",
     "output_type": "stream",
     "text": [
      "Ace of Diamonds\n"
     ]
    }
   ],
   "source": [
    "print(last_card)"
   ]
  },
  {
   "cell_type": "code",
   "execution_count": 21,
   "metadata": {},
   "outputs": [
    {
     "name": "stdout",
     "output_type": "stream",
     "text": [
      "Three of Spades\n",
      "Four of Spades\n",
      "Five of Spades\n",
      "Six of Spades\n",
      "Seven of Spades\n",
      "Eight of Spades\n",
      "Nine of Spades\n",
      "Ten of Spades\n",
      "Jack of Spades\n",
      "Queen of Spades\n",
      "King of Spades\n",
      "Ace of Spades\n",
      "Two of Hearts\n",
      "Three of Hearts\n",
      "Four of Hearts\n",
      "Five of Hearts\n",
      "Six of Hearts\n",
      "Seven of Hearts\n",
      "Eight of Hearts\n",
      "Nine of Hearts\n",
      "Ten of Hearts\n",
      "Jack of Hearts\n",
      "Queen of Hearts\n",
      "King of Hearts\n",
      "Ace of Hearts\n",
      "Two of Clubs\n",
      "Three of Clubs\n",
      "Four of Clubs\n",
      "Five of Clubs\n",
      "Six of Clubs\n",
      "Seven of Clubs\n",
      "Eight of Clubs\n",
      "Nine of Clubs\n",
      "Ten of Clubs\n",
      "Jack of Clubs\n",
      "Queen of Clubs\n",
      "King of Clubs\n",
      "Ace of Clubs\n",
      "Two of Diamonds\n",
      "Three of Diamonds\n",
      "Four of Diamonds\n",
      "Five of Diamonds\n",
      "Six of Diamonds\n",
      "Seven of Diamonds\n",
      "Eight of Diamonds\n",
      "Nine of Diamonds\n",
      "Ten of Diamonds\n",
      "Jack of Diamonds\n",
      "Queen of Diamonds\n",
      "King of Diamonds\n",
      "Ace of Diamonds\n"
     ]
    }
   ],
   "source": [
    "for card_object in new_deck.all_cards:\n",
    "    print(card_object)"
   ]
  },
  {
   "cell_type": "code",
   "execution_count": 22,
   "metadata": {},
   "outputs": [],
   "source": [
    "new_deck.shuffle()"
   ]
  },
  {
   "cell_type": "code",
   "execution_count": 23,
   "metadata": {},
   "outputs": [
    {
     "name": "stdout",
     "output_type": "stream",
     "text": [
      "Eight of Clubs\n"
     ]
    }
   ],
   "source": [
    "print(new_deck.all_cards[-1])"
   ]
  },
  {
   "cell_type": "code",
   "execution_count": 24,
   "metadata": {},
   "outputs": [],
   "source": [
    "new_deck.shuffle()"
   ]
  },
  {
   "cell_type": "code",
   "execution_count": 25,
   "metadata": {},
   "outputs": [
    {
     "name": "stdout",
     "output_type": "stream",
     "text": [
      "Ten of Diamonds\n"
     ]
    }
   ],
   "source": [
    "print(new_deck.all_cards[-1])"
   ]
  },
  {
   "cell_type": "code",
   "execution_count": 26,
   "metadata": {},
   "outputs": [],
   "source": [
    "# Lesson 89"
   ]
  },
  {
   "cell_type": "code",
   "execution_count": 27,
   "metadata": {},
   "outputs": [],
   "source": [
    "'''\n",
    "Player class\n",
    "'''\n",
    "\n",
    "class Player():\n",
    "    \n",
    "    # Constructor method\n",
    "    def __init__(self, name):\n",
    "        \n",
    "        self.name = name\n",
    "        \n",
    "        # each player starts with an empty hand\n",
    "        self.all_cards = []\n",
    "        \n",
    "    def remove_cards(self):\n",
    "        \n",
    "        return self.all_cards.pop(0)\n",
    "    \n",
    "    def add_cards(self, new_cards):\n",
    "        \n",
    "        # Check if we're adding multiple cards, (check to see if new_cards is a list)\n",
    "        if type(new_cards) == type([]):\n",
    "            # Adding multiple cards\n",
    "            \n",
    "            self.all_cards.extend(new_cards)\n",
    "        else:\n",
    "            # Adding a single card\n",
    "            \n",
    "            self.all_cards.append(new_cards)\n",
    "    \n",
    "    def __str__(self):\n",
    "        \n",
    "        return f\"{self.name} has {len(self.all_cards)} cards\"\n",
    "        "
   ]
  },
  {
   "cell_type": "code",
   "execution_count": 28,
   "metadata": {},
   "outputs": [],
   "source": [
    "player1 = Player(\"Bartholomew Roberts\")"
   ]
  },
  {
   "cell_type": "code",
   "execution_count": 29,
   "metadata": {},
   "outputs": [
    {
     "name": "stdout",
     "output_type": "stream",
     "text": [
      "Bartholomew Roberts has 0 cards\n"
     ]
    }
   ],
   "source": [
    "print(player1)"
   ]
  },
  {
   "cell_type": "code",
   "execution_count": 30,
   "metadata": {},
   "outputs": [],
   "source": [
    "# Test using objects defined above\n",
    "\n",
    "player1.add_cards(my_card)"
   ]
  },
  {
   "cell_type": "code",
   "execution_count": 31,
   "metadata": {},
   "outputs": [
    {
     "name": "stdout",
     "output_type": "stream",
     "text": [
      "Bartholomew Roberts has 1 cards\n"
     ]
    }
   ],
   "source": [
    "print(player1)"
   ]
  },
  {
   "cell_type": "code",
   "execution_count": 32,
   "metadata": {},
   "outputs": [
    {
     "name": "stdout",
     "output_type": "stream",
     "text": [
      "Two of Spades\n"
     ]
    }
   ],
   "source": [
    "print(player1.all_cards[0])"
   ]
  },
  {
   "cell_type": "code",
   "execution_count": 33,
   "metadata": {},
   "outputs": [],
   "source": [
    "# Quick simulated test for multiple cards\n",
    "\n",
    "player1.add_cards([my_card, my_card, my_card])"
   ]
  },
  {
   "cell_type": "code",
   "execution_count": 34,
   "metadata": {},
   "outputs": [
    {
     "name": "stdout",
     "output_type": "stream",
     "text": [
      "Bartholomew Roberts has 4 cards\n"
     ]
    }
   ],
   "source": [
    "print(player1)"
   ]
  },
  {
   "cell_type": "code",
   "execution_count": 35,
   "metadata": {},
   "outputs": [
    {
     "data": {
      "text/plain": [
       "<__main__.Card at 0x106ca7f40>"
      ]
     },
     "execution_count": 35,
     "metadata": {},
     "output_type": "execute_result"
    }
   ],
   "source": [
    "# Test if remove_cards works\n",
    "\n",
    "player1.remove_cards()"
   ]
  },
  {
   "cell_type": "code",
   "execution_count": 36,
   "metadata": {},
   "outputs": [
    {
     "name": "stdout",
     "output_type": "stream",
     "text": [
      "Bartholomew Roberts has 3 cards\n"
     ]
    }
   ],
   "source": [
    "print(player1)"
   ]
  },
  {
   "cell_type": "code",
   "execution_count": 37,
   "metadata": {},
   "outputs": [],
   "source": [
    "# Lessons 91, 92, 93"
   ]
  },
  {
   "cell_type": "code",
   "execution_count": 50,
   "metadata": {},
   "outputs": [],
   "source": [
    "# Setup the game\n",
    "\n",
    "player1 = Player(\"Bartholomew Roberts\")\n",
    "\n",
    "player2 = Player(\"Tim Finnegan\")\n",
    "\n",
    "# Create the deck and shuffle it\n",
    "\n",
    "new_deck = Deck()\n",
    "\n",
    "new_deck.shuffle()\n",
    "\n",
    "# Deal the cards to the players\n",
    "\n",
    "while len(new_deck.all_cards) > 0:\n",
    "    player1.add_cards(new_deck.deal())\n",
    "    player2.add_cards(new_deck.deal())"
   ]
  },
  {
   "cell_type": "code",
   "execution_count": 51,
   "metadata": {},
   "outputs": [
    {
     "name": "stdout",
     "output_type": "stream",
     "text": [
      "Tim Finnegan has 26 cards\n"
     ]
    }
   ],
   "source": [
    "# Test the logic\n",
    "\n",
    "print(player2)"
   ]
  },
  {
   "cell_type": "code",
   "execution_count": 52,
   "metadata": {},
   "outputs": [
    {
     "name": "stdout",
     "output_type": "stream",
     "text": [
      "Round 1\n",
      "Round 2\n",
      "Round 3\n",
      "Round 4\n",
      "Round 5\n",
      "WAR!\n",
      "Round 6\n",
      "Round 7\n",
      "Round 8\n",
      "Round 9\n",
      "Round 10\n",
      "Round 11\n",
      "Round 12\n",
      "Round 13\n",
      "Round 14\n",
      "Round 15\n",
      "Round 16\n",
      "Round 17\n",
      "Round 18\n",
      "Round 19\n",
      "WAR!\n",
      "Round 20\n",
      "Round 21\n",
      "Round 22\n",
      "Round 23\n",
      "Round 24\n",
      "Round 25\n",
      "Round 26\n",
      "Round 27\n",
      "Round 28\n",
      "Round 29\n",
      "Round 30\n",
      "Round 31\n",
      "Round 32\n",
      "Round 33\n",
      "Round 34\n",
      "Round 35\n",
      "Round 36\n",
      "Round 37\n",
      "Round 38\n",
      "Round 39\n",
      "Round 40\n",
      "Round 41\n",
      "Round 42\n",
      "Round 43\n",
      "Round 44\n",
      "Round 45\n",
      "Round 46\n",
      "Round 47\n",
      "Round 48\n",
      "Round 49\n",
      "Round 50\n",
      "Round 51\n",
      "Round 52\n",
      "Round 53\n",
      "Round 54\n",
      "WAR!\n",
      "Round 55\n",
      "Round 56\n",
      "Round 57\n",
      "Round 58\n",
      "Round 59\n",
      "Round 60\n",
      "Round 61\n",
      "Round 62\n",
      "Round 63\n",
      "Round 64\n",
      "Round 65\n",
      "Round 66\n",
      "Round 67\n",
      "Round 68\n",
      "Round 69\n",
      "Round 70\n",
      "Round 71\n",
      "Round 72\n",
      "Round 73\n",
      "Round 74\n",
      "Round 75\n",
      "Round 76\n",
      "Round 77\n",
      "Round 78\n",
      "Round 79\n",
      "Round 80\n",
      "Round 81\n",
      "Round 82\n",
      "Round 83\n",
      "Round 84\n",
      "Round 85\n",
      "Round 86\n",
      "Round 87\n",
      "Round 88\n",
      "Round 89\n",
      "Round 90\n",
      "WAR!\n",
      "Tim Finnegan has 3 cards. Unable to play war!\n",
      "Bartholomew Roberts has 47 cards. Wins!\n"
     ]
    }
   ],
   "source": [
    "# Set a counter for the hand number\n",
    "game_round = 0\n",
    "\n",
    "# Define the number of cards to draw for a war\n",
    "war_cards = 5\n",
    "\n",
    "game_on = True\n",
    "\n",
    "while game_on:\n",
    "    \n",
    "    game_round += 1\n",
    "    print(f\"Round {game_round}\")\n",
    "    \n",
    "    # Check to see if either player is out of cards\n",
    "    if len(player1.all_cards) == 0:\n",
    "        print(f\"{player1} out of cards! Game Over\")\n",
    "        print(f\"{player2} Wins!\")\n",
    "        \n",
    "        # game over\n",
    "        game_on = False\n",
    "        break\n",
    "        \n",
    "    if len(player2.all_cards) == 0:\n",
    "        print(f\"{player2} out of cards! Game Over\")\n",
    "        print(f\"{player1} Wins!\")\n",
    "        \n",
    "        # game over\n",
    "        game_on = False\n",
    "        break\n",
    "    \n",
    "    # Play the round\n",
    "    \n",
    "    # Player's hands are the ones they draw at the beginning of each round\n",
    "    # Re-initialize the player's hands at the start of each round.\n",
    "    \n",
    "    # Also remove the top card from both player's decks.\n",
    "    player1_hand = []\n",
    "    \n",
    "    player1_hand.append(player1.remove_cards())\n",
    "    \n",
    "    player2_hand = []\n",
    "    \n",
    "    player2_hand.append(player2.remove_cards())\n",
    "    \n",
    "    at_war = True\n",
    "\n",
    "    while at_war:\n",
    "\n",
    "        # Check if player1's card > player2's card\n",
    "        \n",
    "        # Checking the \"last\" care (-1) instead of the first one because the first\n",
    "        # card started the war, and comparing it will result in an infinite loop.\n",
    "        if player1_hand[-1].value > player2_hand[-1].value:\n",
    "\n",
    "            # Give back player1's card to them\n",
    "            player1.add_cards(player1_hand)\n",
    "            \n",
    "            # Add player2's card to player1's deck\n",
    "            player1.add_cards(player2_hand)\n",
    "            \n",
    "            # Not at war, progress to next round\n",
    "            at_war = False\n",
    "        \n",
    "        # Check if player2's card > player1's card\n",
    "        elif player1_hand[-1].value < player2_hand[-1].value:\n",
    "\n",
    "            # Give back player2's card to them\n",
    "            player2.add_cards(player1_hand)\n",
    "            \n",
    "            # Add player1's card to player2's deck\n",
    "            player2.add_cards(player2_hand)\n",
    "            \n",
    "            # Not at war, progress to next round\n",
    "            at_war = False\n",
    "        \n",
    "        # There is a war, draw <war_cards> cards from each player's deck\n",
    "        else:\n",
    "            print('WAR!')\n",
    "            # This occurs when the cards are equal.\n",
    "            \n",
    "            # Check if both player have enough cards to play the hand\n",
    "            # Each player must have at least 5 cards\n",
    "            \n",
    "            if len(player1.all_cards) < war_cards:\n",
    "                print(f\"{player1}. Unable to play war!\")\n",
    "                print(f\"{player2}. Wins!\")\n",
    "                \n",
    "                game_on = False\n",
    "                \n",
    "                # Break out of the War loop\n",
    "                break\n",
    "\n",
    "            elif len(player2.all_cards) < war_cards:\n",
    "                print(f\"{player2}. Unable to play war!\")\n",
    "                print(f\"{player1}. Wins!\")\n",
    "                \n",
    "                game_on = False\n",
    "                \n",
    "                # Break out of the War loop\n",
    "                break\n",
    "\n",
    "            # Both players have enough cards\n",
    "            else:\n",
    "                \n",
    "                # Draw additional cards\n",
    "                for num in range(war_cards):\n",
    "                    player1_hand.append(player1.remove_cards())\n",
    "                    player2_hand.append(player2.remove_cards())"
   ]
  },
  {
   "cell_type": "code",
   "execution_count": null,
   "metadata": {},
   "outputs": [],
   "source": []
  }
 ],
 "metadata": {
  "kernelspec": {
   "display_name": "Python 3",
   "language": "python",
   "name": "python3"
  },
  "language_info": {
   "codemirror_mode": {
    "name": "ipython",
    "version": 3
   },
   "file_extension": ".py",
   "mimetype": "text/x-python",
   "name": "python",
   "nbconvert_exporter": "python",
   "pygments_lexer": "ipython3",
   "version": "3.9.13"
  }
 },
 "nbformat": 4,
 "nbformat_minor": 4
}
