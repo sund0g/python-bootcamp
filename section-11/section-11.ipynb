{
 "cells": [
  {
   "cell_type": "code",
   "execution_count": 1,
   "metadata": {},
   "outputs": [],
   "source": [
    "# Lesson 87"
   ]
  },
  {
   "cell_type": "code",
   "execution_count": 70,
   "metadata": {},
   "outputs": [],
   "source": [
    "'''\n",
    "Card class has three properties,\n",
    "  - Suit: Spade, Heart, Club, Diamond\n",
    "  - Rank: 2-Ace\n",
    "  - Value: Integer value that corresponds to the Rank.\n",
    "'''\n",
    "\n",
    "# Global tuples containing the Suits and Ranks\n",
    "\n",
    "suits = (\"Spades\", \"Hearts\", \"Clubs\", \"Diamonds\")\n",
    "\n",
    "ranks = (\"Two\", \"Three\", \"Four\", \"Five\", \"Six\", \"Seven\", \"Eight\", \"Nine\", \"Ten\",\n",
    "        \"Jack\", \"Queen\", \"King\", \"Ace\")\n",
    "\n",
    "# Global dictionary matching the string Rank with it's corresponding integer value\n",
    "values = {\"Two\":2, \"Three\":3, \"Four\":4, \"Five\":5, \"Six\":6, \"Seven\":7, \n",
    "      \"Eight\":8, \"Nine\":9, \"Ten\":10, \"Jack\":11, \"Queen\":12, \"King\":13, \"Ace\":14}\n",
    "\n",
    "class Card():\n",
    "    \n",
    "    # Constructor method\n",
    "    def __init__(self, suit, rank):\n",
    "        \n",
    "        self.suit = suit\n",
    "        self.rank = rank\n",
    "        \n",
    "        # Don't need to pass self.rank to values because the \n",
    "        # constructor method requires it to be passed in.\n",
    "        self.value = values[rank]\n",
    "        \n",
    "    # String method that can be used to print out the card\n",
    "    def __str__(self):\n",
    "        return f\"{self.rank} of {self.suit}\"    "
   ]
  },
  {
   "cell_type": "code",
   "execution_count": 71,
   "metadata": {},
   "outputs": [],
   "source": [
    "# Test\n",
    "#\n",
    "# NOTE: The strings must be passed in exactly like they are defined in the dictionary.\n",
    "\n",
    "two_hearts = Card(\"Hearts\", \"Two\")"
   ]
  },
  {
   "cell_type": "code",
   "execution_count": 72,
   "metadata": {},
   "outputs": [
    {
     "name": "stdout",
     "output_type": "stream",
     "text": [
      "Two of Hearts\n"
     ]
    }
   ],
   "source": [
    "print(two_hearts)"
   ]
  },
  {
   "cell_type": "code",
   "execution_count": 73,
   "metadata": {},
   "outputs": [
    {
     "data": {
      "text/plain": [
       "'Hearts'"
      ]
     },
     "execution_count": 73,
     "metadata": {},
     "output_type": "execute_result"
    }
   ],
   "source": [
    "two_hearts.suit"
   ]
  },
  {
   "cell_type": "code",
   "execution_count": 74,
   "metadata": {},
   "outputs": [
    {
     "data": {
      "text/plain": [
       "'Two'"
      ]
     },
     "execution_count": 74,
     "metadata": {},
     "output_type": "execute_result"
    }
   ],
   "source": [
    "two_hearts.rank"
   ]
  },
  {
   "cell_type": "code",
   "execution_count": 75,
   "metadata": {},
   "outputs": [
    {
     "data": {
      "text/plain": [
       "2"
      ]
     },
     "execution_count": 75,
     "metadata": {},
     "output_type": "execute_result"
    }
   ],
   "source": [
    "two_hearts.value"
   ]
  },
  {
   "cell_type": "code",
   "execution_count": 76,
   "metadata": {},
   "outputs": [],
   "source": [
    "# Test if the values work as expected\n",
    "\n",
    "three_hearts = Card(\"Hearts\", \"Three\")"
   ]
  },
  {
   "cell_type": "code",
   "execution_count": 77,
   "metadata": {},
   "outputs": [
    {
     "data": {
      "text/plain": [
       "True"
      ]
     },
     "execution_count": 77,
     "metadata": {},
     "output_type": "execute_result"
    }
   ],
   "source": [
    "two_hearts.value <= three_hearts.value"
   ]
  },
  {
   "cell_type": "code",
   "execution_count": 78,
   "metadata": {},
   "outputs": [
    {
     "data": {
      "text/plain": [
       "False"
      ]
     },
     "execution_count": 78,
     "metadata": {},
     "output_type": "execute_result"
    }
   ],
   "source": [
    "two_hearts.value >= three_hearts.value"
   ]
  },
  {
   "cell_type": "code",
   "execution_count": 79,
   "metadata": {},
   "outputs": [],
   "source": [
    "# Lesson 88"
   ]
  },
  {
   "cell_type": "code",
   "execution_count": 114,
   "metadata": {},
   "outputs": [],
   "source": [
    "'''\n",
    "Deck class does the following,\n",
    "\n",
    "   - Creates a deck (as a list)\n",
    "   - Shuffles a deck\n",
    "   - Deals from a deck\n",
    "'''\n",
    "\n",
    "# Import the random package for the shuffle() method\n",
    "from random import shuffle\n",
    "\n",
    "class Deck():\n",
    "    \n",
    "    # Constructor class\n",
    "    def __init__(self):\n",
    "        \n",
    "        # Create a deck when instaniating it.\n",
    "        self.all_cards = []\n",
    "        \n",
    "        for suit in suits:\n",
    "            for rank in ranks:\n",
    "                \n",
    "                created_card = Card(suit, rank)\n",
    "                \n",
    "                self.all_cards.append(created_card)\n",
    "                \n",
    "    # Shuffle deck method\n",
    "    def shuffle(self):\n",
    "        \n",
    "        # Not overriding random.shuffle\n",
    "        shuffle(self.all_cards)\n",
    "        \n",
    "    # Deal method\n",
    "    def deal(self):\n",
    "        \n",
    "        # Deal the top card and remove it from the deck.\n",
    "        return self.all_cards.pop(0)"
   ]
  },
  {
   "cell_type": "code",
   "execution_count": 115,
   "metadata": {},
   "outputs": [],
   "source": [
    "new_deck = Deck()"
   ]
  },
  {
   "cell_type": "code",
   "execution_count": 116,
   "metadata": {},
   "outputs": [],
   "source": [
    "first_card = new_deck.all_cards[0]"
   ]
  },
  {
   "cell_type": "code",
   "execution_count": 117,
   "metadata": {},
   "outputs": [
    {
     "name": "stdout",
     "output_type": "stream",
     "text": [
      "Two of Spades\n"
     ]
    }
   ],
   "source": [
    "print(first_card)"
   ]
  },
  {
   "cell_type": "code",
   "execution_count": 118,
   "metadata": {},
   "outputs": [],
   "source": [
    "my_card = new_deck.deal()"
   ]
  },
  {
   "cell_type": "code",
   "execution_count": 119,
   "metadata": {},
   "outputs": [
    {
     "name": "stdout",
     "output_type": "stream",
     "text": [
      "Two of Spades\n"
     ]
    }
   ],
   "source": [
    "print(my_card)"
   ]
  },
  {
   "cell_type": "code",
   "execution_count": 130,
   "metadata": {},
   "outputs": [
    {
     "data": {
      "text/plain": [
       "51"
      ]
     },
     "execution_count": 130,
     "metadata": {},
     "output_type": "execute_result"
    }
   ],
   "source": [
    "# Test to ensure the card was removed from the deck.\n",
    "\n",
    "len(new_deck.all_cards)"
   ]
  },
  {
   "cell_type": "code",
   "execution_count": 131,
   "metadata": {},
   "outputs": [],
   "source": [
    "# Remember '-1' will always go the the last item in the list.\n",
    "\n",
    "last_card = new_deck.all_cards[-1]"
   ]
  },
  {
   "cell_type": "code",
   "execution_count": 132,
   "metadata": {},
   "outputs": [
    {
     "name": "stdout",
     "output_type": "stream",
     "text": [
      "Five of Diamonds\n"
     ]
    }
   ],
   "source": [
    "print(last_card)"
   ]
  },
  {
   "cell_type": "code",
   "execution_count": 133,
   "metadata": {},
   "outputs": [
    {
     "name": "stdout",
     "output_type": "stream",
     "text": [
      "Eight of Clubs\n",
      "Four of Diamonds\n",
      "Ace of Spades\n",
      "Seven of Diamonds\n",
      "Ten of Diamonds\n",
      "Ace of Diamonds\n",
      "Nine of Clubs\n",
      "Six of Clubs\n",
      "Four of Clubs\n",
      "Seven of Clubs\n",
      "Six of Spades\n",
      "Jack of Hearts\n",
      "Two of Diamonds\n",
      "Queen of Clubs\n",
      "Eight of Diamonds\n",
      "Ace of Clubs\n",
      "Nine of Hearts\n",
      "Three of Diamonds\n",
      "Seven of Spades\n",
      "King of Hearts\n",
      "Ten of Hearts\n",
      "Six of Hearts\n",
      "Eight of Hearts\n",
      "Seven of Hearts\n",
      "Two of Clubs\n",
      "Four of Hearts\n",
      "Three of Clubs\n",
      "Eight of Spades\n",
      "Ten of Spades\n",
      "King of Clubs\n",
      "Ten of Clubs\n",
      "Five of Hearts\n",
      "Three of Spades\n",
      "Jack of Diamonds\n",
      "Two of Hearts\n",
      "Queen of Diamonds\n",
      "Five of Clubs\n",
      "Three of Hearts\n",
      "Jack of Spades\n",
      "Nine of Diamonds\n",
      "Four of Spades\n",
      "Nine of Spades\n",
      "Jack of Clubs\n",
      "Ace of Hearts\n",
      "Queen of Spades\n",
      "King of Diamonds\n",
      "Six of Diamonds\n",
      "Queen of Hearts\n",
      "Five of Spades\n",
      "King of Spades\n",
      "Five of Diamonds\n"
     ]
    }
   ],
   "source": [
    "for card_object in new_deck.all_cards:\n",
    "    print(card_object)"
   ]
  },
  {
   "cell_type": "code",
   "execution_count": 134,
   "metadata": {},
   "outputs": [],
   "source": [
    "new_deck.shuffle()"
   ]
  },
  {
   "cell_type": "code",
   "execution_count": 135,
   "metadata": {},
   "outputs": [
    {
     "name": "stdout",
     "output_type": "stream",
     "text": [
      "Three of Clubs\n"
     ]
    }
   ],
   "source": [
    "print(new_deck.all_cards[-1])"
   ]
  },
  {
   "cell_type": "code",
   "execution_count": 136,
   "metadata": {},
   "outputs": [],
   "source": [
    "new_deck.shuffle()"
   ]
  },
  {
   "cell_type": "code",
   "execution_count": 137,
   "metadata": {},
   "outputs": [
    {
     "name": "stdout",
     "output_type": "stream",
     "text": [
      "Five of Clubs\n"
     ]
    }
   ],
   "source": [
    "print(new_deck.all_cards[-1])"
   ]
  },
  {
   "cell_type": "code",
   "execution_count": 138,
   "metadata": {},
   "outputs": [],
   "source": [
    "# Lesson 89"
   ]
  },
  {
   "cell_type": "code",
   "execution_count": 156,
   "metadata": {},
   "outputs": [],
   "source": [
    "'''\n",
    "Player class\n",
    "'''\n",
    "\n",
    "class Player():\n",
    "    \n",
    "    # Constructor method\n",
    "    def __init__(self, name):\n",
    "        \n",
    "        self.name = name\n",
    "        \n",
    "        # each player starts with an empty hand\n",
    "        self.all_cards = []\n",
    "        \n",
    "    def remove_cards(self):\n",
    "        \n",
    "        return self.all_cards.pop(0)\n",
    "    \n",
    "    def add_cards(self, new_cards):\n",
    "        \n",
    "        # Check if we're adding multiple cards, (check to see if new_cards is a list)\n",
    "        if type(new_cards) == type([]):\n",
    "            # Adding multiple cards\n",
    "            \n",
    "            self.all_cards.extend(new_cards)\n",
    "        else:\n",
    "            # Adding a single card\n",
    "            \n",
    "            self.all_cards.append(new_cards)\n",
    "    \n",
    "    def __str__(self):\n",
    "        \n",
    "        return f\"{self.name} has {len(self.all_cards)} cards\"\n",
    "        "
   ]
  },
  {
   "cell_type": "code",
   "execution_count": 157,
   "metadata": {},
   "outputs": [],
   "source": [
    "player1 = Player(\"Bartholomew Roberts\")"
   ]
  },
  {
   "cell_type": "code",
   "execution_count": 158,
   "metadata": {},
   "outputs": [
    {
     "name": "stdout",
     "output_type": "stream",
     "text": [
      "Bartholomew Roberts has 0 cards\n"
     ]
    }
   ],
   "source": [
    "print(player1)"
   ]
  },
  {
   "cell_type": "code",
   "execution_count": 160,
   "metadata": {},
   "outputs": [],
   "source": [
    "# Test using objects defined above\n",
    "\n",
    "player1.add_cards(my_card)"
   ]
  },
  {
   "cell_type": "code",
   "execution_count": 163,
   "metadata": {},
   "outputs": [
    {
     "name": "stdout",
     "output_type": "stream",
     "text": [
      "Bartholomew Roberts has 1 cards\n"
     ]
    }
   ],
   "source": [
    "print(player1)"
   ]
  },
  {
   "cell_type": "code",
   "execution_count": 164,
   "metadata": {},
   "outputs": [
    {
     "name": "stdout",
     "output_type": "stream",
     "text": [
      "Two of Spades\n"
     ]
    }
   ],
   "source": [
    "print(player1.all_cards[0])"
   ]
  },
  {
   "cell_type": "code",
   "execution_count": 165,
   "metadata": {},
   "outputs": [],
   "source": [
    "# Quick simulated test for multiple cards\n",
    "\n",
    "player1.add_cards([my_card, my_card, my_card])"
   ]
  },
  {
   "cell_type": "code",
   "execution_count": 169,
   "metadata": {},
   "outputs": [
    {
     "name": "stdout",
     "output_type": "stream",
     "text": [
      "Bartholomew Roberts has 3 cards\n"
     ]
    }
   ],
   "source": [
    "print(player1)"
   ]
  },
  {
   "cell_type": "code",
   "execution_count": 170,
   "metadata": {},
   "outputs": [
    {
     "data": {
      "text/plain": [
       "<__main__.Card at 0x10a769550>"
      ]
     },
     "execution_count": 170,
     "metadata": {},
     "output_type": "execute_result"
    }
   ],
   "source": [
    "# Test if remove_cards works\n",
    "\n",
    "player1.remove_cards()"
   ]
  },
  {
   "cell_type": "code",
   "execution_count": 171,
   "metadata": {},
   "outputs": [
    {
     "name": "stdout",
     "output_type": "stream",
     "text": [
      "Bartholomew Roberts has 2 cards\n"
     ]
    }
   ],
   "source": [
    "print(player1)"
   ]
  },
  {
   "cell_type": "code",
   "execution_count": 172,
   "metadata": {},
   "outputs": [],
   "source": [
    "# Lesson 90"
   ]
  },
  {
   "cell_type": "code",
   "execution_count": null,
   "metadata": {},
   "outputs": [],
   "source": []
  }
 ],
 "metadata": {
  "kernelspec": {
   "display_name": "Python 3",
   "language": "python",
   "name": "python3"
  },
  "language_info": {
   "codemirror_mode": {
    "name": "ipython",
    "version": 3
   },
   "file_extension": ".py",
   "mimetype": "text/x-python",
   "name": "python",
   "nbconvert_exporter": "python",
   "pygments_lexer": "ipython3",
   "version": "3.9.13"
  }
 },
 "nbformat": 4,
 "nbformat_minor": 4
}
