{
 "cells": [
  {
   "cell_type": "code",
   "execution_count": 1,
   "metadata": {},
   "outputs": [],
   "source": [
    "# Lesson 41"
   ]
  },
  {
   "cell_type": "code",
   "execution_count": 2,
   "metadata": {},
   "outputs": [
    {
     "data": {
      "text/plain": [
       "[1, 2, 3, 4]"
      ]
     },
     "execution_count": 2,
     "metadata": {},
     "output_type": "execute_result"
    }
   ],
   "source": [
    "# Some examples of methods\n",
    "\n",
    "myList = [1,2,3]\n",
    "\n",
    "myList.append(4)\n",
    "\n",
    "myList"
   ]
  },
  {
   "cell_type": "code",
   "execution_count": 3,
   "metadata": {},
   "outputs": [
    {
     "data": {
      "text/plain": [
       "[1, 2, 3]"
      ]
     },
     "execution_count": 3,
     "metadata": {},
     "output_type": "execute_result"
    }
   ],
   "source": [
    "myList.pop()\n",
    "\n",
    "myList"
   ]
  },
  {
   "cell_type": "code",
   "execution_count": 4,
   "metadata": {},
   "outputs": [
    {
     "name": "stdout",
     "output_type": "stream",
     "text": [
      "Help on built-in function insert:\n",
      "\n",
      "insert(index, object, /) method of builtins.list instance\n",
      "    Insert object before index.\n",
      "\n"
     ]
    }
   ],
   "source": [
    "help(myList.insert)"
   ]
  },
  {
   "cell_type": "code",
   "execution_count": 6,
   "metadata": {},
   "outputs": [],
   "source": [
    "# Lesson 42 intro only, no examples"
   ]
  },
  {
   "cell_type": "code",
   "execution_count": 7,
   "metadata": {},
   "outputs": [],
   "source": [
    "# Lesson 43"
   ]
  },
  {
   "cell_type": "code",
   "execution_count": 10,
   "metadata": {},
   "outputs": [],
   "source": [
    "def my_function():\n",
    "    ''' this function prints,\n",
    "        hello'''\n",
    "    print(\"hello\")"
   ]
  },
  {
   "cell_type": "code",
   "execution_count": 11,
   "metadata": {},
   "outputs": [
    {
     "name": "stdout",
     "output_type": "stream",
     "text": [
      "hello\n"
     ]
    }
   ],
   "source": [
    "my_function()"
   ]
  },
  {
   "cell_type": "code",
   "execution_count": 23,
   "metadata": {},
   "outputs": [],
   "source": [
    "# Adding a parameter to the function\n",
    "\n",
    "def my_function(name):\n",
    "    ''' this function prints,\n",
    "        hello'''\n",
    "    print(f'hello {name}')"
   ]
  },
  {
   "cell_type": "code",
   "execution_count": 24,
   "metadata": {},
   "outputs": [
    {
     "name": "stdout",
     "output_type": "stream",
     "text": [
      "hello Scott\n"
     ]
    }
   ],
   "source": [
    "my_function(\"Scott\")"
   ]
  },
  {
   "cell_type": "code",
   "execution_count": 25,
   "metadata": {},
   "outputs": [],
   "source": [
    "# Initial example of the return keyword\n",
    "\n",
    "def add_function(number1, number2):\n",
    "    return number1 + number2"
   ]
  },
  {
   "cell_type": "code",
   "execution_count": 26,
   "metadata": {},
   "outputs": [
    {
     "name": "stdout",
     "output_type": "stream",
     "text": [
      "7\n"
     ]
    }
   ],
   "source": [
    "result = add_function(4, 3)\n",
    "\n",
    "print(result)"
   ]
  },
  {
   "cell_type": "code",
   "execution_count": 22,
   "metadata": {},
   "outputs": [],
   "source": [
    "# Lesson 44"
   ]
  },
  {
   "cell_type": "code",
   "execution_count": 33,
   "metadata": {},
   "outputs": [],
   "source": [
    "# Adding a default input paramter value to avoid errors\n",
    "\n",
    "def say_hello(name=\"Default\"):\n",
    "    ''' this function prints,\n",
    "        hello'''\n",
    "    print(f'hello {name}')"
   ]
  },
  {
   "cell_type": "code",
   "execution_count": 34,
   "metadata": {},
   "outputs": [
    {
     "name": "stdout",
     "output_type": "stream",
     "text": [
      "hello Default\n"
     ]
    }
   ],
   "source": [
    "say_hello()"
   ]
  },
  {
   "cell_type": "code",
   "execution_count": 35,
   "metadata": {},
   "outputs": [],
   "source": [
    "# Examples of the difference between print and return\n",
    "\n",
    "def print_result(a, b):\n",
    "    print(a + b)"
   ]
  },
  {
   "cell_type": "code",
   "execution_count": 36,
   "metadata": {},
   "outputs": [],
   "source": [
    "def return_result(a, b):\n",
    "    return a + b"
   ]
  },
  {
   "cell_type": "code",
   "execution_count": 37,
   "metadata": {},
   "outputs": [
    {
     "name": "stdout",
     "output_type": "stream",
     "text": [
      "30\n"
     ]
    }
   ],
   "source": [
    "result = print_result(10, 20)"
   ]
  },
  {
   "cell_type": "code",
   "execution_count": 38,
   "metadata": {},
   "outputs": [],
   "source": [
    "# Note: the above call did not return any output. This is denoted in a Jupyter notebook by \"[OUT]\""
   ]
  },
  {
   "cell_type": "code",
   "execution_count": 40,
   "metadata": {},
   "outputs": [
    {
     "data": {
      "text/plain": [
       "NoneType"
      ]
     },
     "execution_count": 40,
     "metadata": {},
     "output_type": "execute_result"
    }
   ],
   "source": [
    "# This shows that result has nothing.\n",
    "\n",
    "type(result)"
   ]
  },
  {
   "cell_type": "code",
   "execution_count": 41,
   "metadata": {},
   "outputs": [],
   "source": [
    "result = return_result(10, 20)"
   ]
  },
  {
   "cell_type": "code",
   "execution_count": 42,
   "metadata": {},
   "outputs": [
    {
     "data": {
      "text/plain": [
       "30"
      ]
     },
     "execution_count": 42,
     "metadata": {},
     "output_type": "execute_result"
    }
   ],
   "source": [
    "result"
   ]
  },
  {
   "cell_type": "code",
   "execution_count": 43,
   "metadata": {},
   "outputs": [],
   "source": [
    "def sum_numbers(number1, number2):\n",
    "    return number1 + number2"
   ]
  },
  {
   "cell_type": "code",
   "execution_count": 44,
   "metadata": {},
   "outputs": [
    {
     "data": {
      "text/plain": [
       "30"
      ]
     },
     "execution_count": 44,
     "metadata": {},
     "output_type": "execute_result"
    }
   ],
   "source": [
    "sum_numbers(10, 20)"
   ]
  },
  {
   "cell_type": "code",
   "execution_count": 45,
   "metadata": {},
   "outputs": [
    {
     "data": {
      "text/plain": [
       "'1020'"
      ]
     },
     "execution_count": 45,
     "metadata": {},
     "output_type": "execute_result"
    }
   ],
   "source": [
    "sum_numbers('10', '20')"
   ]
  },
  {
   "cell_type": "code",
   "execution_count": 46,
   "metadata": {},
   "outputs": [],
   "source": [
    "# Lesson 45"
   ]
  },
  {
   "cell_type": "code",
   "execution_count": 51,
   "metadata": {},
   "outputs": [],
   "source": [
    "def even_check(number):\n",
    "    return number % 2 == 0"
   ]
  },
  {
   "cell_type": "code",
   "execution_count": 52,
   "metadata": {},
   "outputs": [
    {
     "data": {
      "text/plain": [
       "True"
      ]
     },
     "execution_count": 52,
     "metadata": {},
     "output_type": "execute_result"
    }
   ],
   "source": [
    "even_check(20)"
   ]
  },
  {
   "cell_type": "code",
   "execution_count": 53,
   "metadata": {},
   "outputs": [
    {
     "data": {
      "text/plain": [
       "False"
      ]
     },
     "execution_count": 53,
     "metadata": {},
     "output_type": "execute_result"
    }
   ],
   "source": [
    "even_check(21)"
   ]
  },
  {
   "cell_type": "code",
   "execution_count": 62,
   "metadata": {},
   "outputs": [],
   "source": [
    "# Return true if any number in a list is even\n",
    "\n",
    "def check_even_list(number_list):\n",
    "    for number in number_list:\n",
    "        if number % 2 == 0:\n",
    "            return True\n",
    "        else:\n",
    "            # This is a strange example, and usually will never use \"pass\". But it works for this example.\n",
    "            # pass simply passes to the next item.\n",
    "            pass\n",
    "            "
   ]
  },
  {
   "cell_type": "code",
   "execution_count": 63,
   "metadata": {},
   "outputs": [
    {
     "data": {
      "text/plain": [
       "True"
      ]
     },
     "execution_count": 63,
     "metadata": {},
     "output_type": "execute_result"
    }
   ],
   "source": [
    "check_even_list([1, 3, 4])"
   ]
  },
  {
   "cell_type": "code",
   "execution_count": 64,
   "metadata": {},
   "outputs": [],
   "source": [
    "check_even_list([1, 3, 5])"
   ]
  },
  {
   "cell_type": "code",
   "execution_count": 65,
   "metadata": {},
   "outputs": [],
   "source": [
    "# Modify the above function to return false if no even numbers are in the list.\n",
    "\n",
    "def check_even_list(number_list):\n",
    "    for number in number_list:\n",
    "        if number % 2 == 0:\n",
    "            return True\n",
    "        else:\n",
    "            pass\n",
    "    \n",
    "    # See my notes in the README. This is a poor design, but following along here for the sake of the lesson.\n",
    "    return False"
   ]
  },
  {
   "cell_type": "code",
   "execution_count": 66,
   "metadata": {},
   "outputs": [
    {
     "data": {
      "text/plain": [
       "True"
      ]
     },
     "execution_count": 66,
     "metadata": {},
     "output_type": "execute_result"
    }
   ],
   "source": [
    "check_even_list([1, 3, 4])"
   ]
  },
  {
   "cell_type": "code",
   "execution_count": 67,
   "metadata": {},
   "outputs": [
    {
     "data": {
      "text/plain": [
       "False"
      ]
     },
     "execution_count": 67,
     "metadata": {},
     "output_type": "execute_result"
    }
   ],
   "source": [
    "check_even_list([1, 3, 5])"
   ]
  },
  {
   "cell_type": "code",
   "execution_count": 74,
   "metadata": {},
   "outputs": [],
   "source": [
    "# Modify the above function to return all even numbers in the list.\n",
    "\n",
    "def check_even_list(number_list):\n",
    "    \n",
    "    even_numbers = []\n",
    "    \n",
    "    for number in number_list:\n",
    "        if number % 2 == 0:\n",
    "            even_numbers.append(number)\n",
    "\n",
    "    return even_numbers"
   ]
  },
  {
   "cell_type": "code",
   "execution_count": 75,
   "metadata": {},
   "outputs": [
    {
     "data": {
      "text/plain": [
       "[4]"
      ]
     },
     "execution_count": 75,
     "metadata": {},
     "output_type": "execute_result"
    }
   ],
   "source": [
    "check_even_list([1, 3, 4])"
   ]
  },
  {
   "cell_type": "code",
   "execution_count": 76,
   "metadata": {},
   "outputs": [
    {
     "data": {
      "text/plain": [
       "[]"
      ]
     },
     "execution_count": 76,
     "metadata": {},
     "output_type": "execute_result"
    }
   ],
   "source": [
    "check_even_list([1, 3, 5])"
   ]
  },
  {
   "cell_type": "code",
   "execution_count": 77,
   "metadata": {},
   "outputs": [
    {
     "data": {
      "text/plain": [
       "[2, 4, 6]"
      ]
     },
     "execution_count": 77,
     "metadata": {},
     "output_type": "execute_result"
    }
   ],
   "source": [
    "check_even_list([1, 2, 3, 4, 5, 6, 7])"
   ]
  },
  {
   "cell_type": "code",
   "execution_count": 78,
   "metadata": {},
   "outputs": [],
   "source": [
    "# Lesson 46"
   ]
  },
  {
   "cell_type": "code",
   "execution_count": 80,
   "metadata": {},
   "outputs": [],
   "source": [
    "stock_prices = [('APPL', 200), ('GOOG', 400), ('MSFT', 100)]"
   ]
  },
  {
   "cell_type": "code",
   "execution_count": 81,
   "metadata": {},
   "outputs": [
    {
     "name": "stdout",
     "output_type": "stream",
     "text": [
      "('APPL', 200)\n",
      "('GOOG', 400)\n",
      "('MSFT', 100)\n"
     ]
    }
   ],
   "source": [
    "for item in stock_prices:\n",
    "    print(item)"
   ]
  },
  {
   "cell_type": "code",
   "execution_count": 82,
   "metadata": {},
   "outputs": [
    {
     "name": "stdout",
     "output_type": "stream",
     "text": [
      "APPL\n",
      "GOOG\n",
      "MSFT\n"
     ]
    }
   ],
   "source": [
    "for ticker, price in stock_prices:\n",
    "    print(ticker)"
   ]
  },
  {
   "cell_type": "code",
   "execution_count": 86,
   "metadata": {},
   "outputs": [
    {
     "name": "stdout",
     "output_type": "stream",
     "text": [
      "202.0\n",
      "404.0\n",
      "101.0\n"
     ]
    }
   ],
   "source": [
    "for ticker, price in stock_prices:\n",
    "    # Check what a 10% increase inthe price would be\n",
    "    print(price + (.01 * price))"
   ]
  },
  {
   "cell_type": "code",
   "execution_count": 87,
   "metadata": {},
   "outputs": [],
   "source": [
    "# An example unpacking tuples via a function\n",
    "\n",
    "work_hours = [('Abbie', 100), ('Billy', 400), ('Cassie', 800)]"
   ]
  },
  {
   "cell_type": "code",
   "execution_count": 98,
   "metadata": {},
   "outputs": [],
   "source": [
    "def employee_check(work_hours):\n",
    "    \n",
    "    # Set placeholder variable at the top of the function for readability.\n",
    "    \n",
    "    current_max_hours = 0\n",
    "    employee_of_the_month = ''\n",
    "    \n",
    "    for employee, hours in work_hours:\n",
    "        if hours > current_max_hours:\n",
    "            current_max_hours = hours\n",
    "            employee_of_the_month = employee\n",
    "    \n",
    "    #return a tuple containing employee of the month data\n",
    "    \n",
    "    return (employee_of_the_month, current_max_hours)"
   ]
  },
  {
   "cell_type": "code",
   "execution_count": 99,
   "metadata": {},
   "outputs": [
    {
     "data": {
      "text/plain": [
       "('Cassie', 800)"
      ]
     },
     "execution_count": 99,
     "metadata": {},
     "output_type": "execute_result"
    }
   ],
   "source": [
    "employee_check(work_hours)"
   ]
  },
  {
   "cell_type": "code",
   "execution_count": 100,
   "metadata": {},
   "outputs": [],
   "source": [
    "result = employee_check(work_hours)"
   ]
  },
  {
   "cell_type": "code",
   "execution_count": 101,
   "metadata": {},
   "outputs": [
    {
     "data": {
      "text/plain": [
       "('Cassie', 800)"
      ]
     },
     "execution_count": 101,
     "metadata": {},
     "output_type": "execute_result"
    }
   ],
   "source": [
    "result"
   ]
  },
  {
   "cell_type": "code",
   "execution_count": 102,
   "metadata": {},
   "outputs": [],
   "source": [
    "# If the exact number a variables in the tuple are known, can do the following,\n",
    "\n",
    "name, hours = employee_check(work_hours)"
   ]
  },
  {
   "cell_type": "code",
   "execution_count": 103,
   "metadata": {},
   "outputs": [
    {
     "data": {
      "text/plain": [
       "'Cassie'"
      ]
     },
     "execution_count": 103,
     "metadata": {},
     "output_type": "execute_result"
    }
   ],
   "source": [
    "name"
   ]
  },
  {
   "cell_type": "code",
   "execution_count": 104,
   "metadata": {},
   "outputs": [
    {
     "data": {
      "text/plain": [
       "800"
      ]
     },
     "execution_count": 104,
     "metadata": {},
     "output_type": "execute_result"
    }
   ],
   "source": [
    "hours"
   ]
  },
  {
   "cell_type": "code",
   "execution_count": 105,
   "metadata": {},
   "outputs": [],
   "source": [
    "# Lesson 47"
   ]
  },
  {
   "cell_type": "code",
   "execution_count": 13,
   "metadata": {},
   "outputs": [],
   "source": [
    "# Mimic \"three card/cup monte game\"\n",
    "\n",
    "example = [1,2,3,4,5,6,7]\n",
    "\n",
    "from random import shuffle\n",
    "\n",
    "shuffle(example)"
   ]
  },
  {
   "cell_type": "code",
   "execution_count": 14,
   "metadata": {},
   "outputs": [
    {
     "data": {
      "text/plain": [
       "[6, 3, 5, 4, 1, 7, 2]"
      ]
     },
     "execution_count": 14,
     "metadata": {},
     "output_type": "execute_result"
    }
   ],
   "source": [
    "example"
   ]
  },
  {
   "cell_type": "code",
   "execution_count": 15,
   "metadata": {},
   "outputs": [],
   "source": [
    "# Creating a function that returns the shuffled list.\n",
    "\n",
    "def shuffle_list(myList):\n",
    "    from random import shuffle\n",
    "    \n",
    "    shuffle(myList)\n",
    "    \n",
    "    return myList"
   ]
  },
  {
   "cell_type": "code",
   "execution_count": 16,
   "metadata": {},
   "outputs": [],
   "source": [
    "result = shuffle_list(example)"
   ]
  },
  {
   "cell_type": "code",
   "execution_count": 17,
   "metadata": {},
   "outputs": [
    {
     "data": {
      "text/plain": [
       "[5, 2, 1, 3, 4, 6, 7]"
      ]
     },
     "execution_count": 17,
     "metadata": {},
     "output_type": "execute_result"
    }
   ],
   "source": [
    "result"
   ]
  },
  {
   "cell_type": "code",
   "execution_count": 18,
   "metadata": {},
   "outputs": [],
   "source": [
    "# Now that we've tested the shuffle_list() function, let's create a list that emulates the ball/card.\n",
    "# 'O' represents the ball.\n",
    "ballList = [' ', 'O', ' ']"
   ]
  },
  {
   "cell_type": "code",
   "execution_count": 19,
   "metadata": {},
   "outputs": [],
   "source": [
    "result = shuffle_list(ballList)"
   ]
  },
  {
   "cell_type": "code",
   "execution_count": 20,
   "metadata": {},
   "outputs": [
    {
     "data": {
      "text/plain": [
       "['O', ' ', ' ']"
      ]
     },
     "execution_count": 20,
     "metadata": {},
     "output_type": "execute_result"
    }
   ],
   "source": [
    "result"
   ]
  },
  {
   "cell_type": "code",
   "execution_count": 21,
   "metadata": {},
   "outputs": [],
   "source": [
    "# Now create a function that takes in the player's guess.\n",
    "\n",
    "def player_guess():\n",
    "    \n",
    "    guess = ''\n",
    "    \n",
    "    # Add a check on the user input.\n",
    "    while guess not in ['0', '1', '2']:\n",
    "        guess = input(\"pick a number, 0, 1, or 2:\")\n",
    "        \n",
    "    # Have to cast guess as a integer because input only returns strings.\n",
    "    return int(guess)\n",
    "    "
   ]
  },
  {
   "cell_type": "code",
   "execution_count": 22,
   "metadata": {},
   "outputs": [
    {
     "name": "stdout",
     "output_type": "stream",
     "text": [
      "pick a number, 0, 1, or 2:1\n"
     ]
    },
    {
     "data": {
      "text/plain": [
       "1"
      ]
     },
     "execution_count": 22,
     "metadata": {},
     "output_type": "execute_result"
    }
   ],
   "source": [
    "player_guess()"
   ]
  },
  {
   "cell_type": "code",
   "execution_count": 23,
   "metadata": {},
   "outputs": [
    {
     "name": "stdout",
     "output_type": "stream",
     "text": [
      "pick a number, 0, 1, or 2:1\n"
     ]
    }
   ],
   "source": [
    "myIndex = player_guess()"
   ]
  },
  {
   "cell_type": "code",
   "execution_count": 24,
   "metadata": {},
   "outputs": [
    {
     "data": {
      "text/plain": [
       "1"
      ]
     },
     "execution_count": 24,
     "metadata": {},
     "output_type": "execute_result"
    }
   ],
   "source": [
    "myIndex"
   ]
  },
  {
   "cell_type": "code",
   "execution_count": 29,
   "metadata": {},
   "outputs": [],
   "source": [
    "def check_guess(myList, guess):\n",
    "    \n",
    "    if myList[guess] == 'O':\n",
    "        print('Correct!')\n",
    "    else:\n",
    "        print('Wrong guess!')\n",
    "    print(myList)"
   ]
  },
  {
   "cell_type": "code",
   "execution_count": 32,
   "metadata": {},
   "outputs": [
    {
     "name": "stdout",
     "output_type": "stream",
     "text": [
      "pick a number, 0, 1, or 2:2\n",
      "Wrong guess!\n",
      "['O', ' ', ' ']\n"
     ]
    }
   ],
   "source": [
    "# Create a script that calls the functions\n",
    "\n",
    "# Initialize the list to be shuffled\n",
    "myList = [' ', ' ', 'O']\n",
    "\n",
    "# shuffle the list\n",
    "shuffledList = shuffle_list(myList)\n",
    "\n",
    "# Get the player's guess\n",
    "myGuess = player_guess()\n",
    "\n",
    "# Check the player's guess\n",
    "check_guess(shuffledList, myGuess)"
   ]
  },
  {
   "cell_type": "code",
   "execution_count": 33,
   "metadata": {},
   "outputs": [],
   "source": [
    "# Lesson 49"
   ]
  },
  {
   "cell_type": "code",
   "execution_count": 39,
   "metadata": {},
   "outputs": [],
   "source": [
    "# Return 5% of the sum of two numbers\n",
    "\n",
    "def return_percentage(a, b):\n",
    "    return sum((a, b)) * .05"
   ]
  },
  {
   "cell_type": "code",
   "execution_count": 41,
   "metadata": {},
   "outputs": [
    {
     "data": {
      "text/plain": [
       "0.25"
      ]
     },
     "execution_count": 41,
     "metadata": {},
     "output_type": "execute_result"
    }
   ],
   "source": [
    "return_percentage(2, 3)"
   ]
  },
  {
   "cell_type": "code",
   "execution_count": 42,
   "metadata": {},
   "outputs": [],
   "source": [
    "# Return the sum of a variable set of numbers using *args\n",
    "\n",
    "def return_percentage(*args):\n",
    "    return sum(args) * .05"
   ]
  },
  {
   "cell_type": "code",
   "execution_count": 47,
   "metadata": {},
   "outputs": [
    {
     "data": {
      "text/plain": [
       "5.0"
      ]
     },
     "execution_count": 47,
     "metadata": {},
     "output_type": "execute_result"
    }
   ],
   "source": [
    "return_percentage(2, 3, 5, 90)"
   ]
  },
  {
   "cell_type": "code",
   "execution_count": 54,
   "metadata": {},
   "outputs": [],
   "source": [
    "# Example using the **kwargs functionality\n",
    "\n",
    "def find_item(**kwargs):\n",
    "    \n",
    "    # Print out to show the dictionary.\n",
    "    print(kwargs)\n",
    "    \n",
    "    if \"fruit\" in kwargs:\n",
    "        print(\"My favorties fruit is {}\".format(kwargs[\"fruit\"]))\n",
    "    else:\n",
    "        print(\"I did not find any fruit here\")"
   ]
  },
  {
   "cell_type": "code",
   "execution_count": 55,
   "metadata": {},
   "outputs": [
    {
     "name": "stdout",
     "output_type": "stream",
     "text": [
      "{'fruit': 'apple', 'vegetable': 'carrots'}\n",
      "My favorties fruit is apple\n"
     ]
    }
   ],
   "source": [
    "find_item(fruit=\"apple\", vegetable=\"carrots\")"
   ]
  },
  {
   "cell_type": "code",
   "execution_count": 65,
   "metadata": {},
   "outputs": [],
   "source": [
    "# Example using both *args and **kwargs\n",
    "\n",
    "def my_function(*args, **kwargs):\n",
    "    \n",
    "    # Print to show that *args and **kwargs are a tuple and a dictionary.\n",
    "    print(\"*args = {}\".format(args))\n",
    "    print(\"**kwargs = {}\".format(kwargs))\n",
    "    \n",
    "    print(\"I would like {} {}\".format(args[1], kwargs['food']))"
   ]
  },
  {
   "cell_type": "code",
   "execution_count": 67,
   "metadata": {},
   "outputs": [
    {
     "name": "stdout",
     "output_type": "stream",
     "text": [
      "*args = (10, 20, 30)\n",
      "**kwargs = {'fruit': 'oranges', 'food': 'eggs', 'animal': 'dogs'}\n",
      "I would like 20 eggs\n"
     ]
    }
   ],
   "source": [
    "# Note: in this example *args and **kwargs are positional arguments.\n",
    "\n",
    "my_function(10, 20, 30, fruit=\"oranges\", food=\"eggs\", animal=\"dogs\")"
   ]
  },
  {
   "cell_type": "code",
   "execution_count": null,
   "metadata": {},
   "outputs": [],
   "source": [
    "# Lessons 50, 51"
   ]
  },
  {
   "cell_type": "code",
   "execution_count": 129,
   "metadata": {},
   "outputs": [],
   "source": [
    "# Coding exercise 19: Skyline\n",
    "\n",
    "def myfunc(myString):\n",
    "    \n",
    "    camelCaseList = []\n",
    "    \n",
    "    for charPosition in range(0, len(myString)):\n",
    "        \n",
    "        if charPosition % 2 == 0:\n",
    "            camelCaseList.append(myString[charPosition].upper())\n",
    "        else:\n",
    "            camelCaseList.append(myString[charPosition].lower())\n",
    "  \n",
    "    # NOTE: hte character manipulationg is done via a list. The exercise requires a string to be returned, hence\n",
    "    # using ''.join() to convert the list to a string.\n",
    "\n",
    "    return ''.join(camelCaseList)"
   ]
  },
  {
   "cell_type": "code",
   "execution_count": 130,
   "metadata": {},
   "outputs": [
    {
     "data": {
      "text/plain": [
       "'JaBbErWoCkEy'"
      ]
     },
     "execution_count": 130,
     "metadata": {},
     "output_type": "execute_result"
    }
   ],
   "source": [
    "myfunc(\"jabberwockey\")"
   ]
  },
  {
   "cell_type": "code",
   "execution_count": 140,
   "metadata": {},
   "outputs": [],
   "source": [
    "# Coding Exercise 1 - Lesser of two evens\n",
    "#\n",
    "# If 2 given numbers are even, return the smaller number.\n",
    "# If one or both of the given numbers are odd, return the larger number.\n",
    "\n",
    "def lesser_of_two_evens(number1, number2):\n",
    "    \n",
    "    numberToReturn = 0\n",
    "    \n",
    "    if number1 % 2 != 0 or number2 % 2 != 0:\n",
    "        numberToReturn = max(number1, number2)\n",
    "    else:\n",
    "        numberToReturn = min(number1, number2)\n",
    "\n",
    "    return numberToReturn"
   ]
  },
  {
   "cell_type": "code",
   "execution_count": 142,
   "metadata": {},
   "outputs": [
    {
     "data": {
      "text/plain": [
       "2"
      ]
     },
     "execution_count": 142,
     "metadata": {},
     "output_type": "execute_result"
    }
   ],
   "source": [
    "lesser_of_two_evens(2, 4)"
   ]
  },
  {
   "cell_type": "code",
   "execution_count": 228,
   "metadata": {},
   "outputs": [],
   "source": [
    "# Coding Exercise 2 - Aminal Crackers\n",
    "#\n",
    "# Return TRUE if both words of a two word string start with the same letter.\n",
    "# else return false.\n",
    "#\n",
    "# NOTE: not checking\n",
    "\n",
    "def animal_crackers(text):\n",
    "    \n",
    "    wordList = []\n",
    "    \n",
    "    # Find the words, (space separated) and put them in a list to iterate.\n",
    "    #\n",
    "    # NOTE 1: not putting a ' ' delimter in the split method because I will then have to strip off any\n",
    "    # leading or trailing spaces, and that is too complex for this exercise.\n",
    "    #\n",
    "    # NOTE 2: lowercasing the first characters as we want to ignore case of the words.\n",
    "\n",
    "    wordList = text.lower().split()\n",
    "    \n",
    "    if len(wordList) != 2:\n",
    "        print(\"Please only enter two animals\")\n",
    "    else:\n",
    "    \n",
    "        # Check if the first letter of each word is the same\n",
    "        return wordList[0][0] == wordList[1][0]"
   ]
  },
  {
   "cell_type": "code",
   "execution_count": 229,
   "metadata": {},
   "outputs": [
    {
     "data": {
      "text/plain": [
       "True"
      ]
     },
     "execution_count": 229,
     "metadata": {},
     "output_type": "execute_result"
    }
   ],
   "source": [
    "animal_crackers(\"cat Cat\")"
   ]
  },
  {
   "cell_type": "code",
   "execution_count": 230,
   "metadata": {},
   "outputs": [
    {
     "data": {
      "text/plain": [
       "False"
      ]
     },
     "execution_count": 230,
     "metadata": {},
     "output_type": "execute_result"
    }
   ],
   "source": [
    "animal_crackers(\"cat dog\")"
   ]
  },
  {
   "cell_type": "code",
   "execution_count": 231,
   "metadata": {},
   "outputs": [],
   "source": [
    "# Coding Exercise 3 - Makes Twenty\n",
    "#\n",
    "# Given two integers,\n",
    "#   - return true if the sum of the integers is 20\n",
    "#   - return true if one of the integers is 20\n",
    "#   - else return false\n",
    "\n",
    "def makes_twenty(number1, number2):\n",
    "    \n",
    "    return (number1 + number2) == 20 or number1 == 20 or number2 == 20"
   ]
  },
  {
   "cell_type": "code",
   "execution_count": 202,
   "metadata": {},
   "outputs": [
    {
     "data": {
      "text/plain": [
       "True"
      ]
     },
     "execution_count": 202,
     "metadata": {},
     "output_type": "execute_result"
    }
   ],
   "source": [
    "makes_twenty(5, 15)"
   ]
  },
  {
   "cell_type": "code",
   "execution_count": 203,
   "metadata": {},
   "outputs": [
    {
     "data": {
      "text/plain": [
       "True"
      ]
     },
     "execution_count": 203,
     "metadata": {},
     "output_type": "execute_result"
    }
   ],
   "source": [
    "makes_twenty(5, 20)"
   ]
  },
  {
   "cell_type": "code",
   "execution_count": 204,
   "metadata": {},
   "outputs": [
    {
     "data": {
      "text/plain": [
       "False"
      ]
     },
     "execution_count": 204,
     "metadata": {},
     "output_type": "execute_result"
    }
   ],
   "source": [
    "makes_twenty(10, 15)"
   ]
  },
  {
   "cell_type": "code",
   "execution_count": 205,
   "metadata": {},
   "outputs": [],
   "source": [
    "# Lesson 52"
   ]
  },
  {
   "cell_type": "code",
   "execution_count": 212,
   "metadata": {},
   "outputs": [],
   "source": [
    "# Coding Exercise 4 - Old Macdonald\n",
    "#\n",
    "# Capitalize the first and fourth characters of a name\n",
    "\n",
    "def old_macdonald(name):\n",
    "    \n",
    "    # Using string slicing\n",
    "    \n",
    "    firstChar = name[0]\n",
    "    inbetween = name[1:3]\n",
    "    fourthChar = name[3]\n",
    "    rest = name[4:]\n",
    "    \n",
    "    return firstChar.upper() + inbetween + fourthChar.upper() + rest"
   ]
  },
  {
   "cell_type": "code",
   "execution_count": 213,
   "metadata": {},
   "outputs": [
    {
     "data": {
      "text/plain": [
       "'MacDonald'"
      ]
     },
     "execution_count": 213,
     "metadata": {},
     "output_type": "execute_result"
    }
   ],
   "source": [
    "old_macdonald(\"macdonald\")"
   ]
  },
  {
   "cell_type": "code",
   "execution_count": 224,
   "metadata": {},
   "outputs": [],
   "source": [
    "# same example using the .Capitalize method\n",
    "\n",
    "def old_macdonald(name):\n",
    "\n",
    "    firstPart = name[:3]\n",
    "    secondPart = name[3:]\n",
    "    \n",
    "    return firstPart.capitalize() + secondPart.capitalize()"
   ]
  },
  {
   "cell_type": "code",
   "execution_count": 225,
   "metadata": {},
   "outputs": [
    {
     "data": {
      "text/plain": [
       "'MacDonald'"
      ]
     },
     "execution_count": 225,
     "metadata": {},
     "output_type": "execute_result"
    }
   ],
   "source": [
    "old_macdonald(\"macdonald\")"
   ]
  },
  {
   "cell_type": "code",
   "execution_count": 254,
   "metadata": {},
   "outputs": [],
   "source": [
    "# Coding Exercise 5 - Master Yoda\n",
    "#\n",
    "# Given a sentence, return it reversed\n",
    "#\n",
    "# There are multiple ways of doing this, we are using reverse slicing.\n",
    "\n",
    "def master_yoda(text):\n",
    "    \n",
    "    wordList = []\n",
    "    reversedList = []\n",
    "    \n",
    "    wordList = text.split()\n",
    "    \n",
    "    # Using reverse slicing\n",
    "    reversedList = wordList[::-1]\n",
    "    \n",
    "    return ' '.join(reversedList)"
   ]
  },
  {
   "cell_type": "code",
   "execution_count": 255,
   "metadata": {},
   "outputs": [
    {
     "data": {
      "text/plain": [
       "'home am I'"
      ]
     },
     "execution_count": 255,
     "metadata": {},
     "output_type": "execute_result"
    }
   ],
   "source": [
    "master_yoda(\"I am home\")"
   ]
  },
  {
   "cell_type": "code",
   "execution_count": 301,
   "metadata": {},
   "outputs": [],
   "source": [
    "# Coding Exercise 6 - Almost There\n",
    "#\n",
    "# Determine if a given integer is within 10 of either 100 or 200\n",
    "\n",
    "def almost_there(number):\n",
    "    \n",
    "    return (number >= 90 and number <= 110) or (number >= 190 and number <= 210) "
   ]
  },
  {
   "cell_type": "code",
   "execution_count": 302,
   "metadata": {},
   "outputs": [
    {
     "data": {
      "text/plain": [
       "True"
      ]
     },
     "execution_count": 302,
     "metadata": {},
     "output_type": "execute_result"
    }
   ],
   "source": [
    "almost_there(104)"
   ]
  },
  {
   "cell_type": "code",
   "execution_count": 303,
   "metadata": {},
   "outputs": [
    {
     "data": {
      "text/plain": [
       "False"
      ]
     },
     "execution_count": 303,
     "metadata": {},
     "output_type": "execute_result"
    }
   ],
   "source": [
    "almost_there(150)"
   ]
  },
  {
   "cell_type": "code",
   "execution_count": 304,
   "metadata": {},
   "outputs": [
    {
     "data": {
      "text/plain": [
       "True"
      ]
     },
     "execution_count": 304,
     "metadata": {},
     "output_type": "execute_result"
    }
   ],
   "source": [
    "almost_there(209)"
   ]
  },
  {
   "cell_type": "code",
   "execution_count": 305,
   "metadata": {},
   "outputs": [],
   "source": [
    "# A more efficient implementation using the abs() method\n",
    "\n",
    "def almost_there(number):\n",
    "    \n",
    "    return (abs(100 - number) <= 10) or (abs(200 - number) <= 10) "
   ]
  },
  {
   "cell_type": "code",
   "execution_count": 306,
   "metadata": {},
   "outputs": [
    {
     "data": {
      "text/plain": [
       "True"
      ]
     },
     "execution_count": 306,
     "metadata": {},
     "output_type": "execute_result"
    }
   ],
   "source": [
    "almost_there(104)"
   ]
  },
  {
   "cell_type": "code",
   "execution_count": 307,
   "metadata": {},
   "outputs": [
    {
     "data": {
      "text/plain": [
       "False"
      ]
     },
     "execution_count": 307,
     "metadata": {},
     "output_type": "execute_result"
    }
   ],
   "source": [
    "almost_there(150)"
   ]
  },
  {
   "cell_type": "code",
   "execution_count": 308,
   "metadata": {},
   "outputs": [
    {
     "data": {
      "text/plain": [
       "True"
      ]
     },
     "execution_count": 308,
     "metadata": {},
     "output_type": "execute_result"
    }
   ],
   "source": [
    "almost_there(209)"
   ]
  },
  {
   "cell_type": "code",
   "execution_count": 309,
   "metadata": {},
   "outputs": [],
   "source": [
    "# Lesson 53 "
   ]
  },
  {
   "cell_type": "code",
   "execution_count": 331,
   "metadata": {},
   "outputs": [],
   "source": [
    "# Coding Exercise 7 - Find 33\n",
    "#\n",
    "# Given an integer list, return True if there are adjacent '3's in the list\n",
    "\n",
    "def has_33(numberList):\n",
    "    \n",
    "    response = False\n",
    "    \n",
    "    # Check if the current integer value is the same as the next value\n",
    "    # Take one less than the actual length to avoid running out of values\n",
    "    for i in range(0, len(numberList)-1):\n",
    "        # compare the current value to the next value\n",
    "        if numberList[i] == 3 and numberList[i+1] == 3:\n",
    "            response = True\n",
    "    \n",
    "    return response"
   ]
  },
  {
   "cell_type": "code",
   "execution_count": 332,
   "metadata": {},
   "outputs": [
    {
     "data": {
      "text/plain": [
       "True"
      ]
     },
     "execution_count": 332,
     "metadata": {},
     "output_type": "execute_result"
    }
   ],
   "source": [
    "has_33([1, 3, 3])"
   ]
  },
  {
   "cell_type": "code",
   "execution_count": 333,
   "metadata": {},
   "outputs": [
    {
     "data": {
      "text/plain": [
       "False"
      ]
     },
     "execution_count": 333,
     "metadata": {},
     "output_type": "execute_result"
    }
   ],
   "source": [
    "has_33([1, 3, 1, 3])"
   ]
  },
  {
   "cell_type": "code",
   "execution_count": 334,
   "metadata": {},
   "outputs": [
    {
     "data": {
      "text/plain": [
       "False"
      ]
     },
     "execution_count": 334,
     "metadata": {},
     "output_type": "execute_result"
    }
   ],
   "source": [
    "has_33([3, 1, 3])"
   ]
  },
  {
   "cell_type": "code",
   "execution_count": 342,
   "metadata": {},
   "outputs": [],
   "source": [
    "# Perhaps a quicker, but more obfuscated implementation\n",
    "\n",
    "def has_33(numberList):\n",
    "    \n",
    "    response = False\n",
    "    \n",
    "    # Check if the current integer value is the same as the next value\n",
    "    # Take one less than the actual length to avoid running out of values\n",
    "    for i in range(0, len(numberList)-1):\n",
    "        # compare the current value to the next value using slicing\n",
    "        if numberList[i:i+2] == [3,3]:\n",
    "            response = True\n",
    "    \n",
    "    return response"
   ]
  },
  {
   "cell_type": "code",
   "execution_count": 343,
   "metadata": {},
   "outputs": [
    {
     "data": {
      "text/plain": [
       "True"
      ]
     },
     "execution_count": 343,
     "metadata": {},
     "output_type": "execute_result"
    }
   ],
   "source": [
    "has_33([1, 3, 3])"
   ]
  },
  {
   "cell_type": "code",
   "execution_count": 344,
   "metadata": {},
   "outputs": [
    {
     "data": {
      "text/plain": [
       "False"
      ]
     },
     "execution_count": 344,
     "metadata": {},
     "output_type": "execute_result"
    }
   ],
   "source": [
    "has_33([1, 3, 1, 3])"
   ]
  },
  {
   "cell_type": "code",
   "execution_count": 345,
   "metadata": {},
   "outputs": [
    {
     "data": {
      "text/plain": [
       "False"
      ]
     },
     "execution_count": 345,
     "metadata": {},
     "output_type": "execute_result"
    }
   ],
   "source": [
    "has_33([3, 1, 3])"
   ]
  },
  {
   "cell_type": "code",
   "execution_count": 3,
   "metadata": {},
   "outputs": [],
   "source": [
    "# Coding Exercise 34 - Paper Doll\n",
    "#\n",
    "# Triplicate every character in a given string, e.g. \"hello\" --> \"hhheeelllooo\"\n",
    "#\n",
    "\n",
    "def paper_doll(myString):\n",
    "    \n",
    "    newString = \"\"\n",
    "    \n",
    "    for character in myString:\n",
    "        newString += character * 3\n",
    "    \n",
    "    return newString"
   ]
  },
  {
   "cell_type": "code",
   "execution_count": 6,
   "metadata": {},
   "outputs": [
    {
     "data": {
      "text/plain": [
       "'hhheeellllllooo'"
      ]
     },
     "execution_count": 6,
     "metadata": {},
     "output_type": "execute_result"
    }
   ],
   "source": [
    "paper_doll(\"hello\")"
   ]
  },
  {
   "cell_type": "code",
   "execution_count": 23,
   "metadata": {},
   "outputs": [],
   "source": [
    "# Coding Exercise 35 - Blackjack\n",
    "#\n",
    "# Simulate the game with three numbers between 1 - 11 as input\n",
    "#     - if the sum <= 21, return the sum.\n",
    "#     - if the sum exceeds 21 and there is an 11, subtract 10 and return the sum\n",
    "#     - if the sum exceeds 21 after the adjustment, return \"BUST\"\n",
    "\n",
    "def blackjack(num1, num2, num3):\n",
    "\n",
    "    numSum = num1 + num2 + num3\n",
    "    \n",
    "    if num1 == 11 or num2 == 11 or num3 == 11:\n",
    "        numSum -= 10\n",
    "\n",
    "    if numSum <= 21\n",
    "        return numSum\n",
    "    else:\n",
    "        return \"BUST\""
   ]
  },
  {
   "cell_type": "code",
   "execution_count": 27,
   "metadata": {},
   "outputs": [
    {
     "data": {
      "text/plain": [
       "18"
      ]
     },
     "execution_count": 27,
     "metadata": {},
     "output_type": "execute_result"
    }
   ],
   "source": [
    "blackjack(5,6,7)"
   ]
  },
  {
   "cell_type": "code",
   "execution_count": 28,
   "metadata": {},
   "outputs": [
    {
     "data": {
      "text/plain": [
       "'BUST'"
      ]
     },
     "execution_count": 28,
     "metadata": {},
     "output_type": "execute_result"
    }
   ],
   "source": [
    "blackjack(9,9,9)"
   ]
  },
  {
   "cell_type": "code",
   "execution_count": 31,
   "metadata": {},
   "outputs": [
    {
     "data": {
      "text/plain": [
       "19"
      ]
     },
     "execution_count": 31,
     "metadata": {},
     "output_type": "execute_result"
    }
   ],
   "source": [
    "blackjack(9,9,11)"
   ]
  },
  {
   "cell_type": "code",
   "execution_count": 47,
   "metadata": {},
   "outputs": [],
   "source": [
    "# Another implementation\n",
    "\n",
    "def blackjack(a, b, c):\n",
    "    \n",
    "    if sum([a, b, c]) <= 21:\n",
    "        return sum([a, b, c])\n",
    "    elif 11 in [a, b, c] and (sum([a, b, c]) - 10) <= 21:\n",
    "        return sum([a, b, c]) - 10\n",
    "    else:\n",
    "        return \"BUSTED\""
   ]
  },
  {
   "cell_type": "code",
   "execution_count": 48,
   "metadata": {},
   "outputs": [
    {
     "data": {
      "text/plain": [
       "18"
      ]
     },
     "execution_count": 48,
     "metadata": {},
     "output_type": "execute_result"
    }
   ],
   "source": [
    "blackjack(5,6,7)"
   ]
  },
  {
   "cell_type": "code",
   "execution_count": 49,
   "metadata": {},
   "outputs": [
    {
     "data": {
      "text/plain": [
       "'BUSTED'"
      ]
     },
     "execution_count": 49,
     "metadata": {},
     "output_type": "execute_result"
    }
   ],
   "source": [
    "blackjack(9,9,9)"
   ]
  },
  {
   "cell_type": "code",
   "execution_count": 50,
   "metadata": {},
   "outputs": [
    {
     "data": {
      "text/plain": [
       "19"
      ]
     },
     "execution_count": 50,
     "metadata": {},
     "output_type": "execute_result"
    }
   ],
   "source": [
    "blackjack(9,9,11)"
   ]
  },
  {
   "cell_type": "code",
   "execution_count": 52,
   "metadata": {},
   "outputs": [],
   "source": [
    "# My implementation. It's simpler\n",
    "\n",
    "def blackjack(num1, num2, num3):\n",
    "\n",
    "    numSum = sum([num1, num2, num3])\n",
    "    \n",
    "    if 11 in [num1, num2, num3]:\n",
    "        numSum -= 10\n",
    "\n",
    "    if numSum <= 21:\n",
    "        return numSum\n",
    "    else:\n",
    "        return \"BUST\""
   ]
  },
  {
   "cell_type": "code",
   "execution_count": 53,
   "metadata": {},
   "outputs": [
    {
     "data": {
      "text/plain": [
       "18"
      ]
     },
     "execution_count": 53,
     "metadata": {},
     "output_type": "execute_result"
    }
   ],
   "source": [
    "blackjack(5,6,7)"
   ]
  },
  {
   "cell_type": "code",
   "execution_count": 54,
   "metadata": {},
   "outputs": [
    {
     "data": {
      "text/plain": [
       "'BUST'"
      ]
     },
     "execution_count": 54,
     "metadata": {},
     "output_type": "execute_result"
    }
   ],
   "source": [
    "blackjack(9,9,9)"
   ]
  },
  {
   "cell_type": "code",
   "execution_count": 55,
   "metadata": {},
   "outputs": [
    {
     "data": {
      "text/plain": [
       "19"
      ]
     },
     "execution_count": 55,
     "metadata": {},
     "output_type": "execute_result"
    }
   ],
   "source": [
    "blackjack(9,9,11)"
   ]
  },
  {
   "cell_type": "code",
   "execution_count": 123,
   "metadata": {},
   "outputs": [],
   "source": [
    "# Coding Exercise 36 - Summer of 69\n",
    "#\n",
    "# Return the sum of integers in an array.\n",
    "# Ignore sections of numbers starting with 6 and ending with 9. (Every 6 will be followed by at least one 9)\n",
    "# Return 0 for no integers outside of a 6 and a 9.\n",
    "\n",
    "def summer_69(numberList):\n",
    "    \n",
    "    returnValue = 0\n",
    "    \n",
    "    if 6 not in numberList and 9 not in numberList:\n",
    "        value = sum(numberList)\n",
    "    else:\n",
    "        # Assume at least one 6 and 9 in the list\n",
    "        startIndex = numberList.index(6)\n",
    "        endIndex = numberList.index(9)\n",
    "        \n",
    "        # sum everything up to the 6 and after the 9\n",
    "        value = sum(numberList[:startIndex]) + sum(numberList[endIndex+1:])\n",
    "            \n",
    "    return value"
   ]
  },
  {
   "cell_type": "code",
   "execution_count": 124,
   "metadata": {},
   "outputs": [
    {
     "data": {
      "text/plain": [
       "9"
      ]
     },
     "execution_count": 124,
     "metadata": {},
     "output_type": "execute_result"
    }
   ],
   "source": [
    "summer_69([1, 3, 5])"
   ]
  },
  {
   "cell_type": "code",
   "execution_count": 125,
   "metadata": {},
   "outputs": [
    {
     "data": {
      "text/plain": [
       "0"
      ]
     },
     "execution_count": 125,
     "metadata": {},
     "output_type": "execute_result"
    }
   ],
   "source": [
    "summer_69([6, 1, 2, 3, 9])"
   ]
  },
  {
   "cell_type": "code",
   "execution_count": 126,
   "metadata": {},
   "outputs": [
    {
     "data": {
      "text/plain": [
       "6"
      ]
     },
     "execution_count": 126,
     "metadata": {},
     "output_type": "execute_result"
    }
   ],
   "source": [
    "summer_69([1, 2, 3, 6, 4, 5, 9])"
   ]
  },
  {
   "cell_type": "code",
   "execution_count": 127,
   "metadata": {},
   "outputs": [
    {
     "data": {
      "text/plain": [
       "7"
      ]
     },
     "execution_count": 127,
     "metadata": {},
     "output_type": "execute_result"
    }
   ],
   "source": [
    "summer_69([1, 2, 3, 6, 4, 5, 9, 1])"
   ]
  },
  {
   "cell_type": "code",
   "execution_count": 128,
   "metadata": {},
   "outputs": [],
   "source": [
    "# Another implementation. I prefer the first one because it is more readable.\n",
    "\n",
    "def summer_69(numberList):\n",
    "    \n",
    "    total = 0\n",
    "    add = True\n",
    "    \n",
    "    for number in numberList:\n",
    "        while add:\n",
    "            if number != 6:\n",
    "                total += number\n",
    "                break\n",
    "            else:\n",
    "                add = False\n",
    "        while not add:\n",
    "            if number != 9:\n",
    "                break\n",
    "            else:\n",
    "                add = True\n",
    "                break\n",
    "                \n",
    "    return total"
   ]
  },
  {
   "cell_type": "code",
   "execution_count": 129,
   "metadata": {},
   "outputs": [
    {
     "data": {
      "text/plain": [
       "9"
      ]
     },
     "execution_count": 129,
     "metadata": {},
     "output_type": "execute_result"
    }
   ],
   "source": [
    "summer_69([1, 3, 5])"
   ]
  },
  {
   "cell_type": "code",
   "execution_count": 130,
   "metadata": {},
   "outputs": [
    {
     "data": {
      "text/plain": [
       "0"
      ]
     },
     "execution_count": 130,
     "metadata": {},
     "output_type": "execute_result"
    }
   ],
   "source": [
    "summer_69([6, 1, 2, 3, 9])"
   ]
  },
  {
   "cell_type": "code",
   "execution_count": 131,
   "metadata": {},
   "outputs": [
    {
     "data": {
      "text/plain": [
       "6"
      ]
     },
     "execution_count": 131,
     "metadata": {},
     "output_type": "execute_result"
    }
   ],
   "source": [
    "summer_69([1, 2, 3, 6, 4, 5, 9])"
   ]
  },
  {
   "cell_type": "code",
   "execution_count": 132,
   "metadata": {},
   "outputs": [
    {
     "data": {
      "text/plain": [
       "7"
      ]
     },
     "execution_count": 132,
     "metadata": {},
     "output_type": "execute_result"
    }
   ],
   "source": [
    "summer_69([1, 2, 3, 6, 4, 5, 9, 1])"
   ]
  },
  {
   "cell_type": "code",
   "execution_count": 208,
   "metadata": {},
   "outputs": [],
   "source": [
    "# Coding Exercise 37 - Spy Game\n",
    "#\n",
    "# If a list of integers contains the numbers in the order 007, return true.\n",
    "# NOTE: 007 do NOT have to be in consecutive order.\n",
    "\n",
    "def spy_game(numberList):\n",
    "    \n",
    "    # Using another data structure here.\n",
    "    code = [0,0,7,'remainder']\n",
    "    \n",
    "    for number in numberList:\n",
    "        if number == code[0]:\n",
    "            # remove the 2 0s and 7 from the code\n",
    "            code.pop(0)\n",
    "    \n",
    "    # If the length of code is 1 (i.e. only 'remainder' is left) we found the sequence.\n",
    "    return len(code) == 1\n",
    "    \n",
    "    "
   ]
  },
  {
   "cell_type": "code",
   "execution_count": 209,
   "metadata": {},
   "outputs": [
    {
     "data": {
      "text/plain": [
       "True"
      ]
     },
     "execution_count": 209,
     "metadata": {},
     "output_type": "execute_result"
    }
   ],
   "source": [
    "spy_game([1, 2, 4, 0, 0, 7, 5])"
   ]
  },
  {
   "cell_type": "code",
   "execution_count": 210,
   "metadata": {},
   "outputs": [
    {
     "data": {
      "text/plain": [
       "True"
      ]
     },
     "execution_count": 210,
     "metadata": {},
     "output_type": "execute_result"
    }
   ],
   "source": [
    "spy_game([1, 0, 2, 4, 0, 5, 7])"
   ]
  },
  {
   "cell_type": "code",
   "execution_count": 211,
   "metadata": {},
   "outputs": [
    {
     "data": {
      "text/plain": [
       "False"
      ]
     },
     "execution_count": 211,
     "metadata": {},
     "output_type": "execute_result"
    }
   ],
   "source": [
    "spy_game([1, 7, 2, 0, 4, 5, 0])"
   ]
  },
  {
   "cell_type": "code",
   "execution_count": 268,
   "metadata": {},
   "outputs": [],
   "source": [
    "# Coding Exercise 38 - Count Primes\n",
    "#\n",
    "# Return the number of prime numbers up to and including the input number.\n",
    "#\n",
    "# 0 and 1 will not be counted as primes.\n",
    "\n",
    "def count_primes(maxNumber):\n",
    " \n",
    "    if maxNumber > 1:\n",
    "        for number in range(2, maxNumber + 1):\n",
    "           for i in range(2, number):\n",
    "               if (number % i) == 0:\n",
    "                   break\n",
    "           else:\n",
    "               print(number)\n",
    "    else:\n",
    "        print(f\"Prime numbers must be >= 2\")"
   ]
  },
  {
   "cell_type": "code",
   "execution_count": 271,
   "metadata": {},
   "outputs": [
    {
     "name": "stdout",
     "output_type": "stream",
     "text": [
      "2\n",
      "3\n",
      "5\n",
      "7\n",
      "11\n",
      "13\n",
      "17\n",
      "19\n",
      "23\n",
      "29\n",
      "31\n",
      "37\n",
      "41\n",
      "43\n",
      "47\n"
     ]
    }
   ],
   "source": [
    "count_primes(51)"
   ]
  },
  {
   "cell_type": "code",
   "execution_count": 272,
   "metadata": {},
   "outputs": [],
   "source": [
    "# Lesson 55"
   ]
  },
  {
   "cell_type": "code",
   "execution_count": 273,
   "metadata": {},
   "outputs": [],
   "source": [
    "# Create a quick function to be used by map()\n",
    "\n",
    "def square(number):\n",
    "    return number**2"
   ]
  },
  {
   "cell_type": "code",
   "execution_count": 274,
   "metadata": {},
   "outputs": [],
   "source": [
    "myNumberList = [1, 2, 3, 4, 5]"
   ]
  },
  {
   "cell_type": "code",
   "execution_count": 277,
   "metadata": {},
   "outputs": [
    {
     "data": {
      "text/plain": [
       "<map at 0x10653c940>"
      ]
     },
     "execution_count": 277,
     "metadata": {},
     "output_type": "execute_result"
    }
   ],
   "source": [
    "map(square, myNumberList)"
   ]
  },
  {
   "cell_type": "code",
   "execution_count": 278,
   "metadata": {},
   "outputs": [],
   "source": [
    "# the above only tells us where the map function is in memory."
   ]
  },
  {
   "cell_type": "code",
   "execution_count": 282,
   "metadata": {},
   "outputs": [
    {
     "data": {
      "text/plain": [
       "[1, 4, 9, 16, 25]"
      ]
     },
     "execution_count": 282,
     "metadata": {},
     "output_type": "execute_result"
    }
   ],
   "source": [
    "# To return the list of squares,\n",
    "\n",
    "list(map(square, myNumberList))"
   ]
  },
  {
   "cell_type": "code",
   "execution_count": 284,
   "metadata": {},
   "outputs": [],
   "source": [
    "# A slightly more complex function example, that shows map() works the same way\n",
    "\n",
    "def stringSlicer(string):\n",
    "    if len(string) % 2 == 0:\n",
    "        return 'EVEN'\n",
    "    else:\n",
    "        return 'ODD'"
   ]
  },
  {
   "cell_type": "code",
   "execution_count": 285,
   "metadata": {},
   "outputs": [],
   "source": [
    "names = ['Andy', 'Eve', 'Sally']"
   ]
  },
  {
   "cell_type": "code",
   "execution_count": 286,
   "metadata": {},
   "outputs": [
    {
     "data": {
      "text/plain": [
       "['EVEN', 'ODD', 'ODD']"
      ]
     },
     "execution_count": 286,
     "metadata": {},
     "output_type": "execute_result"
    }
   ],
   "source": [
    "list(map(stringSlicer, names))"
   ]
  },
  {
   "cell_type": "code",
   "execution_count": 290,
   "metadata": {},
   "outputs": [],
   "source": [
    "# Create a quick function to be used by filter()\n",
    "\n",
    "def check_even(number):\n",
    "    return number % 2 == 0"
   ]
  },
  {
   "cell_type": "code",
   "execution_count": 291,
   "metadata": {},
   "outputs": [],
   "source": [
    "myNumbers = [1, 2, 3, 4, 5, 6]"
   ]
  },
  {
   "cell_type": "code",
   "execution_count": 292,
   "metadata": {},
   "outputs": [
    {
     "data": {
      "text/plain": [
       "[2, 4, 6]"
      ]
     },
     "execution_count": 292,
     "metadata": {},
     "output_type": "execute_result"
    }
   ],
   "source": [
    "list(filter(check_even, myNumbers))"
   ]
  },
  {
   "cell_type": "code",
   "execution_count": 294,
   "metadata": {},
   "outputs": [
    {
     "name": "stdout",
     "output_type": "stream",
     "text": [
      "2\n",
      "4\n",
      "6\n"
     ]
    }
   ],
   "source": [
    "# We can simply iterate, if desired, instead of transforming to a list, e.g.\n",
    "\n",
    "for number in filter(check_even, myNumbers):\n",
    "    print(number)"
   ]
  },
  {
   "cell_type": "code",
   "execution_count": 295,
   "metadata": {},
   "outputs": [],
   "source": [
    "# Connecting map(), filter(), and lambda functions together, we will take one of the above functions and convert\n",
    "# to a lambda function.\n",
    "\n",
    "def square(number):\n",
    "    \n",
    "    result = number**2\n",
    "    \n",
    "    return result"
   ]
  },
  {
   "cell_type": "code",
   "execution_count": 296,
   "metadata": {},
   "outputs": [
    {
     "data": {
      "text/plain": [
       "9"
      ]
     },
     "execution_count": 296,
     "metadata": {},
     "output_type": "execute_result"
    }
   ],
   "source": [
    "square(3)"
   ]
  },
  {
   "cell_type": "code",
   "execution_count": 299,
   "metadata": {},
   "outputs": [],
   "source": [
    "# Changing the square() to a lambda function to use with map()\n",
    "\n",
    "square = lambda number: number ** 2"
   ]
  },
  {
   "cell_type": "code",
   "execution_count": 303,
   "metadata": {},
   "outputs": [
    {
     "data": {
      "text/plain": [
       "25"
      ]
     },
     "execution_count": 303,
     "metadata": {},
     "output_type": "execute_result"
    }
   ],
   "source": [
    "square(5)"
   ]
  },
  {
   "cell_type": "code",
   "execution_count": 302,
   "metadata": {},
   "outputs": [
    {
     "data": {
      "text/plain": [
       "[1, 4, 9, 16]"
      ]
     },
     "execution_count": 302,
     "metadata": {},
     "output_type": "execute_result"
    }
   ],
   "source": [
    "# Connecting the lambda and map() functions,\n",
    "\n",
    "list(map(lambda number: number**2, [1, 2, 3, 4]))"
   ]
  },
  {
   "cell_type": "code",
   "execution_count": 305,
   "metadata": {},
   "outputs": [
    {
     "data": {
      "text/plain": [
       "[2, 4, 6]"
      ]
     },
     "execution_count": 305,
     "metadata": {},
     "output_type": "execute_result"
    }
   ],
   "source": [
    "# Changing the check_even() to a lambda function to use with filter()\n",
    "\n",
    "list (filter(lambda number: number % 2 == 0, [1, 2, 3, 4, 5, 6]))"
   ]
  },
  {
   "cell_type": "code",
   "execution_count": 306,
   "metadata": {},
   "outputs": [],
   "source": [
    "# More examples of what a lambda function can do using the names list from above."
   ]
  },
  {
   "cell_type": "code",
   "execution_count": 308,
   "metadata": {},
   "outputs": [
    {
     "data": {
      "text/plain": [
       "['Andy', 'Eve', 'Sally']"
      ]
     },
     "execution_count": 308,
     "metadata": {},
     "output_type": "execute_result"
    }
   ],
   "source": [
    "names"
   ]
  },
  {
   "cell_type": "code",
   "execution_count": 310,
   "metadata": {},
   "outputs": [
    {
     "data": {
      "text/plain": [
       "['A', 'E', 'S']"
      ]
     },
     "execution_count": 310,
     "metadata": {},
     "output_type": "execute_result"
    }
   ],
   "source": [
    "list(map(lambda name: name[0], names))"
   ]
  },
  {
   "cell_type": "code",
   "execution_count": 311,
   "metadata": {},
   "outputs": [
    {
     "data": {
      "text/plain": [
       "['ydnA', 'evE', 'yllaS']"
      ]
     },
     "execution_count": 311,
     "metadata": {},
     "output_type": "execute_result"
    }
   ],
   "source": [
    "list(map(lambda name: name[::-1], names))"
   ]
  },
  {
   "cell_type": "code",
   "execution_count": 312,
   "metadata": {},
   "outputs": [],
   "source": [
    "# Lesson 56"
   ]
  },
  {
   "cell_type": "code",
   "execution_count": 313,
   "metadata": {},
   "outputs": [],
   "source": [
    "number = 25\n",
    "\n",
    "def printNumber():\n",
    "    number = 50\n",
    "    \n",
    "    return number"
   ]
  },
  {
   "cell_type": "code",
   "execution_count": 314,
   "metadata": {},
   "outputs": [
    {
     "name": "stdout",
     "output_type": "stream",
     "text": [
      "25\n"
     ]
    }
   ],
   "source": [
    "print(number)"
   ]
  },
  {
   "cell_type": "code",
   "execution_count": 315,
   "metadata": {},
   "outputs": [
    {
     "name": "stdout",
     "output_type": "stream",
     "text": [
      "50\n"
     ]
    }
   ],
   "source": [
    "print(printNumber())"
   ]
  },
  {
   "cell_type": "code",
   "execution_count": 324,
   "metadata": {},
   "outputs": [],
   "source": [
    "# Example of E: Enclosing scope\n",
    "\n",
    "# Global variable\n",
    "name = \"This is a global string\"\n",
    "\n",
    "def greet():\n",
    "    \n",
    "    # Enclosing variable\n",
    "    name = \"Sammy\"\n",
    "    \n",
    "    def hello():\n",
    "        \n",
    "        # Local variable\n",
    "        name = \"Local\"\n",
    "        \n",
    "        print(\"Hello \" + name)\n",
    "        \n",
    "    hello()"
   ]
  },
  {
   "cell_type": "code",
   "execution_count": 325,
   "metadata": {},
   "outputs": [
    {
     "name": "stdout",
     "output_type": "stream",
     "text": [
      "Hello Local\n"
     ]
    }
   ],
   "source": [
    "greet()"
   ]
  },
  {
   "cell_type": "code",
   "execution_count": 326,
   "metadata": {},
   "outputs": [],
   "source": [
    "# Example showing how to affect a global variable inside a function\n",
    "\n",
    "# Global assignment\n",
    "x = 50\n",
    "\n",
    "def myFunc():\n",
    "    \n",
    "    global x\n",
    "    \n",
    "    print(f\"x = {x}\")\n",
    "    \n",
    "    # Local reassignment\n",
    "    \n",
    "    x = 200\n",
    "    \n",
    "    print(f\"x changed to {x}\")"
   ]
  },
  {
   "cell_type": "code",
   "execution_count": 329,
   "metadata": {},
   "outputs": [
    {
     "name": "stdout",
     "output_type": "stream",
     "text": [
      "x = 50\n",
      "x changed to 200\n"
     ]
    }
   ],
   "source": [
    "myFunc()"
   ]
  },
  {
   "cell_type": "code",
   "execution_count": 330,
   "metadata": {},
   "outputs": [],
   "source": [
    "# Lessons 57 and 58 - Homework"
   ]
  },
  {
   "cell_type": "code",
   "execution_count": 331,
   "metadata": {},
   "outputs": [],
   "source": [
    "# Homework 1 - volume\n",
    "#\n",
    "# Create a function to calculate and return the volume of a sphere given its radius\n",
    "#\n",
    "# The mathematical function is: 4     3 \n",
    "#                               - pi r\n",
    "#                               3\n",
    "\n",
    "from math import pi\n",
    "\n",
    "def volume(radius):\n",
    "    \n",
    "    return (4/3) * pi * (radius**3)\n"
   ]
  },
  {
   "cell_type": "code",
   "execution_count": 332,
   "metadata": {},
   "outputs": [
    {
     "data": {
      "text/plain": [
       "33.510321638291124"
      ]
     },
     "execution_count": 332,
     "metadata": {},
     "output_type": "execute_result"
    }
   ],
   "source": [
    "volume(2)"
   ]
  },
  {
   "cell_type": "code",
   "execution_count": 338,
   "metadata": {},
   "outputs": [],
   "source": [
    "# Homework 2 - ran_check\n",
    "#\n",
    "# Create a function that checks if a given number is in a given range, (inclusive of high and low numbers)\n",
    "\n",
    "def run_check(number, low, high):\n",
    "    \n",
    "    isInRange = False\n",
    "    \n",
    "    if low <= number <= high:\n",
    "        isInRange = True\n",
    "\n",
    "    return isInRange"
   ]
  },
  {
   "cell_type": "code",
   "execution_count": 343,
   "metadata": {},
   "outputs": [
    {
     "data": {
      "text/plain": [
       "False"
      ]
     },
     "execution_count": 343,
     "metadata": {},
     "output_type": "execute_result"
    }
   ],
   "source": [
    "run_check(8, 2, 7)"
   ]
  },
  {
   "cell_type": "code",
   "execution_count": 344,
   "metadata": {},
   "outputs": [
    {
     "data": {
      "text/plain": [
       "True"
      ]
     },
     "execution_count": 344,
     "metadata": {},
     "output_type": "execute_result"
    }
   ],
   "source": [
    "run_check(5, 2, 7)"
   ]
  },
  {
   "cell_type": "code",
   "execution_count": 345,
   "metadata": {},
   "outputs": [],
   "source": [
    "# Using range()\n",
    "\n",
    "def run_check(number, low, high):\n",
    "    \n",
    "    isInRange = False\n",
    "    \n",
    "    # Remember to add one to high because range is 0-based.\n",
    "    if number in range(low, high+1):\n",
    "        isInRange = True\n",
    "\n",
    "    return isInRange"
   ]
  },
  {
   "cell_type": "code",
   "execution_count": 346,
   "metadata": {},
   "outputs": [
    {
     "data": {
      "text/plain": [
       "False"
      ]
     },
     "execution_count": 346,
     "metadata": {},
     "output_type": "execute_result"
    }
   ],
   "source": [
    "run_check(8, 2, 7)"
   ]
  },
  {
   "cell_type": "code",
   "execution_count": 347,
   "metadata": {},
   "outputs": [
    {
     "data": {
      "text/plain": [
       "True"
      ]
     },
     "execution_count": 347,
     "metadata": {},
     "output_type": "execute_result"
    }
   ],
   "source": [
    "run_check(7, 2, 7)"
   ]
  },
  {
   "cell_type": "code",
   "execution_count": 348,
   "metadata": {},
   "outputs": [],
   "source": [
    "# Another example printing out some text.\n",
    "\n",
    "def run_check(number, low, high):\n",
    "    \n",
    "    isInRange = \"\"\n",
    "    \n",
    "    # Remember to add one to high because range is 0-based.\n",
    "    if number in range(low, high+1):\n",
    "        print(f\"{number} is in the range of {low} to {high}\")\n",
    "    else:\n",
    "        print(f\"{number} is NOT in the range of {low} to {high}\")"
   ]
  },
  {
   "cell_type": "code",
   "execution_count": 349,
   "metadata": {},
   "outputs": [
    {
     "name": "stdout",
     "output_type": "stream",
     "text": [
      "8 is NOT in the range of 2 to 7\n"
     ]
    }
   ],
   "source": [
    "run_check(8, 2, 7)"
   ]
  },
  {
   "cell_type": "code",
   "execution_count": 350,
   "metadata": {},
   "outputs": [
    {
     "name": "stdout",
     "output_type": "stream",
     "text": [
      "5 is in the range of 2 to 7\n"
     ]
    }
   ],
   "source": [
    "run_check(5, 2, 7)"
   ]
  },
  {
   "cell_type": "code",
   "execution_count": 362,
   "metadata": {},
   "outputs": [],
   "source": [
    "# Homework 3 - Create a function that accepts a string and calculates the number of upper and lower case characters.\n",
    "\n",
    "def up_low(myString):\n",
    "    \n",
    "    # Using a dictionary for the counts\n",
    "    \n",
    "    counts = {\"upper\":0, \"lower\":0}\n",
    "    \n",
    "    for character in myString:\n",
    "        if character.isupper():\n",
    "            counts[\"upper\"] += 1\n",
    "        elif character.islower():\n",
    "            counts[\"lower\"] += 1\n",
    "    \n",
    "    print(f\"String: {myString}\")\n",
    "    \n",
    "    # Remember, to match \"\" and '', they cannot be intermixed.\n",
    "    print(f\"Number of upper case characters: {counts['upper']}\")\n",
    "    print(f\"Number of lower case characters: {counts['lower']}\")\n",
    "    "
   ]
  },
  {
   "cell_type": "code",
   "execution_count": 363,
   "metadata": {},
   "outputs": [
    {
     "name": "stdout",
     "output_type": "stream",
     "text": [
      "String: Hello Mr. Rogers, how are you this fine Tuesday?\n",
      "Number of upper case characters: 4\n",
      "Number of lower case characters: 33\n"
     ]
    }
   ],
   "source": [
    "up_low(\"Hello Mr. Rogers, how are you this fine Tuesday?\")"
   ]
  },
  {
   "cell_type": "code",
   "execution_count": 368,
   "metadata": {},
   "outputs": [],
   "source": [
    "# Homework 4 - Create a function that accepts a list and returns a new list with unique elements of the input list.\n",
    "\n",
    "def unique_list(myList):\n",
    "    \n",
    "    # QED :-)\n",
    "    \n",
    "    return list(set(myList))"
   ]
  },
  {
   "cell_type": "code",
   "execution_count": 369,
   "metadata": {},
   "outputs": [
    {
     "data": {
      "text/plain": [
       "[1, 2, 3, 4, 5]"
      ]
     },
     "execution_count": 369,
     "metadata": {},
     "output_type": "execute_result"
    }
   ],
   "source": [
    "unique_list([1, 1, 1, 2, 3, 3, 3, 4, 4, 5])"
   ]
  },
  {
   "cell_type": "code",
   "execution_count": 370,
   "metadata": {},
   "outputs": [],
   "source": [
    "# A more \"manual\" method.\n",
    "#\n",
    "# NOTE: This will be slower for very large lists. set() is recommended.\n",
    "\n",
    "def unique_list(myList):\n",
    "    \n",
    "    seen_numbers = []\n",
    "    \n",
    "    for number in myList:\n",
    "        if number not in seen_numbers:\n",
    "            seen_numbers.append(number)\n",
    "    \n",
    "    return seen_numbers"
   ]
  },
  {
   "cell_type": "code",
   "execution_count": 371,
   "metadata": {},
   "outputs": [
    {
     "data": {
      "text/plain": [
       "[1, 2, 3, 4, 5]"
      ]
     },
     "execution_count": 371,
     "metadata": {},
     "output_type": "execute_result"
    }
   ],
   "source": [
    "unique_list([1, 1, 1, 2, 3, 3, 3, 4, 4, 5])"
   ]
  },
  {
   "cell_type": "code",
   "execution_count": 382,
   "metadata": {},
   "outputs": [],
   "source": [
    "# Homework 5 - Create a function that multiplies all numbers in a list\n",
    "\n",
    "def multiply(myNumbers):\n",
    "    \n",
    "    # Have to initialize product, but it cannot be 0. Instead make it 1.\n",
    "    product = 1\n",
    "    \n",
    "    for number in myNumbers:\n",
    "        product *= number\n",
    "        \n",
    "    return product"
   ]
  },
  {
   "cell_type": "code",
   "execution_count": 383,
   "metadata": {},
   "outputs": [
    {
     "data": {
      "text/plain": [
       "-24"
      ]
     },
     "execution_count": 383,
     "metadata": {},
     "output_type": "execute_result"
    }
   ],
   "source": [
    "multiply([1, 2, 3, -4])"
   ]
  },
  {
   "cell_type": "code",
   "execution_count": 410,
   "metadata": {},
   "outputs": [],
   "source": [
    "# Homework 6 - Create a function that determines if a word or phrase is a palindrome.\n",
    "\n",
    "def checkIfPalindrome(myString):\n",
    "    \n",
    "    # Remove any spaces from myString, (if it is a phrase), e.g. \"nurses run\"\n",
    "    \n",
    "    myString = myString.replace(' ', '')\n",
    "    \n",
    "    # Check if the reversed string compares to, (==) the original string\n",
    "        \n",
    "    return myString == myString[::-1]"
   ]
  },
  {
   "cell_type": "code",
   "execution_count": 409,
   "metadata": {},
   "outputs": [
    {
     "data": {
      "text/plain": [
       "True"
      ]
     },
     "execution_count": 409,
     "metadata": {},
     "output_type": "execute_result"
    }
   ],
   "source": [
    "checkIfPalindrome(\"nurses run\")"
   ]
  },
  {
   "cell_type": "code",
   "execution_count": 426,
   "metadata": {},
   "outputs": [],
   "source": [
    "# Homework 7 - Create a function that determines if a string is a pangram.\n",
    "#\n",
    "# Pangrams are words or sentences that contain every character of the alphabet at least once,\n",
    "#   \"The quick brown fox jumped over the lazy dog\"\n",
    "#\n",
    "# Assume no punctuation for this exercise.\n",
    "\n",
    "import string\n",
    "\n",
    "def checkIfPangram(mystring, alphabet=string.ascii_lowercase):\n",
    "    \n",
    "    # Create a set of the alphabet.\n",
    "    alphabetSet = set(alphabet)\n",
    "    \n",
    "    # Remove all spaces from myString and convert to all lowercase and create a set\n",
    "    myString = set(mystring.replace(' ', '').lower())\n",
    "    \n",
    "    # Compare the two sets\n",
    "    return myString == alphabetSet"
   ]
  },
  {
   "cell_type": "code",
   "execution_count": 428,
   "metadata": {},
   "outputs": [
    {
     "data": {
      "text/plain": [
       "False"
      ]
     },
     "execution_count": 428,
     "metadata": {},
     "output_type": "execute_result"
    }
   ],
   "source": [
    "checkIfPangram(\"The quick brown fox jumps over the lazy dog\")"
   ]
  },
  {
   "cell_type": "code",
   "execution_count": 431,
   "metadata": {},
   "outputs": [],
   "source": [
    "# This could be compressed as follows, (keep readability in mind though).\n",
    "# This could be ok, if commented properly.\n",
    "\n",
    "import string\n",
    "\n",
    "def checkIfPangram(mystring, alphabet=string.ascii_lowercase):\n",
    "    \n",
    "    return set(mystring.replace(' ', '').lower()) == set(alphabet)"
   ]
  },
  {
   "cell_type": "code",
   "execution_count": 434,
   "metadata": {},
   "outputs": [
    {
     "data": {
      "text/plain": [
       "True"
      ]
     },
     "execution_count": 434,
     "metadata": {},
     "output_type": "execute_result"
    }
   ],
   "source": [
    "checkIfPangram(\"The quick brown fox jumps over the lazy dog\")"
   ]
  }
 ],
 "metadata": {
  "kernelspec": {
   "display_name": "Python 3",
   "language": "python",
   "name": "python3"
  },
  "language_info": {
   "codemirror_mode": {
    "name": "ipython",
    "version": 3
   },
   "file_extension": ".py",
   "mimetype": "text/x-python",
   "name": "python",
   "nbconvert_exporter": "python",
   "pygments_lexer": "ipython3",
   "version": "3.9.13"
  }
 },
 "nbformat": 4,
 "nbformat_minor": 4
}
